{
 "cells": [
  {
   "cell_type": "markdown",
   "id": "1331faa1",
   "metadata": {},
   "source": [
    "You can order print and ebook versions of *Think Python 3e* from\n",
    "[Bookshop.org](https://bookshop.org/a/98697/9781098155438) and\n",
    "[Amazon](https://www.amazon.com/_/dp/1098155432?smid=ATVPDKIKX0DER&_encoding=UTF8&tag=oreilly20-20&_encoding=UTF8&tag=greenteapre01-20&linkCode=ur2&linkId=e2a529f94920295d27ec8a06e757dc7c&camp=1789&creative=9325)."
   ]
  },
  {
   "cell_type": "code",
   "execution_count": 1,
   "id": "bde1c3f9",
   "metadata": {
    "tags": []
   },
   "outputs": [],
   "source": []
  },
  {
   "cell_type": "markdown",
   "id": "3c25ca7e",
   "metadata": {},
   "source": [
    "# Lists\n",
    "\n",
    "This chapter presents one of Python's most useful built-in types, lists.\n",
    "You will also learn more about objects and what can happen when multiple variables refer to the same object.\n",
    "\n",
    "In the exercises at the end of the chapter, we'll make a word list and use it to search for special words like palindromes and anagrams."
   ]
  },
  {
   "cell_type": "markdown",
   "id": "4d32b3e2",
   "metadata": {},
   "source": [
    "## A list is a sequence\n",
    "\n",
    "Like a string, a **list** is a sequence of values. In a string, the\n",
    "values are characters; in a list, they can be any type.\n",
    "The values in a list are called **elements**.\n",
    "\n",
    "There are several ways to create a new list; the simplest is to enclose the elements in square brackets (`[` and `]`).\n",
    "For example, here is a list of two integers. "
   ]
  },
  {
   "cell_type": "code",
   "execution_count": 1,
   "id": "a16a119b",
   "metadata": {},
   "outputs": [],
   "source": [
    "numbers = [42, 123]"
   ]
  },
  {
   "cell_type": "markdown",
   "id": "b5d6112c",
   "metadata": {},
   "source": [
    "And here's a list of three strings."
   ]
  },
  {
   "cell_type": "code",
   "execution_count": 2,
   "id": "ac7a4a0b",
   "metadata": {},
   "outputs": [],
   "source": [
    "cheeses = ['Cheddar', 'Edam', 'Gouda']"
   ]
  },
  {
   "cell_type": "markdown",
   "id": "dda58c67",
   "metadata": {},
   "source": [
    "The elements of a list don't have to be the same type.\n",
    "The following list contains a string, a float, an integer, and even another list."
   ]
  },
  {
   "cell_type": "code",
   "execution_count": 3,
   "id": "18fb0e21",
   "metadata": {},
   "outputs": [],
   "source": [
    "t = ['spam', 2.0, 5, [10, 20]]"
   ]
  },
  {
   "cell_type": "markdown",
   "id": "147fa217",
   "metadata": {},
   "source": [
    "A list within another list is **nested**.\n",
    "\n",
    "A list that contains no elements is called an empty list; you can create\n",
    "one with empty brackets, `[]`."
   ]
  },
  {
   "cell_type": "code",
   "execution_count": 4,
   "id": "0ff58916",
   "metadata": {},
   "outputs": [],
   "source": [
    "empty = []"
   ]
  },
  {
   "cell_type": "markdown",
   "id": "f95381bc",
   "metadata": {},
   "source": [
    "The `len` function returns the length of a list."
   ]
  },
  {
   "cell_type": "code",
   "execution_count": 5,
   "id": "f3153f36",
   "metadata": {},
   "outputs": [
    {
     "data": {
      "text/plain": [
       "3"
      ]
     },
     "execution_count": 5,
     "metadata": {},
     "output_type": "execute_result"
    }
   ],
   "source": [
    "len(cheeses)"
   ]
  },
  {
   "cell_type": "markdown",
   "id": "371403a3",
   "metadata": {},
   "source": [
    "The length of an empty list is `0`."
   ]
  },
  {
   "cell_type": "code",
   "execution_count": 6,
   "id": "58727d35",
   "metadata": {
    "tags": []
   },
   "outputs": [],
   "source": [
    "#This displays an image"
   ]
  },
  {
   "cell_type": "markdown",
   "id": "d3589a5d",
   "metadata": {},
   "source": [
    "The following figure shows the state diagram for `cheeses`, `numbers` and `empty`."
   ]
  },
  {
   "cell_type": "code",
   "execution_count": 8,
   "id": "25582cad",
   "metadata": {
    "tags": []
   },
   "outputs": [],
   "source": [
    "#This displays an image"
   ]
  },
  {
   "cell_type": "code",
   "execution_count": 9,
   "id": "925c7d67",
   "metadata": {
    "tags": []
   },
   "outputs": [],
   "source": [
    "#This displays an image"
   ]
  },
  {
   "cell_type": "markdown",
   "id": "503f25d8",
   "metadata": {},
   "source": [
    "Lists are represented by boxes with the word \"list\" outside and the numbered elements of the list inside."
   ]
  },
  {
   "cell_type": "markdown",
   "id": "e0b8ff01",
   "metadata": {},
   "source": [
    "## Lists are mutable\n",
    "\n",
    "To read an element of a list, we can use the bracket operator.\n",
    "The index of the first element is `0`."
   ]
  },
  {
   "cell_type": "code",
   "execution_count": 10,
   "id": "9deb85a3",
   "metadata": {},
   "outputs": [
    {
     "data": {
      "text/plain": [
       "'Cheddar'"
      ]
     },
     "execution_count": 10,
     "metadata": {},
     "output_type": "execute_result"
    }
   ],
   "source": [
    "cheeses[0]"
   ]
  },
  {
   "cell_type": "markdown",
   "id": "9747e951",
   "metadata": {},
   "source": [
    "Unlike strings, lists are mutable. When the bracket operator appears on\n",
    "the left side of an assignment, it identifies the element of the list\n",
    "that will be assigned."
   ]
  },
  {
   "cell_type": "code",
   "execution_count": 11,
   "id": "98ec5d9c",
   "metadata": {},
   "outputs": [
    {
     "data": {
      "text/plain": [
       "[42, 17]"
      ]
     },
     "execution_count": 11,
     "metadata": {},
     "output_type": "execute_result"
    }
   ],
   "source": [
    "numbers[1] = 17\n",
    "numbers"
   ]
  },
  {
   "cell_type": "markdown",
   "id": "5097a517",
   "metadata": {},
   "source": [
    "The second element of `numbers`, which used to be `123`, is now `17`.\n",
    "\n",
    "List indices work the same way as string indices:\n",
    "\n",
    "-   Any integer expression can be used as an index.\n",
    "\n",
    "-   If you try to read or write an element that does not exist, you get\n",
    "    an `IndexError`.\n",
    "\n",
    "-   If an index has a negative value, it counts backward from the end of\n",
    "    the list.\n",
    "\n",
    "The `in` operator works on lists -- it checks whether a given element appears anywhere in the list."
   ]
  },
  {
   "cell_type": "code",
   "execution_count": 12,
   "id": "000aed26",
   "metadata": {},
   "outputs": [
    {
     "data": {
      "text/plain": [
       "True"
      ]
     },
     "execution_count": 12,
     "metadata": {},
     "output_type": "execute_result"
    }
   ],
   "source": [
    "'Edam' in cheeses"
   ]
  },
  {
   "cell_type": "code",
   "execution_count": 13,
   "id": "bcb8929c",
   "metadata": {},
   "outputs": [
    {
     "data": {
      "text/plain": [
       "False"
      ]
     },
     "execution_count": 13,
     "metadata": {},
     "output_type": "execute_result"
    }
   ],
   "source": [
    "'Wensleydale' in cheeses"
   ]
  },
  {
   "cell_type": "markdown",
   "id": "89d01ebf",
   "metadata": {},
   "source": [
    "Although a list can contain another list, the nested list still counts as a single element -- so in the following list, there are only four elements."
   ]
  },
  {
   "cell_type": "code",
   "execution_count": 14,
   "id": "5ad51a26",
   "metadata": {},
   "outputs": [
    {
     "data": {
      "text/plain": [
       "4"
      ]
     },
     "execution_count": 14,
     "metadata": {},
     "output_type": "execute_result"
    }
   ],
   "source": [
    "t = ['spam', 2.0, 5, [10, 20]]\n",
    "len(t)"
   ]
  },
  {
   "cell_type": "markdown",
   "id": "4e0ea41d",
   "metadata": {},
   "source": [
    "And `10` is not considered to be an element of `t` because it is an element of a nested list, not `t`."
   ]
  },
  {
   "cell_type": "code",
   "execution_count": 15,
   "id": "156dbc10",
   "metadata": {},
   "outputs": [
    {
     "data": {
      "text/plain": [
       "False"
      ]
     },
     "execution_count": 15,
     "metadata": {},
     "output_type": "execute_result"
    }
   ],
   "source": [
    "10 in t"
   ]
  },
  {
   "cell_type": "markdown",
   "id": "1ee7a4d9",
   "metadata": {},
   "source": [
    "## List slices\n",
    "\n",
    "The slice operator works on lists the same way it works on strings.\n",
    "The following example selects the second and third elements from a list of four letters."
   ]
  },
  {
   "cell_type": "code",
   "execution_count": 16,
   "id": "70b16371",
   "metadata": {},
   "outputs": [
    {
     "data": {
      "text/plain": [
       "['b', 'c']"
      ]
     },
     "execution_count": 16,
     "metadata": {},
     "output_type": "execute_result"
    }
   ],
   "source": [
    "letters = ['a', 'b', 'c', 'd']\n",
    "letters[1:3]"
   ]
  },
  {
   "cell_type": "markdown",
   "id": "bc59d952",
   "metadata": {},
   "source": [
    "If you omit the first index, the slice starts at the beginning. "
   ]
  },
  {
   "cell_type": "code",
   "execution_count": 17,
   "id": "e67bab33",
   "metadata": {},
   "outputs": [
    {
     "data": {
      "text/plain": [
       "['a', 'b']"
      ]
     },
     "execution_count": 17,
     "metadata": {},
     "output_type": "execute_result"
    }
   ],
   "source": [
    "letters[:2]"
   ]
  },
  {
   "cell_type": "markdown",
   "id": "1aaaae86",
   "metadata": {},
   "source": [
    "If you omit the second, the slice goes to the end. "
   ]
  },
  {
   "cell_type": "code",
   "execution_count": 18,
   "id": "a310f506",
   "metadata": {},
   "outputs": [
    {
     "data": {
      "text/plain": [
       "['c', 'd']"
      ]
     },
     "execution_count": 18,
     "metadata": {},
     "output_type": "execute_result"
    }
   ],
   "source": [
    "letters[2:]"
   ]
  },
  {
   "cell_type": "markdown",
   "id": "67ad02e8",
   "metadata": {},
   "source": [
    "So if you omit both, the slice is a copy of the whole list."
   ]
  },
  {
   "cell_type": "code",
   "execution_count": 19,
   "id": "1385a75e",
   "metadata": {},
   "outputs": [
    {
     "data": {
      "text/plain": [
       "['a', 'b', 'c', 'd']"
      ]
     },
     "execution_count": 19,
     "metadata": {},
     "output_type": "execute_result"
    }
   ],
   "source": [
    "letters[:]"
   ]
  },
  {
   "cell_type": "markdown",
   "id": "9232c1ef",
   "metadata": {},
   "source": [
    "Another way to copy a list is to use the `list` function."
   ]
  },
  {
   "cell_type": "code",
   "execution_count": 20,
   "id": "a0ca0135",
   "metadata": {},
   "outputs": [
    {
     "data": {
      "text/plain": [
       "['a', 'b', 'c', 'd']"
      ]
     },
     "execution_count": 20,
     "metadata": {},
     "output_type": "execute_result"
    }
   ],
   "source": [
    "list(letters)"
   ]
  },
  {
   "cell_type": "markdown",
   "id": "50e4b182",
   "metadata": {},
   "source": [
    "Because `list` is the name of a built-in function, you should avoid using it as a variable name.\n"
   ]
  },
  {
   "cell_type": "markdown",
   "id": "1b057c0c",
   "metadata": {},
   "source": [
    "## List operations\n",
    "\n",
    "The `+` operator concatenates lists."
   ]
  },
  {
   "cell_type": "code",
   "execution_count": 21,
   "id": "66804de0",
   "metadata": {},
   "outputs": [
    {
     "data": {
      "text/plain": [
       "[1, 2, 3, 4]"
      ]
     },
     "execution_count": 21,
     "metadata": {},
     "output_type": "execute_result"
    }
   ],
   "source": [
    "t1 = [1, 2]\n",
    "t2 = [3, 4]\n",
    "t1 + t2"
   ]
  },
  {
   "cell_type": "markdown",
   "id": "474a5c40",
   "metadata": {},
   "source": [
    "The `*` operator repeats a list a given number of times."
   ]
  },
  {
   "cell_type": "code",
   "execution_count": 22,
   "id": "96620f93",
   "metadata": {},
   "outputs": [
    {
     "data": {
      "text/plain": [
       "['thomas', 'thomas', 'thomas', 'thomas']"
      ]
     },
     "execution_count": 22,
     "metadata": {},
     "output_type": "execute_result"
    }
   ],
   "source": [
    "['thomas'] * 4"
   ]
  },
  {
   "cell_type": "markdown",
   "id": "5b33bc51",
   "metadata": {},
   "source": [
    "No other mathematical operators work with lists, but the built-in function `sum` adds up the elements."
   ]
  },
  {
   "cell_type": "code",
   "execution_count": 23,
   "id": "0808ed08",
   "metadata": {},
   "outputs": [
    {
     "data": {
      "text/plain": [
       "3"
      ]
     },
     "execution_count": 23,
     "metadata": {},
     "output_type": "execute_result"
    }
   ],
   "source": [
    "sum(t1)"
   ]
  },
  {
   "cell_type": "markdown",
   "id": "f216a14d",
   "metadata": {},
   "source": [
    "And `min` and `max` find the smallest and largest elements."
   ]
  },
  {
   "cell_type": "code",
   "execution_count": 24,
   "id": "7ed7e53d",
   "metadata": {},
   "outputs": [
    {
     "data": {
      "text/plain": [
       "1"
      ]
     },
     "execution_count": 24,
     "metadata": {},
     "output_type": "execute_result"
    }
   ],
   "source": [
    "min(t1)"
   ]
  },
  {
   "cell_type": "code",
   "execution_count": 25,
   "id": "dda02e4e",
   "metadata": {},
   "outputs": [
    {
     "data": {
      "text/plain": [
       "4"
      ]
     },
     "execution_count": 25,
     "metadata": {},
     "output_type": "execute_result"
    }
   ],
   "source": [
    "max(t2)"
   ]
  },
  {
   "cell_type": "markdown",
   "id": "533a2009",
   "metadata": {},
   "source": [
    "## List methods\n",
    "\n",
    "Python provides methods that operate on lists. For example, `append`\n",
    "adds a new element to the end of a list:"
   ]
  },
  {
   "cell_type": "code",
   "execution_count": 26,
   "id": "bcf04ef9",
   "metadata": {},
   "outputs": [
    {
     "data": {
      "text/plain": [
       "['a', 'b', 'c', 'd', 'e']"
      ]
     },
     "execution_count": 26,
     "metadata": {},
     "output_type": "execute_result"
    }
   ],
   "source": [
    "letters.append('e')\n",
    "letters"
   ]
  },
  {
   "cell_type": "markdown",
   "id": "ccc57f77",
   "metadata": {},
   "source": [
    "`extend` takes a list as an argument and appends all of the elements:"
   ]
  },
  {
   "cell_type": "code",
   "execution_count": 27,
   "id": "be55916d",
   "metadata": {},
   "outputs": [
    {
     "data": {
      "text/plain": [
       "['a', 'b', 'c', 'd', 'e', 'f', 'g']"
      ]
     },
     "execution_count": 27,
     "metadata": {},
     "output_type": "execute_result"
    }
   ],
   "source": [
    "letters.extend(['f', 'g'])\n",
    "letters"
   ]
  },
  {
   "cell_type": "markdown",
   "id": "0f39d9f6",
   "metadata": {},
   "source": [
    "There are two methods that remove elements from a list.\n",
    "If you know the index of the element you want, you can use `pop`."
   ]
  },
  {
   "cell_type": "code",
   "execution_count": 28,
   "id": "b22da905",
   "metadata": {},
   "outputs": [
    {
     "data": {
      "text/plain": [
       "'b'"
      ]
     },
     "execution_count": 28,
     "metadata": {},
     "output_type": "execute_result"
    }
   ],
   "source": [
    "t = ['a', 'b', 'c']\n",
    "t.pop(1)"
   ]
  },
  {
   "cell_type": "markdown",
   "id": "6729415a",
   "metadata": {},
   "source": [
    "The return value is the element that was removed.\n",
    "And we can confirm that the list has been modified."
   ]
  },
  {
   "cell_type": "code",
   "execution_count": 29,
   "id": "01bdff91",
   "metadata": {},
   "outputs": [
    {
     "data": {
      "text/plain": [
       "['a', 'c']"
      ]
     },
     "execution_count": 29,
     "metadata": {},
     "output_type": "execute_result"
    }
   ],
   "source": [
    "t"
   ]
  },
  {
   "cell_type": "markdown",
   "id": "1e97ee7d",
   "metadata": {},
   "source": [
    "If you know the element you want to remove (but not the index), you can use `remove`:"
   ]
  },
  {
   "cell_type": "code",
   "execution_count": 30,
   "id": "babe366e",
   "metadata": {},
   "outputs": [],
   "source": [
    "t = ['a', 'b', 'c']\n",
    "t.remove('b')"
   ]
  },
  {
   "cell_type": "markdown",
   "id": "60e710fe",
   "metadata": {},
   "source": [
    "The return value from `remove` is `None`.\n",
    "But we can confirm that the list has been modified."
   ]
  },
  {
   "cell_type": "code",
   "execution_count": 31,
   "id": "f80f5b1d",
   "metadata": {},
   "outputs": [
    {
     "data": {
      "text/plain": [
       "['a', 'c']"
      ]
     },
     "execution_count": 31,
     "metadata": {},
     "output_type": "execute_result"
    }
   ],
   "source": [
    "t"
   ]
  },
  {
   "cell_type": "markdown",
   "id": "2a9448a8",
   "metadata": {},
   "source": [
    "If the element you ask for is not in the list, that's a ValueError."
   ]
  },
  {
   "cell_type": "code",
   "execution_count": 32,
   "id": "861f8e7e",
   "metadata": {
    "tags": []
   },
   "outputs": [
    {
     "ename": "ValueError",
     "evalue": "list.remove(x): x not in list",
     "output_type": "error",
     "traceback": [
      "\u001b[0;31m---------------------------------------------------------------------------\u001b[0m",
      "\u001b[0;31mValueError\u001b[0m                                Traceback (most recent call last)",
      "Cell \u001b[0;32mIn[32], line 1\u001b[0m\n\u001b[0;32m----> 1\u001b[0m t\u001b[38;5;241m.\u001b[39mremove(\u001b[38;5;124m'\u001b[39m\u001b[38;5;124md\u001b[39m\u001b[38;5;124m'\u001b[39m)\n",
      "\u001b[0;31mValueError\u001b[0m: list.remove(x): x not in list"
     ]
    }
   ],
   "source": [
    "t.remove('d')"
   ]
  },
  {
   "cell_type": "markdown",
   "id": "18305f96",
   "metadata": {},
   "source": [
    "## Lists and strings\n",
    "\n",
    "A string is a sequence of characters and a list is a sequence of values,\n",
    "but a list of characters is not the same as a string. \n",
    "To convert from a string to a list of characters, you can use the `list` function."
   ]
  },
  {
   "cell_type": "code",
   "execution_count": 33,
   "id": "1b50bc13",
   "metadata": {},
   "outputs": [
    {
     "data": {
      "text/plain": [
       "['s', 'p', 'a', 'm']"
      ]
     },
     "execution_count": 33,
     "metadata": {},
     "output_type": "execute_result"
    }
   ],
   "source": [
    "s = 'spam'\n",
    "t = list(s)\n",
    "t"
   ]
  },
  {
   "cell_type": "markdown",
   "id": "0291ef69",
   "metadata": {},
   "source": [
    "The `list` function breaks a string into individual letters.\n",
    "If you want to break a string into words, you can use the `split` method:"
   ]
  },
  {
   "cell_type": "code",
   "execution_count": 34,
   "id": "c28e5127",
   "metadata": {},
   "outputs": [
    {
     "data": {
      "text/plain": [
       "['pining', 'for', 'the', 'fjords']"
      ]
     },
     "execution_count": 34,
     "metadata": {},
     "output_type": "execute_result"
    }
   ],
   "source": [
    "s = 'pining for the fjords'\n",
    "t = s.split()\n",
    "t"
   ]
  },
  {
   "cell_type": "markdown",
   "id": "0e16909d",
   "metadata": {},
   "source": [
    "An optional argument called a **delimiter** specifies which characters to use as word boundaries. The following example uses a hyphen as a delimiter."
   ]
  },
  {
   "cell_type": "code",
   "execution_count": 35,
   "id": "ec6ea206",
   "metadata": {},
   "outputs": [
    {
     "data": {
      "text/plain": [
       "['ex', 'parrot']"
      ]
     },
     "execution_count": 35,
     "metadata": {},
     "output_type": "execute_result"
    }
   ],
   "source": [
    "s = 'ex-parrot'\n",
    "t = s.split('-')\n",
    "t"
   ]
  },
  {
   "cell_type": "markdown",
   "id": "7c61f916",
   "metadata": {},
   "source": [
    "If you have a list of strings, you can concatenate them into a single string using `join`.\n",
    "`join` is a string method, so you have to invoke it on the delimiter and pass the list as an argument."
   ]
  },
  {
   "cell_type": "code",
   "execution_count": 36,
   "id": "75c74d3c",
   "metadata": {},
   "outputs": [
    {
     "data": {
      "text/plain": [
       "'pining for the fjords'"
      ]
     },
     "execution_count": 36,
     "metadata": {},
     "output_type": "execute_result"
    }
   ],
   "source": [
    "delimiter = ' '\n",
    "t = ['pining', 'for', 'the', 'fjords']\n",
    "s = delimiter.join(t)\n",
    "s"
   ]
  },
  {
   "cell_type": "markdown",
   "id": "bedd842b",
   "metadata": {},
   "source": [
    "In this case the delimiter is a space character, so `join` puts a space\n",
    "between words.\n",
    "To join strings without spaces, you can use the empty string, `''`, as a delimiter."
   ]
  },
  {
   "cell_type": "markdown",
   "id": "181215ce",
   "metadata": {},
   "source": [
    "## Looping through a list\n",
    "\n",
    "You can use a `for` statement to loop through the elements of a list."
   ]
  },
  {
   "cell_type": "code",
   "execution_count": 37,
   "id": "a5df1e10",
   "metadata": {},
   "outputs": [
    {
     "name": "stdout",
     "output_type": "stream",
     "text": [
      "Cheddar\n",
      "Edam\n",
      "Gouda\n"
     ]
    }
   ],
   "source": [
    "for cheese in cheeses:\n",
    "    print(cheese)"
   ]
  },
  {
   "cell_type": "markdown",
   "id": "c0e53a09",
   "metadata": {},
   "source": [
    "For example, after using `split` to make a list of words, we can use `for` to loop through them."
   ]
  },
  {
   "cell_type": "code",
   "execution_count": 38,
   "id": "76b2c2e3",
   "metadata": {},
   "outputs": [
    {
     "name": "stdout",
     "output_type": "stream",
     "text": [
      "pining\n",
      "for\n",
      "the\n",
      "fjords\n"
     ]
    }
   ],
   "source": [
    "s = 'pining for the fjords'\n",
    "\n",
    "for word in s.split():\n",
    "    print(word)"
   ]
  },
  {
   "cell_type": "markdown",
   "id": "0857b55b",
   "metadata": {},
   "source": [
    "A `for` loop over an empty list never runs the indented statements."
   ]
  },
  {
   "cell_type": "code",
   "execution_count": 39,
   "id": "7e844887",
   "metadata": {},
   "outputs": [],
   "source": [
    "for x in []:\n",
    "    print('This never happens.')"
   ]
  },
  {
   "cell_type": "markdown",
   "id": "6e5f55c9",
   "metadata": {},
   "source": [
    "## Sorting lists\n",
    "\n",
    "Python provides a built-in function called `sorted` that sorts the elements of a list."
   ]
  },
  {
   "cell_type": "code",
   "execution_count": 40,
   "id": "9db54d53",
   "metadata": {},
   "outputs": [
    {
     "data": {
      "text/plain": [
       "['a', 'b', 'c']"
      ]
     },
     "execution_count": 40,
     "metadata": {},
     "output_type": "execute_result"
    }
   ],
   "source": [
    "scramble = ['c', 'a', 'b']\n",
    "sorted(scramble)"
   ]
  },
  {
   "cell_type": "markdown",
   "id": "44e028cf",
   "metadata": {},
   "source": [
    "The original list is unchanged."
   ]
  },
  {
   "cell_type": "code",
   "execution_count": 41,
   "id": "33d11287",
   "metadata": {},
   "outputs": [
    {
     "data": {
      "text/plain": [
       "['c', 'a', 'b']"
      ]
     },
     "execution_count": 41,
     "metadata": {},
     "output_type": "execute_result"
    }
   ],
   "source": [
    "scramble"
   ]
  },
  {
   "cell_type": "markdown",
   "id": "530146af",
   "metadata": {},
   "source": [
    "`sorted` works with any kind of sequence, not just lists. So we can sort the letters in a string like this."
   ]
  },
  {
   "cell_type": "code",
   "execution_count": 42,
   "id": "38c7cb0c",
   "metadata": {},
   "outputs": [
    {
     "data": {
      "text/plain": [
       "['e', 'e', 'l', 'r', 's', 't', 't']"
      ]
     },
     "execution_count": 42,
     "metadata": {},
     "output_type": "execute_result"
    }
   ],
   "source": [
    "sorted('letters')"
   ]
  },
  {
   "cell_type": "markdown",
   "id": "f90bd9ea",
   "metadata": {},
   "source": [
    "The result it a list.\n",
    "To convert the list to a string, we can use `join`."
   ]
  },
  {
   "cell_type": "code",
   "execution_count": 43,
   "id": "2adb2fc3",
   "metadata": {},
   "outputs": [
    {
     "data": {
      "text/plain": [
       "'eelrstt'"
      ]
     },
     "execution_count": 43,
     "metadata": {},
     "output_type": "execute_result"
    }
   ],
   "source": [
    "''.join(sorted('letters'))"
   ]
  },
  {
   "cell_type": "markdown",
   "id": "a57084e2",
   "metadata": {},
   "source": [
    "With an empty string as the delimiter, the elements of the list are joined with nothing between them."
   ]
  },
  {
   "cell_type": "markdown",
   "id": "ce98b3d5",
   "metadata": {},
   "source": [
    "## Objects and values\n",
    "\n",
    "If we run these assignment statements:"
   ]
  },
  {
   "cell_type": "code",
   "execution_count": 44,
   "id": "aa547282",
   "metadata": {},
   "outputs": [],
   "source": [
    "a = 'banana'\n",
    "b = 'banana'"
   ]
  },
  {
   "cell_type": "markdown",
   "id": "33d020aa",
   "metadata": {},
   "source": [
    "We know that `a` and `b` both refer to a string, but we don't know whether they refer to the *same* string. \n",
    "There are two possible states, shown in the following figure."
   ]
  },
  {
   "cell_type": "code",
   "execution_count": 46,
   "id": "95a2aded",
   "metadata": {
    "tags": []
   },
   "outputs": [],
   "source": [
    "#this displays an image in the notebook"
   ]
  },
  {
   "cell_type": "code",
   "execution_count": 47,
   "id": "3d75a28c",
   "metadata": {
    "tags": []
   },
   "outputs": [],
   "source": [
    "#this displays an image in the notebook"
   ]
  },
  {
   "cell_type": "markdown",
   "id": "2f0b0431",
   "metadata": {},
   "source": [
    "In the diagram on the left, `a` and `b` refer to two different objects that have the\n",
    "same value. In the diagram on the right, they refer to the same object.\n",
    "To check whether two variables refer to the same object, you can use the `is` operator."
   ]
  },
  {
   "cell_type": "code",
   "execution_count": 45,
   "id": "a37e37bf",
   "metadata": {},
   "outputs": [
    {
     "data": {
      "text/plain": [
       "True"
      ]
     },
     "execution_count": 45,
     "metadata": {},
     "output_type": "execute_result"
    }
   ],
   "source": [
    "a = 'banana'\n",
    "b = 'banana'\n",
    "a is b"
   ]
  },
  {
   "cell_type": "markdown",
   "id": "d1eb0e36",
   "metadata": {},
   "source": [
    "In this example, Python only created one string object, and both `a`\n",
    "and `b` refer to it.\n",
    "But when you create two lists, you get two objects."
   ]
  },
  {
   "cell_type": "code",
   "execution_count": 48,
   "id": "d6af7316",
   "metadata": {},
   "outputs": [
    {
     "data": {
      "text/plain": [
       "False"
      ]
     },
     "execution_count": 48,
     "metadata": {},
     "output_type": "execute_result"
    }
   ],
   "source": [
    "a = [1, 2, 3]\n",
    "b = [1, 2, 3]\n",
    "a is b"
   ]
  },
  {
   "cell_type": "markdown",
   "id": "a8d4c3d4",
   "metadata": {},
   "source": [
    "So the state diagram looks like this."
   ]
  },
  {
   "cell_type": "code",
   "execution_count": 49,
   "id": "dea08b82",
   "metadata": {
    "tags": []
   },
   "outputs": [],
   "source": [
    "#this displays an image in the notebook"
   ]
  },
  {
   "cell_type": "code",
   "execution_count": 50,
   "id": "7e66ee69",
   "metadata": {
    "tags": []
   },
   "outputs": [],
   "source": [
    "#this displays an image in the notebook"
   ]
  },
  {
   "cell_type": "markdown",
   "id": "cc115a9f",
   "metadata": {},
   "source": [
    "In this case we would say that the two lists are **equivalent**, because they have the same elements, but not **identical**, because they are not the same object. \n",
    "If two objects are identical, they are also equivalent, but if they are equivalent, they are not necessarily identical."
   ]
  },
  {
   "cell_type": "markdown",
   "id": "a58db021",
   "metadata": {},
   "source": [
    "## Aliasing\n",
    "\n",
    "If `a` refers to an object and you assign `b = a`, then both variables refer to the same object."
   ]
  },
  {
   "cell_type": "code",
   "execution_count": 51,
   "id": "d6a7eb5b",
   "metadata": {},
   "outputs": [
    {
     "data": {
      "text/plain": [
       "True"
      ]
     },
     "execution_count": 51,
     "metadata": {},
     "output_type": "execute_result"
    }
   ],
   "source": [
    "a = [1, 2, 3]\n",
    "b = a\n",
    "b is a"
   ]
  },
  {
   "cell_type": "markdown",
   "id": "f6ab3262",
   "metadata": {},
   "source": [
    "So the state diagram looks like this."
   ]
  },
  {
   "cell_type": "code",
   "execution_count": 52,
   "id": "dd406791",
   "metadata": {
    "tags": []
   },
   "outputs": [],
   "source": [
    "#this displays an image in the notebook"
   ]
  },
  {
   "cell_type": "code",
   "execution_count": 53,
   "id": "552e1e1e",
   "metadata": {
    "tags": []
   },
   "outputs": [],
   "source": [
    "#this displays an image in the notebook"
   ]
  },
  {
   "cell_type": "markdown",
   "id": "c676fde9",
   "metadata": {},
   "source": [
    "The association of a variable with an object is called a **reference**.\n",
    "In this example, there are two references to the same object.\n",
    "\n",
    "An object with more than one reference has more than one name, so we say the object is **aliased**.\n",
    "If the aliased object is mutable, changes made with one name affect the other.\n",
    "In this example, if we change the object `b` refers to, we are also changing the object `a` refers to."
   ]
  },
  {
   "cell_type": "code",
   "execution_count": 54,
   "id": "6e3c1b24",
   "metadata": {},
   "outputs": [
    {
     "data": {
      "text/plain": [
       "[5, 2, 3]"
      ]
     },
     "execution_count": 54,
     "metadata": {},
     "output_type": "execute_result"
    }
   ],
   "source": [
    "b[0] = 5\n",
    "a"
   ]
  },
  {
   "cell_type": "markdown",
   "id": "e3ef0537",
   "metadata": {},
   "source": [
    "So we would say that `a` \"sees\" this change.\n",
    "Although this behavior can be useful, it is error-prone.\n",
    "In general, it is safer to avoid aliasing when you are working with mutable objects.\n",
    "\n",
    "For immutable objects like strings, aliasing is not as much of a problem.\n",
    "In this example:"
   ]
  },
  {
   "cell_type": "code",
   "execution_count": 55,
   "id": "dad8a246",
   "metadata": {},
   "outputs": [],
   "source": [
    "a = 'banana'\n",
    "b = 'banana'"
   ]
  },
  {
   "cell_type": "markdown",
   "id": "952bbf60",
   "metadata": {},
   "source": [
    "It almost never makes a difference whether `a` and `b` refer to the same\n",
    "string or not."
   ]
  },
  {
   "cell_type": "markdown",
   "id": "35045bef",
   "metadata": {},
   "source": [
    "## List arguments\n",
    "\n",
    "When you pass a list to a function, the function gets a reference to the\n",
    "list. If the function modifies the list, the caller sees the change. For\n",
    "example, `pop_first` uses the list method `pop` to remove the first element from a list."
   ]
  },
  {
   "cell_type": "code",
   "execution_count": 56,
   "id": "613b1845",
   "metadata": {},
   "outputs": [],
   "source": [
    "def pop_first(lst):\n",
    "    return lst.pop(0)"
   ]
  },
  {
   "cell_type": "markdown",
   "id": "4953b0f9",
   "metadata": {},
   "source": [
    "We can use it like this."
   ]
  },
  {
   "cell_type": "code",
   "execution_count": 57,
   "id": "3aff3598",
   "metadata": {},
   "outputs": [
    {
     "data": {
      "text/plain": [
       "'a'"
      ]
     },
     "execution_count": 57,
     "metadata": {},
     "output_type": "execute_result"
    }
   ],
   "source": [
    "letters = ['a', 'b', 'c']\n",
    "pop_first(letters)"
   ]
  },
  {
   "cell_type": "markdown",
   "id": "ef5d3c1e",
   "metadata": {},
   "source": [
    "The return value is the first element, which has been removed from the list -- as we can see by displaying the modified list."
   ]
  },
  {
   "cell_type": "code",
   "execution_count": 58,
   "id": "c10e4dcc",
   "metadata": {},
   "outputs": [
    {
     "data": {
      "text/plain": [
       "['b', 'c']"
      ]
     },
     "execution_count": 58,
     "metadata": {},
     "output_type": "execute_result"
    }
   ],
   "source": [
    "letters"
   ]
  },
  {
   "cell_type": "markdown",
   "id": "e5288e08",
   "metadata": {},
   "source": [
    "In this example, the parameter `lst` and the variable `letters` are aliases for the same object, so the state diagram looks like this:"
   ]
  },
  {
   "cell_type": "code",
   "execution_count": 59,
   "id": "a13e72c7",
   "metadata": {
    "tags": []
   },
   "outputs": [],
   "source": [
    "#this displays an image in the notebook"
   ]
  },
  {
   "cell_type": "code",
   "execution_count": 60,
   "id": "1a06dae9",
   "metadata": {
    "tags": []
   },
   "outputs": [],
   "source": [
    "#this displays an image in the notebook"
   ]
  },
  {
   "cell_type": "markdown",
   "id": "c1a093d2",
   "metadata": {},
   "source": [
    "Passing a reference to an object as an argument to a function creates a form of aliasing.\n",
    "If the function modifies the object, those changes persist after the function is done."
   ]
  },
  {
   "cell_type": "markdown",
   "id": "88c07ec9",
   "metadata": {
    "tags": []
   },
   "source": [
    "## Making a word list\n",
    "\n",
    "In the previous chapter, we read the file `words.txt` and searched for words with certain properties, like using the letter `e`.\n",
    "But we read the entire file many times, which is not efficient.\n",
    "It is better to read the file once and put the words in a list.\n",
    "The following loop shows how."
   ]
  },
  {
   "cell_type": "code",
   "execution_count": 63,
   "id": "6550f0b8",
   "metadata": {
    "tags": []
   },
   "outputs": [
    {
     "data": {
      "text/plain": [
       "113783"
      ]
     },
     "execution_count": 63,
     "metadata": {},
     "output_type": "execute_result"
    }
   ],
   "source": [
    "word_list = []\n",
    "\n",
    "for line in open('/Users/thomassong0604/Documents/GitHub/OIM3640/Data/words.txt'):\n",
    "    word = line.strip()\n",
    "    word_list.append(word)\n",
    "    \n",
    "len(word_list)"
   ]
  },
  {
   "cell_type": "markdown",
   "id": "44450ffa",
   "metadata": {},
   "source": [
    "Before the loop, `word_list` is initialized with an empty list.\n",
    "Each time through the loop, the `append` method adds a word to the end.\n",
    "When the loop is done, there are more than 113,000 words in the list.\n",
    "\n",
    "Another way to do the same thing is to use `read` to read the entire file into a string."
   ]
  },
  {
   "cell_type": "code",
   "execution_count": 66,
   "id": "32e28204",
   "metadata": {},
   "outputs": [
    {
     "data": {
      "text/plain": [
       "1016511"
      ]
     },
     "execution_count": 66,
     "metadata": {},
     "output_type": "execute_result"
    }
   ],
   "source": [
    "string = open('/Users/thomassong0604/Documents/GitHub/OIM3640/Data/words.txt').read()\n",
    "len(string)"
   ]
  },
  {
   "cell_type": "markdown",
   "id": "65718c7f",
   "metadata": {},
   "source": [
    "The result is a single string with more than a million characters.\n",
    "We can use the `split` method to split it into a list of words."
   ]
  },
  {
   "cell_type": "code",
   "execution_count": 67,
   "id": "4e35f7ce",
   "metadata": {},
   "outputs": [
    {
     "data": {
      "text/plain": [
       "113783"
      ]
     },
     "execution_count": 67,
     "metadata": {},
     "output_type": "execute_result"
    }
   ],
   "source": [
    "word_list = string.split()\n",
    "len(word_list)"
   ]
  },
  {
   "cell_type": "markdown",
   "id": "1b5b25a3",
   "metadata": {},
   "source": [
    "Now, to check whether a string appears in the list, we can use the `in` operator.\n",
    "For example, `'demotic'` is in the list."
   ]
  },
  {
   "cell_type": "code",
   "execution_count": 68,
   "id": "a778a62a",
   "metadata": {},
   "outputs": [
    {
     "data": {
      "text/plain": [
       "True"
      ]
     },
     "execution_count": 68,
     "metadata": {},
     "output_type": "execute_result"
    }
   ],
   "source": [
    "'demotic' in word_list"
   ]
  },
  {
   "cell_type": "markdown",
   "id": "9df6674d",
   "metadata": {},
   "source": [
    "But `'contrafibularities'` is not."
   ]
  },
  {
   "cell_type": "code",
   "execution_count": 69,
   "id": "63341c0e",
   "metadata": {},
   "outputs": [
    {
     "data": {
      "text/plain": [
       "False"
      ]
     },
     "execution_count": 69,
     "metadata": {},
     "output_type": "execute_result"
    }
   ],
   "source": [
    "'contrafibularities' in word_list"
   ]
  },
  {
   "cell_type": "markdown",
   "id": "243c25b6",
   "metadata": {},
   "source": [
    "And I have to say, I'm anaspeptic about it."
   ]
  },
  {
   "cell_type": "markdown",
   "id": "ce9ffd79",
   "metadata": {},
   "source": [
    "## Debugging\n",
    "\n",
    "Note that most list methods modify the argument and return `None`.\n",
    "This is the opposite of the string methods, which return a new string and leave the original alone.\n",
    "\n",
    "If you are used to writing string code like this:"
   ]
  },
  {
   "cell_type": "code",
   "execution_count": 70,
   "id": "88872f14",
   "metadata": {},
   "outputs": [
    {
     "data": {
      "text/plain": [
       "'plumage'"
      ]
     },
     "execution_count": 70,
     "metadata": {},
     "output_type": "execute_result"
    }
   ],
   "source": [
    "word = 'plumage!'\n",
    "word = word.strip('!')\n",
    "word"
   ]
  },
  {
   "cell_type": "markdown",
   "id": "d2117582",
   "metadata": {},
   "source": [
    "It is tempting to write list code like this:"
   ]
  },
  {
   "cell_type": "code",
   "execution_count": 72,
   "id": "e28e7135",
   "metadata": {},
   "outputs": [],
   "source": [
    "t = [1, 2, 3]\n",
    "t = t.remove(3)    "
   ]
  },
  {
   "cell_type": "markdown",
   "id": "991c439d",
   "metadata": {},
   "source": [
    "`remove` modifies the list and returns `None`, so next operation you perform with `t` is likely to fail."
   ]
  },
  {
   "cell_type": "code",
   "execution_count": 73,
   "id": "97cf0c61",
   "metadata": {
    "tags": []
   },
   "outputs": [
    {
     "ename": "AttributeError",
     "evalue": "'NoneType' object has no attribute 'remove'",
     "output_type": "error",
     "traceback": [
      "\u001b[0;31m---------------------------------------------------------------------------\u001b[0m",
      "\u001b[0;31mAttributeError\u001b[0m                            Traceback (most recent call last)",
      "Cell \u001b[0;32mIn[73], line 1\u001b[0m\n\u001b[0;32m----> 1\u001b[0m t\u001b[38;5;241m.\u001b[39mremove(\u001b[38;5;241m2\u001b[39m)\n",
      "\u001b[0;31mAttributeError\u001b[0m: 'NoneType' object has no attribute 'remove'"
     ]
    }
   ],
   "source": [
    "t.remove(2)"
   ]
  },
  {
   "cell_type": "markdown",
   "id": "c500e2d8",
   "metadata": {},
   "source": [
    "This error message takes some explaining.\n",
    "An **attribute** of an object is a variable or method associated with it.\n",
    "In this case, the value of `t` is `None`, which is a `NoneType` object, which does not have a attribute named `remove`, so the result is an `AttributeError`.\n",
    "\n",
    "If you see an error message like this, you should look backward through the program and see if you might have called a list method incorrectly."
   ]
  },
  {
   "cell_type": "markdown",
   "id": "f90db780",
   "metadata": {},
   "source": [
    "## Glossary\n",
    "\n",
    "**list:**\n",
    " An object that contains a sequence of values.\n",
    "\n",
    "**element:**\n",
    " One of the values in a list or other sequence.\n",
    "\n",
    "**nested list:**\n",
    "A list that is an element of another list.\n",
    "\n",
    "**delimiter:**\n",
    " A character or string used to indicate where a string should be split.\n",
    "\n",
    "**equivalent:**\n",
    " Having the same value.\n",
    "\n",
    "**identical:**\n",
    " Being the same object (which implies equivalence).\n",
    "\n",
    "**reference:**\n",
    " The association between a variable and its value.\n",
    "\n",
    "**aliased:**\n",
    "If there is more than one variable that refers to an object, the object is aliased.\n",
    "\n",
    "**attribute:**\n",
    " One of the named values associated with an object."
   ]
  },
  {
   "cell_type": "markdown",
   "id": "e67864e5",
   "metadata": {},
   "source": [
    "## Exercises\n",
    "\n"
   ]
  },
  {
   "cell_type": "code",
   "execution_count": 74,
   "id": "a4e34564",
   "metadata": {
    "tags": []
   },
   "outputs": [
    {
     "name": "stdout",
     "output_type": "stream",
     "text": [
      "Exception reporting mode: Verbose\n"
     ]
    }
   ],
   "source": [
    "%xmode Verbose"
   ]
  },
  {
   "cell_type": "markdown",
   "id": "ae9c42da",
   "metadata": {},
   "source": [
    "### Ask a virtual assistant\n",
    "\n",
    "In this chapter, I used the words \"contrafibularities\" and \"anaspeptic\", but they are not actually English words.\n",
    "They were used in the British television show *Black Adder*, Season 3, Episode 2, \"Ink and Incapability\".\n",
    "\n",
    "However, when I asked ChatGPT 3.5 (August 3, 2023 version) where those words came from, it initially claimed they are from Monty Python, and later claimed they are from the Tom Stoppard play *Rosencrantz and Guildenstern Are Dead*.\n",
    "\n",
    "If you ask now, you might get different results.\n",
    "But this example is a reminder that virtual assistants are not always accurate, so you should check whether the results are correct.\n",
    "As you gain experience, you will get a sense of which questions virtual assistants can answer reliably.\n",
    "In this example, a conventional web search can identify the source of these words quickly.\n",
    "\n",
    "If you get stuck on any of the exercises in this chapter, consider asking a virtual assistant for help.\n",
    "If you get a result that uses features we haven't learned yet, you can assign the VA a \"role\".\n",
    "\n",
    "For example, before you ask a question try typing \"Role: Basic Python Programming Instructor\".\n",
    "After that, the responses you get should use only basic features.\n",
    "If you still see features we you haven't learned, you can follow up with \"Can you write that using only basic Python features?\""
   ]
  },
  {
   "cell_type": "markdown",
   "id": "31d5b304",
   "metadata": {},
   "source": [
    "### Exercise\n",
    "\n",
    "Two words are anagrams if you can rearrange the letters from one to spell the other.\n",
    "For example, `tops` is an anagram of `stop`.\n",
    "\n",
    "One way to check whether two words are anagrams is to sort the letters in both words.\n",
    "If the lists of sorted letters are the same, the words are anagrams.\n",
    "\n",
    "Write a function called `is_anagram` that takes two strings and returns `True` if they are anagrams."
   ]
  },
  {
   "cell_type": "markdown",
   "id": "a882bfeb",
   "metadata": {
    "tags": []
   },
   "source": [
    "To get you started, here's an outline of the function with doctests."
   ]
  },
  {
   "cell_type": "code",
   "execution_count": 77,
   "id": "9c5916ed",
   "metadata": {
    "tags": []
   },
   "outputs": [],
   "source": [
    "def is_anagram(a, b):\n",
    "\n",
    "    import string\n",
    "    table = str.maketrans('', '', string.whitespace + string.punctuation)\n",
    "\n",
    "    x = a.translate(table).lower()\n",
    "    y = b.translate(table).lower()\n",
    "    return sorted(x) == sorted(y)"
   ]
  },
  {
   "cell_type": "code",
   "execution_count": 78,
   "id": "5885cbd3",
   "metadata": {},
   "outputs": [
    {
     "name": "stdout",
     "output_type": "stream",
     "text": [
      "3 items had no tests:\n",
      "    __main__\n",
      "    __main__.is_anagram\n",
      "    __main__.pop_first\n",
      "0 tests in 3 items.\n",
      "\u001b[32m0 passed\u001b[0m.\n",
      "\u001b[1;32mTest passed.\u001b[0m\n"
     ]
    },
    {
     "data": {
      "text/plain": [
       "TestResults(failed=0, attempted=0)"
      ]
     },
     "execution_count": 78,
     "metadata": {},
     "output_type": "execute_result"
    }
   ],
   "source": [
    "import doctest\n",
    "doctest.testmod(verbose=True)"
   ]
  },
  {
   "cell_type": "markdown",
   "id": "a86e7403",
   "metadata": {
    "tags": []
   },
   "source": [
    "You can use `doctest` to test your function."
   ]
  },
  {
   "cell_type": "code",
   "execution_count": 81,
   "id": "ce7a96ec",
   "metadata": {
    "tags": []
   },
   "outputs": [
    {
     "data": {
      "text/plain": [
       "['skate', 'stake', 'steak', 'takes', 'teaks']"
      ]
     },
     "execution_count": 81,
     "metadata": {},
     "output_type": "execute_result"
    }
   ],
   "source": [
    "anagrams_of_takes = [w for w in word_list if is_anagram(w, \"takes\")]\n",
    "anagrams_of_takes"
   ]
  },
  {
   "cell_type": "markdown",
   "id": "8501f3ba",
   "metadata": {},
   "source": [
    "Using your function and the word list, find all the anagrams of `takes`."
   ]
  },
  {
   "cell_type": "code",
   "execution_count": 82,
   "id": "75e17c7b",
   "metadata": {},
   "outputs": [],
   "source": [
    "word_list = [w.strip().lower() for w in \"\"\"\n",
    "stake\n",
    "steak\n",
    "skate\n",
    "takes\n",
    "teaks\n",
    "teak\n",
    "taker\n",
    "speak\n",
    "bakes\n",
    "\"\"\".split() if w]\n"
   ]
  },
  {
   "cell_type": "markdown",
   "id": "7f279f2f",
   "metadata": {},
   "source": [
    "### Exercise\n",
    "\n",
    "Python provides a built-in function called `reversed` that takes as an argument a sequence of elements -- like a list or string -- and returns a `reversed` object that contains the elements in reverse order."
   ]
  },
  {
   "cell_type": "code",
   "execution_count": 85,
   "id": "aafa5db5",
   "metadata": {},
   "outputs": [
    {
     "data": {
      "text/plain": [
       "<reversed at 0x12857c370>"
      ]
     },
     "execution_count": 85,
     "metadata": {},
     "output_type": "execute_result"
    }
   ],
   "source": [
    "rev_obj = reversed(\"python\")\n",
    "\n",
    "rev_obj"
   ]
  },
  {
   "cell_type": "markdown",
   "id": "0f95c76f",
   "metadata": {},
   "source": [
    "If you want the reversed elements in a list, you can use the `list` function."
   ]
  },
  {
   "cell_type": "markdown",
   "id": "4532efb8",
   "metadata": {},
   "source": [
    "You can order print and ebook versions of *Think Python 3e* from\n",
    "[Bookshop.org](https://bookshop.org/a/98697/9781098155438) and\n",
    "[Amazon](https://www.amazon.com/_/dp/1098155432?smid=ATVPDKIKX0DER&_encoding=UTF8&tag=oreilly20-20&_encoding=UTF8&tag=greenteapre01-20&linkCode=ur2&linkId=e2a529f94920295d27ec8a06e757dc7c&camp=1789&creative=9325)."
   ]
  },
  {
   "cell_type": "code",
   "execution_count": 86,
   "id": "776c411c",
   "metadata": {},
   "outputs": [
    {
     "data": {
      "text/plain": [
       "[5, 4, 3, 2, 1]"
      ]
     },
     "execution_count": 86,
     "metadata": {},
     "output_type": "execute_result"
    }
   ],
   "source": [
    "list(reversed([1, 2, 3, 4, 5]))"
   ]
  },
  {
   "cell_type": "code",
   "execution_count": 87,
   "id": "a2754ea3",
   "metadata": {},
   "outputs": [
    {
     "data": {
      "text/plain": [
       "'desserts'"
      ]
     },
     "execution_count": 87,
     "metadata": {},
     "output_type": "execute_result"
    }
   ],
   "source": [
    "\"\".join(reversed(\"stressed\"))"
   ]
  },
  {
   "cell_type": "code",
   "execution_count": 91,
   "id": "d6eac530",
   "metadata": {},
   "outputs": [
    {
     "data": {
      "text/plain": [
       "('level', 'nohtyP')"
      ]
     },
     "execution_count": 91,
     "metadata": {},
     "output_type": "execute_result"
    }
   ],
   "source": [
    "def reverse_word(s: str) -> str:\n",
    "\n",
    "    return \"\".join(reversed(s))\n",
    "\n",
    "\n",
    "reverse_word(\"level\"), reverse_word(\"Python\")"
   ]
  },
  {
   "cell_type": "markdown",
   "id": "a9cd4f0f",
   "metadata": {},
   "source": [
    "# Functions and Interfaces\n",
    "\n",
    "This chapter introduces a module called `jupyturtle`, which allows you to create simple drawings by giving instructions to an imaginary turtle.\n",
    "We will use this module to write functions that draw squares, polygons, and circles -- and to demonstrate **interface design**, which is a way of designing functions that work together."
   ]
  },
  {
   "cell_type": "markdown",
   "id": "2d9b2bad",
   "metadata": {},
   "source": [
    "## The jupyturtle module\n",
    "\n",
    "To use the `jupyturtle` module, we can import it like this."
   ]
  },
  {
   "cell_type": "code",
   "execution_count": 92,
   "id": "21682c2c",
   "metadata": {},
   "outputs": [
    {
     "name": "stdout",
     "output_type": "stream",
     "text": [
      "Requirement already satisfied: jupyturtle in /opt/anaconda3/lib/python3.13/site-packages (2024.4.1)\n",
      "Requirement already satisfied: ipython>=8 in /opt/anaconda3/lib/python3.13/site-packages (from jupyturtle) (8.30.0)\n",
      "Requirement already satisfied: jupyter in /opt/anaconda3/lib/python3.13/site-packages (from jupyturtle) (1.1.1)\n",
      "Requirement already satisfied: pytest in /opt/anaconda3/lib/python3.13/site-packages (from jupyturtle) (8.3.4)\n",
      "Requirement already satisfied: decorator in /opt/anaconda3/lib/python3.13/site-packages (from ipython>=8->jupyturtle) (5.1.1)\n",
      "Requirement already satisfied: jedi>=0.16 in /opt/anaconda3/lib/python3.13/site-packages (from ipython>=8->jupyturtle) (0.19.2)\n",
      "Requirement already satisfied: matplotlib-inline in /opt/anaconda3/lib/python3.13/site-packages (from ipython>=8->jupyturtle) (0.1.6)\n",
      "Requirement already satisfied: prompt-toolkit<3.1.0,>=3.0.41 in /opt/anaconda3/lib/python3.13/site-packages (from ipython>=8->jupyturtle) (3.0.43)\n",
      "Requirement already satisfied: pygments>=2.4.0 in /opt/anaconda3/lib/python3.13/site-packages (from ipython>=8->jupyturtle) (2.19.1)\n",
      "Requirement already satisfied: stack-data in /opt/anaconda3/lib/python3.13/site-packages (from ipython>=8->jupyturtle) (0.2.0)\n",
      "Requirement already satisfied: traitlets>=5.13.0 in /opt/anaconda3/lib/python3.13/site-packages (from ipython>=8->jupyturtle) (5.14.3)\n",
      "Requirement already satisfied: pexpect>4.3 in /opt/anaconda3/lib/python3.13/site-packages (from ipython>=8->jupyturtle) (4.8.0)\n",
      "Requirement already satisfied: wcwidth in /opt/anaconda3/lib/python3.13/site-packages (from prompt-toolkit<3.1.0,>=3.0.41->ipython>=8->jupyturtle) (0.2.5)\n",
      "Requirement already satisfied: parso<0.9.0,>=0.8.4 in /opt/anaconda3/lib/python3.13/site-packages (from jedi>=0.16->ipython>=8->jupyturtle) (0.8.4)\n",
      "Requirement already satisfied: ptyprocess>=0.5 in /opt/anaconda3/lib/python3.13/site-packages (from pexpect>4.3->ipython>=8->jupyturtle) (0.7.0)\n",
      "Requirement already satisfied: notebook in /opt/anaconda3/lib/python3.13/site-packages (from jupyter->jupyturtle) (7.3.2)\n",
      "Requirement already satisfied: jupyter-console in /opt/anaconda3/lib/python3.13/site-packages (from jupyter->jupyturtle) (6.6.3)\n",
      "Requirement already satisfied: nbconvert in /opt/anaconda3/lib/python3.13/site-packages (from jupyter->jupyturtle) (7.16.6)\n",
      "Requirement already satisfied: ipykernel in /opt/anaconda3/lib/python3.13/site-packages (from jupyter->jupyturtle) (6.29.5)\n",
      "Requirement already satisfied: ipywidgets in /opt/anaconda3/lib/python3.13/site-packages (from jupyter->jupyturtle) (8.1.5)\n",
      "Requirement already satisfied: jupyterlab in /opt/anaconda3/lib/python3.13/site-packages (from jupyter->jupyturtle) (4.3.4)\n",
      "Requirement already satisfied: appnope in /opt/anaconda3/lib/python3.13/site-packages (from ipykernel->jupyter->jupyturtle) (0.1.3)\n",
      "Requirement already satisfied: comm>=0.1.1 in /opt/anaconda3/lib/python3.13/site-packages (from ipykernel->jupyter->jupyturtle) (0.2.1)\n",
      "Requirement already satisfied: debugpy>=1.6.5 in /opt/anaconda3/lib/python3.13/site-packages (from ipykernel->jupyter->jupyturtle) (1.8.11)\n",
      "Requirement already satisfied: jupyter-client>=6.1.12 in /opt/anaconda3/lib/python3.13/site-packages (from ipykernel->jupyter->jupyturtle) (8.6.3)\n",
      "Requirement already satisfied: jupyter-core!=5.0.*,>=4.12 in /opt/anaconda3/lib/python3.13/site-packages (from ipykernel->jupyter->jupyturtle) (5.7.2)\n",
      "Requirement already satisfied: nest-asyncio in /opt/anaconda3/lib/python3.13/site-packages (from ipykernel->jupyter->jupyturtle) (1.6.0)\n",
      "Requirement already satisfied: packaging in /opt/anaconda3/lib/python3.13/site-packages (from ipykernel->jupyter->jupyturtle) (24.2)\n",
      "Requirement already satisfied: psutil in /opt/anaconda3/lib/python3.13/site-packages (from ipykernel->jupyter->jupyturtle) (5.9.0)\n",
      "Requirement already satisfied: pyzmq>=24 in /opt/anaconda3/lib/python3.13/site-packages (from ipykernel->jupyter->jupyturtle) (26.2.0)\n",
      "Requirement already satisfied: tornado>=6.1 in /opt/anaconda3/lib/python3.13/site-packages (from ipykernel->jupyter->jupyturtle) (6.5.1)\n",
      "Requirement already satisfied: python-dateutil>=2.8.2 in /opt/anaconda3/lib/python3.13/site-packages (from jupyter-client>=6.1.12->ipykernel->jupyter->jupyturtle) (2.9.0.post0)\n",
      "Requirement already satisfied: platformdirs>=2.5 in /opt/anaconda3/lib/python3.13/site-packages (from jupyter-core!=5.0.*,>=4.12->ipykernel->jupyter->jupyturtle) (4.3.7)\n",
      "Requirement already satisfied: six>=1.5 in /opt/anaconda3/lib/python3.13/site-packages (from python-dateutil>=2.8.2->jupyter-client>=6.1.12->ipykernel->jupyter->jupyturtle) (1.17.0)\n",
      "Requirement already satisfied: widgetsnbextension~=4.0.12 in /opt/anaconda3/lib/python3.13/site-packages (from ipywidgets->jupyter->jupyturtle) (4.0.13)\n",
      "Requirement already satisfied: jupyterlab-widgets~=3.0.12 in /opt/anaconda3/lib/python3.13/site-packages (from ipywidgets->jupyter->jupyturtle) (3.0.13)\n",
      "Requirement already satisfied: async-lru>=1.0.0 in /opt/anaconda3/lib/python3.13/site-packages (from jupyterlab->jupyter->jupyturtle) (2.0.4)\n",
      "Requirement already satisfied: httpx>=0.25.0 in /opt/anaconda3/lib/python3.13/site-packages (from jupyterlab->jupyter->jupyturtle) (0.28.1)\n",
      "Requirement already satisfied: jinja2>=3.0.3 in /opt/anaconda3/lib/python3.13/site-packages (from jupyterlab->jupyter->jupyturtle) (3.1.6)\n",
      "Requirement already satisfied: jupyter-lsp>=2.0.0 in /opt/anaconda3/lib/python3.13/site-packages (from jupyterlab->jupyter->jupyturtle) (2.2.5)\n",
      "Requirement already satisfied: jupyter-server<3,>=2.4.0 in /opt/anaconda3/lib/python3.13/site-packages (from jupyterlab->jupyter->jupyturtle) (2.15.0)\n",
      "Requirement already satisfied: jupyterlab-server<3,>=2.27.1 in /opt/anaconda3/lib/python3.13/site-packages (from jupyterlab->jupyter->jupyturtle) (2.27.3)\n",
      "Requirement already satisfied: notebook-shim>=0.2 in /opt/anaconda3/lib/python3.13/site-packages (from jupyterlab->jupyter->jupyturtle) (0.2.4)\n",
      "Requirement already satisfied: setuptools>=40.8.0 in /opt/anaconda3/lib/python3.13/site-packages (from jupyterlab->jupyter->jupyturtle) (72.1.0)\n",
      "Requirement already satisfied: anyio>=3.1.0 in /opt/anaconda3/lib/python3.13/site-packages (from jupyter-server<3,>=2.4.0->jupyterlab->jupyter->jupyturtle) (4.7.0)\n",
      "Requirement already satisfied: argon2-cffi>=21.1 in /opt/anaconda3/lib/python3.13/site-packages (from jupyter-server<3,>=2.4.0->jupyterlab->jupyter->jupyturtle) (21.3.0)\n",
      "Requirement already satisfied: jupyter-events>=0.11.0 in /opt/anaconda3/lib/python3.13/site-packages (from jupyter-server<3,>=2.4.0->jupyterlab->jupyter->jupyturtle) (0.12.0)\n",
      "Requirement already satisfied: jupyter-server-terminals>=0.4.4 in /opt/anaconda3/lib/python3.13/site-packages (from jupyter-server<3,>=2.4.0->jupyterlab->jupyter->jupyturtle) (0.5.3)\n",
      "Requirement already satisfied: nbformat>=5.3.0 in /opt/anaconda3/lib/python3.13/site-packages (from jupyter-server<3,>=2.4.0->jupyterlab->jupyter->jupyturtle) (5.10.4)\n",
      "Requirement already satisfied: overrides>=5.0 in /opt/anaconda3/lib/python3.13/site-packages (from jupyter-server<3,>=2.4.0->jupyterlab->jupyter->jupyturtle) (7.4.0)\n",
      "Requirement already satisfied: prometheus-client>=0.9 in /opt/anaconda3/lib/python3.13/site-packages (from jupyter-server<3,>=2.4.0->jupyterlab->jupyter->jupyturtle) (0.21.1)\n",
      "Requirement already satisfied: send2trash>=1.8.2 in /opt/anaconda3/lib/python3.13/site-packages (from jupyter-server<3,>=2.4.0->jupyterlab->jupyter->jupyturtle) (1.8.2)\n",
      "Requirement already satisfied: terminado>=0.8.3 in /opt/anaconda3/lib/python3.13/site-packages (from jupyter-server<3,>=2.4.0->jupyterlab->jupyter->jupyturtle) (0.17.1)\n",
      "Requirement already satisfied: websocket-client>=1.7 in /opt/anaconda3/lib/python3.13/site-packages (from jupyter-server<3,>=2.4.0->jupyterlab->jupyter->jupyturtle) (1.8.0)\n",
      "Requirement already satisfied: babel>=2.10 in /opt/anaconda3/lib/python3.13/site-packages (from jupyterlab-server<3,>=2.27.1->jupyterlab->jupyter->jupyturtle) (2.16.0)\n",
      "Requirement already satisfied: json5>=0.9.0 in /opt/anaconda3/lib/python3.13/site-packages (from jupyterlab-server<3,>=2.27.1->jupyterlab->jupyter->jupyturtle) (0.9.25)\n",
      "Requirement already satisfied: jsonschema>=4.18.0 in /opt/anaconda3/lib/python3.13/site-packages (from jupyterlab-server<3,>=2.27.1->jupyterlab->jupyter->jupyturtle) (4.23.0)\n",
      "Requirement already satisfied: requests>=2.31 in /opt/anaconda3/lib/python3.13/site-packages (from jupyterlab-server<3,>=2.27.1->jupyterlab->jupyter->jupyturtle) (2.32.3)\n",
      "Requirement already satisfied: idna>=2.8 in /opt/anaconda3/lib/python3.13/site-packages (from anyio>=3.1.0->jupyter-server<3,>=2.4.0->jupyterlab->jupyter->jupyturtle) (3.7)\n",
      "Requirement already satisfied: sniffio>=1.1 in /opt/anaconda3/lib/python3.13/site-packages (from anyio>=3.1.0->jupyter-server<3,>=2.4.0->jupyterlab->jupyter->jupyturtle) (1.3.0)\n",
      "Requirement already satisfied: argon2-cffi-bindings in /opt/anaconda3/lib/python3.13/site-packages (from argon2-cffi>=21.1->jupyter-server<3,>=2.4.0->jupyterlab->jupyter->jupyturtle) (21.2.0)\n",
      "Requirement already satisfied: certifi in /opt/anaconda3/lib/python3.13/site-packages (from httpx>=0.25.0->jupyterlab->jupyter->jupyturtle) (2025.8.3)\n",
      "Requirement already satisfied: httpcore==1.* in /opt/anaconda3/lib/python3.13/site-packages (from httpx>=0.25.0->jupyterlab->jupyter->jupyturtle) (1.0.9)\n",
      "Requirement already satisfied: h11>=0.16 in /opt/anaconda3/lib/python3.13/site-packages (from httpcore==1.*->httpx>=0.25.0->jupyterlab->jupyter->jupyturtle) (0.16.0)\n",
      "Requirement already satisfied: MarkupSafe>=2.0 in /opt/anaconda3/lib/python3.13/site-packages (from jinja2>=3.0.3->jupyterlab->jupyter->jupyturtle) (3.0.2)\n",
      "Requirement already satisfied: attrs>=22.2.0 in /opt/anaconda3/lib/python3.13/site-packages (from jsonschema>=4.18.0->jupyterlab-server<3,>=2.27.1->jupyterlab->jupyter->jupyturtle) (24.3.0)\n",
      "Requirement already satisfied: jsonschema-specifications>=2023.03.6 in /opt/anaconda3/lib/python3.13/site-packages (from jsonschema>=4.18.0->jupyterlab-server<3,>=2.27.1->jupyterlab->jupyter->jupyturtle) (2023.7.1)\n",
      "Requirement already satisfied: referencing>=0.28.4 in /opt/anaconda3/lib/python3.13/site-packages (from jsonschema>=4.18.0->jupyterlab-server<3,>=2.27.1->jupyterlab->jupyter->jupyturtle) (0.30.2)\n",
      "Requirement already satisfied: rpds-py>=0.7.1 in /opt/anaconda3/lib/python3.13/site-packages (from jsonschema>=4.18.0->jupyterlab-server<3,>=2.27.1->jupyterlab->jupyter->jupyturtle) (0.22.3)\n",
      "Requirement already satisfied: python-json-logger>=2.0.4 in /opt/anaconda3/lib/python3.13/site-packages (from jupyter-events>=0.11.0->jupyter-server<3,>=2.4.0->jupyterlab->jupyter->jupyturtle) (3.2.1)\n",
      "Requirement already satisfied: pyyaml>=5.3 in /opt/anaconda3/lib/python3.13/site-packages (from jupyter-events>=0.11.0->jupyter-server<3,>=2.4.0->jupyterlab->jupyter->jupyturtle) (6.0.2)\n",
      "Requirement already satisfied: rfc3339-validator in /opt/anaconda3/lib/python3.13/site-packages (from jupyter-events>=0.11.0->jupyter-server<3,>=2.4.0->jupyterlab->jupyter->jupyturtle) (0.1.4)\n",
      "Requirement already satisfied: rfc3986-validator>=0.1.1 in /opt/anaconda3/lib/python3.13/site-packages (from jupyter-events>=0.11.0->jupyter-server<3,>=2.4.0->jupyterlab->jupyter->jupyturtle) (0.1.1)\n",
      "Requirement already satisfied: fqdn in /opt/anaconda3/lib/python3.13/site-packages (from jsonschema[format-nongpl]>=4.18.0->jupyter-events>=0.11.0->jupyter-server<3,>=2.4.0->jupyterlab->jupyter->jupyturtle) (1.5.1)\n",
      "Requirement already satisfied: isoduration in /opt/anaconda3/lib/python3.13/site-packages (from jsonschema[format-nongpl]>=4.18.0->jupyter-events>=0.11.0->jupyter-server<3,>=2.4.0->jupyterlab->jupyter->jupyturtle) (20.11.0)\n",
      "Requirement already satisfied: jsonpointer>1.13 in /opt/anaconda3/lib/python3.13/site-packages (from jsonschema[format-nongpl]>=4.18.0->jupyter-events>=0.11.0->jupyter-server<3,>=2.4.0->jupyterlab->jupyter->jupyturtle) (2.1)\n",
      "Requirement already satisfied: uri-template in /opt/anaconda3/lib/python3.13/site-packages (from jsonschema[format-nongpl]>=4.18.0->jupyter-events>=0.11.0->jupyter-server<3,>=2.4.0->jupyterlab->jupyter->jupyturtle) (1.3.0)\n",
      "Requirement already satisfied: webcolors>=24.6.0 in /opt/anaconda3/lib/python3.13/site-packages (from jsonschema[format-nongpl]>=4.18.0->jupyter-events>=0.11.0->jupyter-server<3,>=2.4.0->jupyterlab->jupyter->jupyturtle) (24.11.1)\n",
      "Requirement already satisfied: beautifulsoup4 in /opt/anaconda3/lib/python3.13/site-packages (from nbconvert->jupyter->jupyturtle) (4.12.3)\n",
      "Requirement already satisfied: bleach!=5.0.0 in /opt/anaconda3/lib/python3.13/site-packages (from bleach[css]!=5.0.0->nbconvert->jupyter->jupyturtle) (6.2.0)\n",
      "Requirement already satisfied: defusedxml in /opt/anaconda3/lib/python3.13/site-packages (from nbconvert->jupyter->jupyturtle) (0.7.1)\n",
      "Requirement already satisfied: jupyterlab-pygments in /opt/anaconda3/lib/python3.13/site-packages (from nbconvert->jupyter->jupyturtle) (0.3.0)\n",
      "Requirement already satisfied: mistune<4,>=2.0.3 in /opt/anaconda3/lib/python3.13/site-packages (from nbconvert->jupyter->jupyturtle) (3.1.2)\n",
      "Requirement already satisfied: nbclient>=0.5.0 in /opt/anaconda3/lib/python3.13/site-packages (from nbconvert->jupyter->jupyturtle) (0.10.2)\n",
      "Requirement already satisfied: pandocfilters>=1.4.1 in /opt/anaconda3/lib/python3.13/site-packages (from nbconvert->jupyter->jupyturtle) (1.5.0)\n",
      "Requirement already satisfied: webencodings in /opt/anaconda3/lib/python3.13/site-packages (from bleach!=5.0.0->bleach[css]!=5.0.0->nbconvert->jupyter->jupyturtle) (0.5.1)\n",
      "Requirement already satisfied: tinycss2<1.5,>=1.1.0 in /opt/anaconda3/lib/python3.13/site-packages (from bleach[css]!=5.0.0->nbconvert->jupyter->jupyturtle) (1.4.0)\n",
      "Requirement already satisfied: fastjsonschema>=2.15 in /opt/anaconda3/lib/python3.13/site-packages (from nbformat>=5.3.0->jupyter-server<3,>=2.4.0->jupyterlab->jupyter->jupyturtle) (2.20.0)\n",
      "Requirement already satisfied: charset-normalizer<4,>=2 in /opt/anaconda3/lib/python3.13/site-packages (from requests>=2.31->jupyterlab-server<3,>=2.27.1->jupyterlab->jupyter->jupyturtle) (3.3.2)\n",
      "Requirement already satisfied: urllib3<3,>=1.21.1 in /opt/anaconda3/lib/python3.13/site-packages (from requests>=2.31->jupyterlab-server<3,>=2.27.1->jupyterlab->jupyter->jupyturtle) (2.3.0)\n",
      "Requirement already satisfied: cffi>=1.0.1 in /opt/anaconda3/lib/python3.13/site-packages (from argon2-cffi-bindings->argon2-cffi>=21.1->jupyter-server<3,>=2.4.0->jupyterlab->jupyter->jupyturtle) (1.17.1)\n",
      "Requirement already satisfied: pycparser in /opt/anaconda3/lib/python3.13/site-packages (from cffi>=1.0.1->argon2-cffi-bindings->argon2-cffi>=21.1->jupyter-server<3,>=2.4.0->jupyterlab->jupyter->jupyturtle) (2.21)\n",
      "Requirement already satisfied: soupsieve>1.2 in /opt/anaconda3/lib/python3.13/site-packages (from beautifulsoup4->nbconvert->jupyter->jupyturtle) (2.5)\n",
      "Requirement already satisfied: arrow>=0.15.0 in /opt/anaconda3/lib/python3.13/site-packages (from isoduration->jsonschema[format-nongpl]>=4.18.0->jupyter-events>=0.11.0->jupyter-server<3,>=2.4.0->jupyterlab->jupyter->jupyturtle) (1.3.0)\n",
      "Requirement already satisfied: iniconfig in /opt/anaconda3/lib/python3.13/site-packages (from pytest->jupyturtle) (1.1.1)\n",
      "Requirement already satisfied: pluggy<2,>=1.5 in /opt/anaconda3/lib/python3.13/site-packages (from pytest->jupyturtle) (1.5.0)\n",
      "Requirement already satisfied: executing in /opt/anaconda3/lib/python3.13/site-packages (from stack-data->ipython>=8->jupyturtle) (0.8.3)\n",
      "Requirement already satisfied: asttokens in /opt/anaconda3/lib/python3.13/site-packages (from stack-data->ipython>=8->jupyturtle) (3.0.0)\n",
      "Requirement already satisfied: pure-eval in /opt/anaconda3/lib/python3.13/site-packages (from stack-data->ipython>=8->jupyturtle) (0.2.2)\n"
     ]
    }
   ],
   "source": [
    "!pip install jupyturtle\n",
    "import jupyturtle"
   ]
  },
  {
   "cell_type": "markdown",
   "id": "6c85b6d1",
   "metadata": {},
   "source": [
    "Now we can use the functions defined in the module, like `make_turtle` and `forward`."
   ]
  },
  {
   "cell_type": "code",
   "execution_count": null,
   "id": "620c31da",
   "metadata": {},
   "outputs": [
    {
     "data": {
      "text/html": [
       "<svg width=\"300\" height=\"150\" style=\"fill:none; stroke-linecap:round;\">\n",
       "    <rect width=\"100%\" height=\"100%\" fill=\"#F3F3F7\" />\n",
       "\n",
       "\n",
       "<path stroke=\"#663399\" stroke-width=\"2\" d=\"M 150,75 214,75\" />'\n",
       "\n",
       "<g transform=\"rotate(-90.0,214.0,75.0) translate(214.0, 75.0)\">\n",
       "    <circle stroke=\"#63A375\" stroke-width=\"2\" fill=\"transparent\" r=\"5.5\" cx=\"0\" cy=\"0\"/>\n",
       "    <polygon points=\"0,12 2,9 -2,9\" style=\"fill:#63A375;stroke:#63A375;stroke-width:2\"/>\n",
       "</g>\n",
       "\n",
       "</svg>"
      ],
      "text/plain": [
       "<IPython.core.display.HTML object>"
      ]
     },
     "metadata": {},
     "output_type": "display_data"
    }
   ],
   "source": [
    "jupyturtle.make_turtle()\n",
    "jupyturtle.forward(64)"
   ]
  },
  {
   "cell_type": "markdown",
   "id": "d1461990",
   "metadata": {},
   "source": [
    "`make_turtle` creates a **canvas**, which is a space on the screen where we can draw, and a turtle, which is represented by a circular shell and a triangular head.\n",
    "The circle shows the location of the turtle and the triangle indicates the direction it is facing.\n",
    "\n",
    "`forward` moves the turtle a given distance in the direction it's facing, drawing a line segment along the way.\n",
    "The distance is in arbitrary units -- the actual size depends on your computer's screen.\n",
    "\n",
    "We will use functions defined in the `jupyturtle` module many times, so it would be nice if we did not have to write the name of the module every time.\n",
    "That's possible if we import the module like this."
   ]
  },
  {
   "cell_type": "code",
   "execution_count": null,
   "id": "c0122ef9",
   "metadata": {},
   "outputs": [],
   "source": [
    "from jupyturtle import make_turtle, forward"
   ]
  },
  {
   "cell_type": "markdown",
   "id": "624cdf87",
   "metadata": {},
   "source": [
    "This version of the import statement imports `make_turtle` and `forward` from the `jupyturtle` module so we can call them like this."
   ]
  },
  {
   "cell_type": "code",
   "execution_count": null,
   "id": "924ff5a9",
   "metadata": {},
   "outputs": [
    {
     "data": {
      "text/html": [
       "<svg width=\"300\" height=\"150\" style=\"fill:none; stroke-linecap:round;\">\n",
       "    <rect width=\"100%\" height=\"100%\" fill=\"#F3F3F7\" />\n",
       "\n",
       "\n",
       "<path stroke=\"#663399\" stroke-width=\"2\" d=\"M 150,75 214,75\" />'\n",
       "\n",
       "<g transform=\"rotate(-90.0,214.0,75.0) translate(214.0, 75.0)\">\n",
       "    <circle stroke=\"#63A375\" stroke-width=\"2\" fill=\"transparent\" r=\"5.5\" cx=\"0\" cy=\"0\"/>\n",
       "    <polygon points=\"0,12 2,9 -2,9\" style=\"fill:#63A375;stroke:#63A375;stroke-width:2\"/>\n",
       "</g>\n",
       "\n",
       "</svg>"
      ],
      "text/plain": [
       "<IPython.core.display.HTML object>"
      ]
     },
     "metadata": {},
     "output_type": "display_data"
    }
   ],
   "source": [
    "make_turtle()\n",
    "forward(64)"
   ]
  },
  {
   "cell_type": "markdown",
   "id": "10ff7426",
   "metadata": {},
   "source": [
    "`jupyturtle` provides two other functions we'll use, called `left` and `right`.\n",
    "We'll import them like this."
   ]
  },
  {
   "cell_type": "code",
   "execution_count": null,
   "id": "d0872485",
   "metadata": {},
   "outputs": [],
   "source": [
    "from jupyturtle import left, right"
   ]
  },
  {
   "cell_type": "markdown",
   "id": "a83460f4",
   "metadata": {},
   "source": [
    "`left` causes the turtle to turn left. It takes one argument, which is the angle of the turn in degrees.\n",
    "For example, we can make a 90 degree left turn like this."
   ]
  },
  {
   "cell_type": "code",
   "execution_count": null,
   "id": "79341a50",
   "metadata": {},
   "outputs": [
    {
     "data": {
      "text/html": [
       "<svg width=\"300\" height=\"150\" style=\"fill:none; stroke-linecap:round;\">\n",
       "    <rect width=\"100%\" height=\"100%\" fill=\"#F3F3F7\" />\n",
       "\n",
       "\n",
       "<path stroke=\"#663399\" stroke-width=\"2\" d=\"M 150,75 214,75 179,14.4\" />'\n",
       "\n",
       "<g transform=\"rotate(150.0,179.0,14.4) translate(179.0, 14.4)\">\n",
       "    <circle stroke=\"#63A375\" stroke-width=\"2\" fill=\"transparent\" r=\"5.5\" cx=\"0\" cy=\"0\"/>\n",
       "    <polygon points=\"0,12 2,9 -2,9\" style=\"fill:#63A375;stroke:#63A375;stroke-width:2\"/>\n",
       "</g>\n",
       "\n",
       "</svg>"
      ],
      "text/plain": [
       "<IPython.core.display.HTML object>"
      ]
     },
     "metadata": {},
     "output_type": "display_data"
    }
   ],
   "source": [
    "make_turtle()\n",
    "forward(64)\n",
    "left(120)\n",
    "forward(70)"
   ]
  },
  {
   "cell_type": "markdown",
   "id": "b75a2cb2",
   "metadata": {},
   "source": [
    "This program moves the turtle east and then north, leaving two line segments behind.\n",
    "Before you go on, see if you can modify the previous program to make a square."
   ]
  },
  {
   "cell_type": "markdown",
   "id": "fa4003c8",
   "metadata": {},
   "source": [
    "## Making a square\n",
    "\n",
    "Here's one way to make a square."
   ]
  },
  {
   "cell_type": "code",
   "execution_count": null,
   "id": "e317a9f8",
   "metadata": {},
   "outputs": [
    {
     "data": {
      "text/html": [
       "<svg width=\"300\" height=\"150\" style=\"fill:none; stroke-linecap:round;\">\n",
       "    <rect width=\"100%\" height=\"100%\" fill=\"#F3F3F7\" />\n",
       "\n",
       "\n",
       "<path stroke=\"#663399\" stroke-width=\"2\" d=\"M 150,75 214,75 214,139 150,139 150,75\" />'\n",
       "\n",
       "<g transform=\"rotate(-90.0,150.0,75.0) translate(150.0, 75.0)\">\n",
       "    <circle stroke=\"#63A375\" stroke-width=\"2\" fill=\"transparent\" r=\"5.5\" cx=\"0\" cy=\"0\"/>\n",
       "    <polygon points=\"0,12 2,9 -2,9\" style=\"fill:#63A375;stroke:#63A375;stroke-width:2\"/>\n",
       "</g>\n",
       "\n",
       "</svg>"
      ],
      "text/plain": [
       "<IPython.core.display.HTML object>"
      ]
     },
     "metadata": {},
     "output_type": "display_data"
    }
   ],
   "source": [
    "make_turtle()\n",
    "forward(64)\n",
    "right(90)\n",
    "\n",
    "forward(64)\n",
    "right(90)\n",
    "\n",
    "forward(64)\n",
    "right(90)\n",
    "\n",
    "forward(64)\n",
    "right(90)"
   ]
  },
  {
   "cell_type": "markdown",
   "id": "07ae03c7",
   "metadata": {},
   "source": [
    "Because this program repeats the same pair of lines four times, we can do the same thing more concisely with a `for` loop."
   ]
  },
  {
   "cell_type": "code",
   "execution_count": null,
   "id": "7909e0e8",
   "metadata": {},
   "outputs": [
    {
     "data": {
      "text/html": [
       "<svg width=\"300\" height=\"150\" style=\"fill:none; stroke-linecap:round;\">\n",
       "    <rect width=\"100%\" height=\"100%\" fill=\"#F3F3F7\" />\n",
       "\n",
       "\n",
       "<path stroke=\"#663399\" stroke-width=\"2\" d=\"M 150,75 214,75 214,139 150,139 150,75 214,75 214,139 150,139 150,75\" />'\n",
       "\n",
       "<g transform=\"rotate(-90.0,150.0,75.0) translate(150.0, 75.0)\">\n",
       "    <circle stroke=\"#63A375\" stroke-width=\"2\" fill=\"transparent\" r=\"5.5\" cx=\"0\" cy=\"0\"/>\n",
       "    <polygon points=\"0,12 2,9 -2,9\" style=\"fill:#63A375;stroke:#63A375;stroke-width:2\"/>\n",
       "</g>\n",
       "\n",
       "</svg>"
      ],
      "text/plain": [
       "<IPython.core.display.HTML object>"
      ]
     },
     "metadata": {},
     "output_type": "display_data"
    }
   ],
   "source": [
    "make_turtle()\n",
    "for i in range(8):\n",
    "    forward(64)\n",
    "    right(90)"
   ]
  },
  {
   "cell_type": "markdown",
   "id": "8e94f598",
   "metadata": {},
   "source": [
    "## Encapsulation and generalization\n",
    "\n",
    "Let's take the square-drawing code from the previous section and put it in a function called `square`."
   ]
  },
  {
   "cell_type": "code",
   "execution_count": null,
   "id": "cda09c55",
   "metadata": {},
   "outputs": [],
   "source": [
    "def square():\n",
    "    for i in range(4):\n",
    "        forward(64)\n",
    "        right(90)"
   ]
  },
  {
   "cell_type": "markdown",
   "id": "b8a55572",
   "metadata": {},
   "source": [
    "Now we can call the function like this."
   ]
  },
  {
   "cell_type": "code",
   "execution_count": null,
   "id": "e70b4fee",
   "metadata": {},
   "outputs": [
    {
     "data": {
      "text/html": [
       "<svg width=\"300\" height=\"150\" style=\"fill:none; stroke-linecap:round;\">\n",
       "    <rect width=\"100%\" height=\"100%\" fill=\"#F3F3F7\" />\n",
       "\n",
       "\n",
       "<path stroke=\"#663399\" stroke-width=\"2\" d=\"M 150,75 214,75 214,139 150,139 150,75\" />'\n",
       "\n",
       "<g transform=\"rotate(-90.0,150.0,75.0) translate(150.0, 75.0)\">\n",
       "    <circle stroke=\"#63A375\" stroke-width=\"2\" fill=\"transparent\" r=\"5.5\" cx=\"0\" cy=\"0\"/>\n",
       "    <polygon points=\"0,12 2,9 -2,9\" style=\"fill:#63A375;stroke:#63A375;stroke-width:2\"/>\n",
       "</g>\n",
       "\n",
       "</svg>"
      ],
      "text/plain": [
       "<IPython.core.display.HTML object>"
      ]
     },
     "metadata": {},
     "output_type": "display_data"
    }
   ],
   "source": [
    "make_turtle()\n",
    "square()"
   ]
  },
  {
   "cell_type": "markdown",
   "id": "b862fddd",
   "metadata": {},
   "source": [
    "Wrapping a piece of code up in a function is called **encapsulation**.\n",
    "One of the benefits of encapsulation is that it attaches a name to the code, which serves as a kind of documentation. Another advantage is that if you re-use the code, it is more concise to call a function twice than to copy and paste the body!\n",
    "\n",
    "In the current version, the size of the square is always `50`.\n",
    "If we want to draw squares with different sizes, we can take the length of the sides as a parameter. "
   ]
  },
  {
   "cell_type": "code",
   "execution_count": null,
   "id": "92541989",
   "metadata": {},
   "outputs": [],
   "source": [
    "def square(length):\n",
    "    for i in range(4):\n",
    "        forward(length)\n",
    "        right(90)"
   ]
  },
  {
   "cell_type": "markdown",
   "id": "6acbb2cc",
   "metadata": {},
   "source": [
    "Now we can draw squares with different sizes."
   ]
  },
  {
   "cell_type": "code",
   "execution_count": null,
   "id": "2f1759e8",
   "metadata": {},
   "outputs": [
    {
     "data": {
      "text/html": [
       "<svg width=\"300\" height=\"150\" style=\"fill:none; stroke-linecap:round;\">\n",
       "    <rect width=\"100%\" height=\"100%\" fill=\"#F3F3F7\" />\n",
       "\n",
       "\n",
       "<path stroke=\"#663399\" stroke-width=\"2\" d=\"M 150,75 160,75 160,85 150,85 150,75 170,75 170,95 150,95 150,75 180,75 180,105 150,105 150,75 190,75 190,115 150,115 150,75 200,75 200,125 150,125 150,75 210,75 210,135 150,135 150,75 165,75 165,90 150,90 150,75 175,75 175,100 150,100 150,75 185,75 185,110 150,110 150,75 195,75 195,120 150,120 150,75 205,75 205,130 150,130 150,75 215,75 215,140 150,140 150,75\" />'\n",
       "\n",
       "<g transform=\"rotate(-90.0,150.0,75.0) translate(150.0, 75.0)\">\n",
       "    <circle stroke=\"#63A375\" stroke-width=\"2\" fill=\"transparent\" r=\"5.5\" cx=\"0\" cy=\"0\"/>\n",
       "    <polygon points=\"0,12 2,9 -2,9\" style=\"fill:#63A375;stroke:#63A375;stroke-width:2\"/>\n",
       "</g>\n",
       "\n",
       "</svg>"
      ],
      "text/plain": [
       "<IPython.core.display.HTML object>"
      ]
     },
     "metadata": {},
     "output_type": "display_data"
    }
   ],
   "source": [
    "make_turtle()\n",
    "square(10)\n",
    "square(20)\n",
    "square(30)\n",
    "square(40)\n",
    "square(50)\n",
    "square(60)\n",
    "square(15)\n",
    "square(25)\n",
    "square(35)\n",
    "square(45)\n",
    "square(55)\n",
    "square(65)\n",
    "\n"
   ]
  },
  {
   "cell_type": "markdown",
   "id": "8c70ee2e",
   "metadata": {},
   "source": [
    "Adding a parameter to a function is called **generalization** because it makes the function more general: with the previous version, the square is always the same size; with this version it can be any size.\n",
    "\n",
    "If we add another parameter, we can make it even more general.\n",
    "The following function draws regular polygons with a given number of sides."
   ]
  },
  {
   "cell_type": "code",
   "execution_count": null,
   "id": "da7adb5e",
   "metadata": {},
   "outputs": [],
   "source": [
    "def polygon(n,length):\n",
    "    angle= 360/n\n",
    "    for i in range(n):\n",
    "        forward(length)\n",
    "        right(angle)"
   ]
  },
  {
   "cell_type": "markdown",
   "id": "24dd3206",
   "metadata": {},
   "source": [
    "In a regular polygon with `n` sides, the angle between adjacent sides is `360 / n` degrees. \n",
    "\n",
    "The following example draws a `7`-sided polygon with side length `30`."
   ]
  },
  {
   "cell_type": "code",
   "execution_count": null,
   "id": "3bd99980",
   "metadata": {},
   "outputs": [
    {
     "data": {
      "text/html": [
       "<svg width=\"300\" height=\"150\" style=\"fill:none; stroke-linecap:round;\">\n",
       "    <rect width=\"100%\" height=\"100%\" fill=\"#F3F3F7\" />\n",
       "\n",
       "\n",
       "<path stroke=\"#663399\" stroke-width=\"2\" d=\"M 150,75 170,75 182.5,90.6 178,110.1 160,118.8 142,110.1 137.5,90.6 150,75\" />'\n",
       "\n",
       "<g transform=\"rotate(-90.0,150.0,75.0) translate(150.0, 75.0)\">\n",
       "    <circle stroke=\"#63A375\" stroke-width=\"2\" fill=\"transparent\" r=\"5.5\" cx=\"0\" cy=\"0\"/>\n",
       "    <polygon points=\"0,12 2,9 -2,9\" style=\"fill:#63A375;stroke:#63A375;stroke-width:2\"/>\n",
       "</g>\n",
       "\n",
       "</svg>"
      ],
      "text/plain": [
       "<IPython.core.display.HTML object>"
      ]
     },
     "metadata": {},
     "output_type": "display_data"
    }
   ],
   "source": [
    "make_turtle()\n",
    "polygon(7,20)"
   ]
  },
  {
   "cell_type": "markdown",
   "id": "aeb96c15",
   "metadata": {},
   "source": [
    "When a function has more than a few numeric arguments, it is easy to forget what they are, or what order they should be in. \n",
    "It can be a good idea to include the names of the parameters in the argument list."
   ]
  },
  {
   "cell_type": "code",
   "execution_count": null,
   "id": "e4c09e00",
   "metadata": {},
   "outputs": [
    {
     "data": {
      "text/html": [
       "<svg width=\"300\" height=\"150\" style=\"fill:none; stroke-linecap:round;\">\n",
       "    <rect width=\"100%\" height=\"100%\" fill=\"#F3F3F7\" />\n",
       "\n",
       "\n",
       "<path stroke=\"#663399\" stroke-width=\"2\" d=\"M 150,75 170,75 182.5,90.6 178,110.1 160,118.8 142,110.1 137.5,90.6 150,75\" />'\n",
       "\n",
       "<g transform=\"rotate(-90.0,150.0,75.0) translate(150.0, 75.0)\">\n",
       "    <circle stroke=\"#63A375\" stroke-width=\"2\" fill=\"transparent\" r=\"5.5\" cx=\"0\" cy=\"0\"/>\n",
       "    <polygon points=\"0,12 2,9 -2,9\" style=\"fill:#63A375;stroke:#63A375;stroke-width:2\"/>\n",
       "</g>\n",
       "\n",
       "</svg>"
      ],
      "text/plain": [
       "<IPython.core.display.HTML object>"
      ]
     },
     "metadata": {},
     "output_type": "display_data"
    }
   ],
   "source": [
    "make_turtle()\n",
    "polygon(n=7, length = 20)"
   ]
  },
  {
   "cell_type": "markdown",
   "id": "ecbb310d",
   "metadata": {},
   "source": [
    "These are sometimes called \"named arguments\" because they include the parameter names.\n",
    "But in Python they are more often called **keyword arguments** (not to be confused with Python keywords like `for` and `def`).\n",
    "\n",
    "This use of the assignment operator, `=`, is a reminder about how arguments and parameters work -- when you call a function, the arguments are assigned to the parameters."
   ]
  },
  {
   "cell_type": "markdown",
   "id": "0964daa9",
   "metadata": {},
   "source": [
    "## Approximating a circle\n",
    "\n",
    "Now suppose we want to draw a circle.\n",
    "We can do that, approximately, by drawing a polygon with a large number of sides, so each side is small enough that it's hard to see.\n",
    "Here is a function that uses `polygon` to draw a `30`-sided polygon that approximates a circle."
   ]
  },
  {
   "cell_type": "code",
   "execution_count": null,
   "id": "51a58d43",
   "metadata": {},
   "outputs": [],
   "source": [
    "import math\n",
    "\n",
    "def circle(radius):\n",
    "    circumference = 2 * math.pi * radius \n",
    "    n = 50 \n",
    "    length = circumference / n \n",
    "    polygon (n, length)"
   ]
  },
  {
   "cell_type": "markdown",
   "id": "7521249f",
   "metadata": {},
   "source": [
    "`circle` takes the radius of the the circle as a parameter.\n",
    "It computes `circumference`, which is the circumference of a circle with the given radius.\n",
    "`n` is the number of sides, so `circumference / n` is the length of each side.\n",
    "\n",
    "This function might take a long time to run.\n",
    "We can speed it up by calling `make_turtle` with a keyword argument called `delay` that sets the time, in seconds, the turtle waits after each step.\n",
    "The default value is `0.2` seconds -- if we set it to `0.02` it runs about 10 times faster."
   ]
  },
  {
   "cell_type": "code",
   "execution_count": null,
   "id": "d493fade",
   "metadata": {},
   "outputs": [
    {
     "data": {
      "text/html": [
       "<svg width=\"300\" height=\"150\" style=\"fill:none; stroke-linecap:round;\">\n",
       "    <rect width=\"100%\" height=\"100%\" fill=\"#F3F3F7\" />\n",
       "\n",
       "\n",
       "<path stroke=\"#663399\" stroke-width=\"2\" d=\"M 150,75 152.5,75 155,75.3 157.4,75.9 159.8,76.9 162,78.1 164,79.6 165.8,81.3 167.4,83.2 168.8,85.3 169.9,87.6 170.6,90 171.1,92.5 171.3,95 171.1,97.5 170.6,100 169.9,102.3 168.8,104.6 167.4,106.7 165.8,108.7 164,110.4 162,111.9 159.8,113.1 157.4,114 155,114.6 152.5,114.9 150,114.9 147.5,114.6 145.1,114 142.7,113.1 140.5,111.9 138.5,110.4 136.7,108.7 135.1,106.7 133.7,104.6 132.6,102.3 131.9,100 131.4,97.5 131.2,95 131.4,92.5 131.9,90 132.6,87.6 133.7,85.3 135.1,83.2 136.7,81.3 138.5,79.6 140.5,78.1 142.7,76.9 145.1,75.9 147.5,75.3 150,75\" />'\n",
       "\n",
       "<g transform=\"rotate(270.0,150.0,75.0) translate(150.0, 75.0)\">\n",
       "    <circle stroke=\"#63A375\" stroke-width=\"2\" fill=\"transparent\" r=\"5.5\" cx=\"0\" cy=\"0\"/>\n",
       "    <polygon points=\"0,12 2,9 -2,9\" style=\"fill:#63A375;stroke:#63A375;stroke-width:2\"/>\n",
       "</g>\n",
       "\n",
       "</svg>"
      ],
      "text/plain": [
       "<IPython.core.display.HTML object>"
      ]
     },
     "metadata": {},
     "output_type": "display_data"
    }
   ],
   "source": [
    "make_turtle()\n",
    "circle(20)"
   ]
  },
  {
   "cell_type": "markdown",
   "id": "dc4f683d",
   "metadata": {},
   "source": [
    "A limitation of this solution is that `n` is a constant, which means\n",
    "that for very big circles, the sides are too long, and for small\n",
    "circles, we waste time drawing very short sides.\n",
    "One option is to generalize the function by taking `n` as a parameter.\n",
    "But let's keep it simple for now."
   ]
  },
  {
   "cell_type": "markdown",
   "id": "718765ae",
   "metadata": {},
   "source": [
    "## Refactoring\n",
    "\n",
    "Now let's write a more general version of `circle`, called `arc`, that takes a second parameter, `angle`, and draws an arc of a circle that spans the given angle.\n",
    "For example, if `angle` is `360` degrees, it draws a complete circle. If `angle` is `180` degrees, it draws a half circle.\n",
    "\n",
    "To write `circle`, we were able to reuse `polygon`, because a many-sided polygon is a good approximation of a circle.\n",
    "But we can't use `polygon` to write `arc`.\n",
    "\n",
    "Instead, we'll create the more general version of `polygon`, called `polyline`."
   ]
  },
  {
   "cell_type": "code",
   "execution_count": null,
   "id": "362b9726",
   "metadata": {},
   "outputs": [],
   "source": [
    "def polyline(n, length, angle):\n",
    "    for i in range(n):\n",
    "        forward(length)\n",
    "        right(angle)"
   ]
  },
  {
   "cell_type": "markdown",
   "id": "554e724b",
   "metadata": {},
   "source": [
    "`polyline` takes as parameters the number of line segments to draw, `n`, the length of the segments, `length`, and the angle between them, `angle`.\n",
    "\n",
    "Now we can rewrite `polygon` to use `polyline`."
   ]
  },
  {
   "cell_type": "code",
   "execution_count": null,
   "id": "59424d61",
   "metadata": {},
   "outputs": [],
   "source": [
    "def polygon (n, length):\n",
    "    angle = 360.0/n\n",
    "    polyline(n, length, angle)"
   ]
  },
  {
   "cell_type": "markdown",
   "id": "80d9d90e",
   "metadata": {},
   "source": [
    "And we can use `polyline` to write `arc`."
   ]
  },
  {
   "cell_type": "code",
   "execution_count": null,
   "id": "31696e85",
   "metadata": {},
   "outputs": [],
   "source": [
    "def arc(radius, angle):\n",
    "    arc_length = 2 * math.pi * radius * angle / 360\n",
    "    n = 30\n",
    "    length = arc_length / n\n",
    "    step_angle = angle / n\n",
    "    polyline(n, length, step_angle)"
   ]
  },
  {
   "cell_type": "markdown",
   "id": "f603d9d3",
   "metadata": {},
   "source": []
  },
  {
   "cell_type": "markdown",
   "id": "20cb188a",
   "metadata": {},
   "source": [
    "`arc` is similar to `circle`, except that it computes `arc_length`, which is a fraction of the circumference of a circle.\n",
    "\n",
    "Finally, we can rewrite `circle` to use `arc`."
   ]
  },
  {
   "cell_type": "code",
   "execution_count": null,
   "id": "c598c864",
   "metadata": {},
   "outputs": [],
   "source": [
    "def circle(radius):\n",
    "    arc(radius,  360)"
   ]
  },
  {
   "cell_type": "markdown",
   "id": "8bdc530f",
   "metadata": {},
   "source": [
    "To check that these functions work as expected, we'll use them to draw something like a snail.\n",
    "With `delay=0`, the turtle runs as fast as possible."
   ]
  },
  {
   "cell_type": "code",
   "execution_count": null,
   "id": "0e10d588",
   "metadata": {},
   "outputs": [
    {
     "data": {
      "text/html": [
       "<svg width=\"300\" height=\"150\" style=\"fill:none; stroke-linecap:round;\">\n",
       "    <rect width=\"100%\" height=\"100%\" fill=\"#F3F3F7\" />\n",
       "\n",
       "\n",
       "<path stroke=\"#663399\" stroke-width=\"2\" d=\"M 150,75 159,75 167.6,77.8 174.8,83.1 180.1,90.4 182.9,98.9 182.9,107.9 180.1,116.5 174.8,123.8 167.6,129 159,131.8 150,131.8 141.4,129 134.2,123.8 128.9,116.5 126.1,107.9 126.1,98.9 128.9,90.4 134.2,83.1 141.4,77.8 150,75 152.9,75 155.7,75.1 158.5,75.3 161.4,75.7 164.2,76.2 167,76.7 169.7,77.4 172.5,78.2 175.2,79.1 177.8,80.2 180.5,81.3 183,82.5 185.5,83.9 188,85.3 190.4,86.8 192.7,88.5 195,90.2 197.2,92 199.3,93.9 201.4,95.9 203.3,98 205.2,100.1 207,102.4 208.7,104.7 210.2,107 211.7,109.5 213.1,111.9 214.4,114.5 215.6,117.1 216.7,119.7 217.4,121.7 217.7,123.8 217.6,125.8 217,127.9 216,129.7 214.7,131.3 213,132.6 211.1,133.5 209.1,134 207,134.1 204.9,133.7 203,133 201.3,131.8 199.8,130.3 198.7,128.5 198,126.5 197.7,124.5 197.8,122.4 198.4,120.4 199.4,118.5 200.7,116.9 202.4,115.6 204.3,114.7 206.3,114.2 208.4,114.1 210.5,114.5 212.4,115.3 214.1,116.4 215.6,117.9 216.7,119.7\" />'\n",
       "\n",
       "<g transform=\"rotate(-20.0,216.7,119.7) translate(216.7, 119.7)\">\n",
       "    <circle stroke=\"#63A375\" stroke-width=\"2\" fill=\"transparent\" r=\"5.5\" cx=\"0\" cy=\"0\"/>\n",
       "    <polygon points=\"0,12 2,9 -2,9\" style=\"fill:#63A375;stroke:#63A375;stroke-width:2\"/>\n",
       "</g>\n",
       "\n",
       "</svg>"
      ],
      "text/plain": [
       "<IPython.core.display.HTML object>"
      ]
     },
     "metadata": {},
     "output_type": "display_data"
    }
   ],
   "source": [
    "make_turtle(delay=0)\n",
    "polygon(n=20, length=9)\n",
    "arc(radius=70, angle=70)\n",
    "circle(radius=10)"
   ]
  },
  {
   "cell_type": "markdown",
   "id": "451e75e6",
   "metadata": {},
   "source": [
    "In this example, we started with working code and reorganized it with different functions.\n",
    "Changes like this, which improve the code without changing its behavior, are called **refactoring**.\n",
    "\n",
    "If we had planned ahead, we might have written `polyline` first and avoided refactoring, but often you don't know enough at the beginning of a project to design all the functions.\n",
    "Once you start coding, you understand the problem better.\n",
    "Sometimes refactoring is a sign that you have learned something."
   ]
  },
  {
   "cell_type": "markdown",
   "id": "6fceebef",
   "metadata": {},
   "source": [
    "## Stack diagram\n",
    "\n",
    "When we call `circle`, it calls `arc`, which calls `polyline`.\n",
    "We can use a stack diagram to show this sequence of function calls and the parameters for each one."
   ]
  },
  {
   "cell_type": "code",
   "execution_count": null,
   "id": "bae71279",
   "metadata": {},
   "outputs": [],
   "source": [
    "def circle(radius):\n",
    "    circumference = 2 * math.pi * radius\n",
    "    n = 30\n",
    "    length = circumference / n\n",
    "    polygon(n, length)"
   ]
  },
  {
   "cell_type": "code",
   "execution_count": null,
   "id": "da78094e",
   "metadata": {},
   "outputs": [],
   "source": [
    "def circle(radius):\n",
    "    arc(radius,  360)"
   ]
  },
  {
   "cell_type": "markdown",
   "id": "fe1b7ff4",
   "metadata": {},
   "source": [
    "Notice that the value of `angle` in `polyline` is different from the value of `angle` in `arc`.\n",
    "Parameters are local, which means you can use the same parameter name in different functions; it's a different variable in each function, and it can refer to a different value. "
   ]
  },
  {
   "cell_type": "markdown",
   "id": "99f91a19",
   "metadata": {},
   "source": [
    "## A development plan\n",
    "\n",
    "A **development plan** is a process for writing programs.\n",
    "The process we used in this chapter is \"encapsulation and generalization\".\n",
    "The steps of this process are:\n",
    "\n",
    "1.  Start by writing a small program with no function definitions.\n",
    "\n",
    "2.  Once you get the program working, identify a coherent piece of it,\n",
    "    encapsulate the piece in a function and give it a name.\n",
    "\n",
    "3.  Generalize the function by adding appropriate parameters.\n",
    "\n",
    "4.  Repeat Steps 1 to 3 until you have a set of working functions.\n",
    "\n",
    "5.  Look for opportunities to improve the program by refactoring. For\n",
    "    example, if you have similar code in several places, consider\n",
    "    factoring it into an appropriately general function.\n",
    "\n",
    "This process has some drawbacks -- we will see alternatives later -- but it can be useful if you don't know ahead of time how to divide the program into functions.\n",
    "This approach lets you design as you go along."
   ]
  },
  {
   "cell_type": "markdown",
   "id": "819eaaf4",
   "metadata": {},
   "source": [
    "The design of a function has two parts:\n",
    "\n",
    "* The **interface** is how the function is used, including its name, the parameters it takes and what the function is supposed to do.\n",
    "\n",
    "* The **implementation** is how the function does what it's supposed to do.\n",
    "\n",
    "For example, here's the first version of `circle` we wrote, which uses `polygon`."
   ]
  },
  {
   "cell_type": "code",
   "execution_count": null,
   "id": "9db4f7f4",
   "metadata": {},
   "outputs": [],
   "source": [
    "def circle(radius):\n",
    "    circumference = 2 * math.pi * radius\n",
    "    n = 30\n",
    "    length = circumference / n\n",
    "    polygon(n, length)"
   ]
  },
  {
   "cell_type": "markdown",
   "id": "0a268ace",
   "metadata": {},
   "source": [
    "And here's the refactored version that uses `arc`."
   ]
  },
  {
   "cell_type": "code",
   "execution_count": null,
   "id": "56dd8133",
   "metadata": {},
   "outputs": [],
   "source": [
    "def circle(radius):\n",
    "    arc(radius,  360)"
   ]
  },
  {
   "cell_type": "markdown",
   "id": "64abb8fe",
   "metadata": {},
   "source": [
    "These two functions have the same interface -- they take the same parameters and do the same thing -- but they have different implementations."
   ]
  },
  {
   "cell_type": "markdown",
   "id": "1f97be55",
   "metadata": {},
   "source": [
    "## Docstrings\n",
    "\n",
    "A **docstring** is a string at the beginning of a function that explains the interface (\"doc\" is short for \"documentation\").\n",
    "Here is an example:"
   ]
  },
  {
   "cell_type": "code",
   "execution_count": null,
   "id": "6582e8f7",
   "metadata": {},
   "outputs": [],
   "source": [
    "def polyline(n, length, angle):\n",
    "    for i in range(n):\n",
    "        forward(length)\n",
    "        left(angle)"
   ]
  },
  {
   "cell_type": "markdown",
   "id": "3e1df3e4",
   "metadata": {},
   "source": [
    "By convention, docstrings are triple-quoted strings, also known as **multiline strings** because the triple quotes allow the string to span more than one line.\n",
    "\n",
    "A docstring should:\n",
    "\n",
    "* Explain concisely what the function does, without getting into the details of how it works,\n",
    "\n",
    "* Explain what effect each parameter has on the behavior of the function, and\n",
    "\n",
    "* Indicate what type each parameter should be, if it is not obvious.\n",
    "\n",
    "Writing this kind of documentation is an important part of interface design.\n",
    "A well-designed interface should be simple to explain; if you have a hard time explaining one of your functions, maybe the interface could be improved."
   ]
  },
  {
   "cell_type": "markdown",
   "id": "73aae24c",
   "metadata": {},
   "source": [
    "## Debugging\n",
    "\n",
    "An interface is like a contract between a function and a caller. The\n",
    "caller agrees to provide certain arguments and the function agrees to\n",
    "do certain work.\n",
    "\n",
    "For example, `polyline` requires three arguments: `n` has to be an integer; `length` should be a positive number; and `angle` has to be a number, which is understood to be in degrees.\n",
    "\n",
    "These requirements are called **preconditions** because they are supposed to be true before the function starts executing. Conversely, conditions at the end of the function are **postconditions**.\n",
    "Postconditions include the intended effect of the function (like drawing line segments) and any side effects (like moving the turtle or making other changes).\n",
    "\n",
    "Preconditions are the responsibility of the caller. If the caller violates a precondition and the function doesn't work correctly, the bug is in the caller, not the function.\n",
    "\n",
    "If the preconditions are satisfied and the postconditions are not, the bug is in the function. If your pre- and postconditions are clear, they can help with debugging."
   ]
  },
  {
   "cell_type": "markdown",
   "id": "b09d85af",
   "metadata": {},
   "source": [
    "## Glossary\n",
    "\n",
    "**interface design:**\n",
    "A process for designing the interface of a function, which includes the parameters it should take.\n",
    "\n",
    "**canvas:**\n",
    "A window used to display graphical elements including lines, circles, rectangles, and other shapes.\n",
    "\n",
    "**encapsulation:**\n",
    " The process of transforming a sequence of statements into a function definition.\n",
    "\n",
    "**generalization:**\n",
    " The process of replacing something unnecessarily specific (like a number) with something appropriately general (like a variable or parameter).\n",
    "\n",
    "**keyword argument:**\n",
    "An argument that includes the name of the parameter.\n",
    "\n",
    "**refactoring:**\n",
    " The process of modifying a working program to improve function interfaces and other qualities of the code.\n",
    "\n",
    "**development plan:**\n",
    "A process for writing programs.\n",
    "\n",
    "**docstring:**\n",
    " A string that appears at the top of a function definition to document the function's interface.\n",
    "\n",
    "**multiline string:**\n",
    "A string enclosed in triple quotes that can span more than one line of a program.\n",
    "\n",
    "**precondition:**\n",
    " A requirement that should be satisfied by the caller before a function starts.\n",
    "\n",
    "**postcondition:**\n",
    " A requirement that should be satisfied by the function before it ends."
   ]
  },
  {
   "cell_type": "markdown",
   "id": "b0da91bf",
   "metadata": {},
   "source": [
    "## Exercises"
   ]
  },
  {
   "cell_type": "code",
   "execution_count": null,
   "id": "bdda1125",
   "metadata": {},
   "outputs": [
    {
     "name": "stdout",
     "output_type": "stream",
     "text": [
      "Exception reporting mode: Verbose\n"
     ]
    }
   ],
   "source": [
    "%xmode Verbose"
   ]
  },
  {
   "cell_type": "markdown",
   "id": "79144aed",
   "metadata": {},
   "source": [
    "For the exercises below, there are a few more turtle functions you might want to use.\n",
    "\n",
    "* `penup` lifts the turtle's imaginary pen so it doesn't leave a trail when it moves.\n",
    "\n",
    "* `pendown` puts the pen back down.\n",
    "\n",
    "The following function uses `penup` and `pendown` to move the turtle without leaving a trail."
   ]
  },
  {
   "cell_type": "code",
   "execution_count": null,
   "id": "62257ee2",
   "metadata": {},
   "outputs": [],
   "source": [
    "from jupyturtle import penup, pendown\n",
    "\n",
    "def jump(length):\n",
    "\n",
    "    penup()\n",
    "    forward(length)\n",
    "    pendown()"
   ]
  },
  {
   "cell_type": "markdown",
   "id": "b1c956c6",
   "metadata": {},
   "source": [
    "### Exercise\n",
    "\n",
    "Write a function called `rectangle` that draws a rectangle with given side lengths.\n",
    "For example, here's a rectangle that's `80` units wide and `40` units tall."
   ]
  },
  {
   "cell_type": "code",
   "execution_count": null,
   "id": "6bf2ca19",
   "metadata": {},
   "outputs": [
    {
     "data": {
      "text/html": [
       "<svg width=\"300\" height=\"150\" style=\"fill:none; stroke-linecap:round;\">\n",
       "    <rect width=\"100%\" height=\"100%\" fill=\"#F3F3F7\" />\n",
       "\n",
       "\n",
       "<path stroke=\"#663399\" stroke-width=\"2\" d=\"M 150,75 230,75 230,35 150,35 150,75\" />'\n",
       "\n",
       "<g transform=\"rotate(-90.0,150.0,75.0) translate(150.0, 75.0)\">\n",
       "    <circle stroke=\"#63A375\" stroke-width=\"2\" fill=\"transparent\" r=\"5.5\" cx=\"0\" cy=\"0\"/>\n",
       "    <polygon points=\"0,12 2,9 -2,9\" style=\"fill:#63A375;stroke:#63A375;stroke-width:2\"/>\n",
       "</g>\n",
       "\n",
       "</svg>"
      ],
      "text/plain": [
       "<IPython.core.display.HTML object>"
      ]
     },
     "metadata": {},
     "output_type": "display_data"
    }
   ],
   "source": [
    "make_turtle()\n",
    "\n",
    "forward(80)\n",
    "left(90)\n",
    "\n",
    "forward (40)\n",
    "left(90)\n",
    "\n",
    "forward(80)\n",
    "left(90)\n",
    "\n",
    "forward (40)\n",
    "left(90)"
   ]
  },
  {
   "cell_type": "markdown",
   "id": "fab96ec8",
   "metadata": {},
   "source": [
    "You can use the following code to test your function."
   ]
  },
  {
   "cell_type": "code",
   "execution_count": null,
   "id": "a77f4ddd",
   "metadata": {},
   "outputs": [
    {
     "data": {
      "text/html": [
       "<svg width=\"300\" height=\"150\" style=\"fill:none; stroke-linecap:round;\">\n",
       "    <rect width=\"100%\" height=\"100%\" fill=\"#F3F3F7\" />\n",
       "\n",
       "\n",
       "<path stroke=\"#663399\" stroke-width=\"2\" d=\"M 150,75 230,75 230,115 150,115 150,75\" />'\n",
       "\n",
       "<g transform=\"rotate(-90.0,150.0,75.0) translate(150.0, 75.0)\">\n",
       "    <circle stroke=\"#63A375\" stroke-width=\"2\" fill=\"transparent\" r=\"5.5\" cx=\"0\" cy=\"0\"/>\n",
       "    <polygon points=\"0,12 2,9 -2,9\" style=\"fill:#63A375;stroke:#63A375;stroke-width:2\"/>\n",
       "</g>\n",
       "\n",
       "</svg>"
      ],
      "text/plain": [
       "<IPython.core.display.HTML object>"
      ]
     },
     "metadata": {},
     "output_type": "display_data"
    }
   ],
   "source": [
    "\n",
    "make_turtle()\n",
    "for i in range(2):\n",
    "    forward(80)\n",
    "    right(90)\n",
    "    forward(40)\n",
    "    right(90)"
   ]
  },
  {
   "cell_type": "markdown",
   "id": "96cf5248",
   "metadata": {},
   "source": [
    "### Exercise\n",
    "\n",
    "Write a function called `rhombus` that draws a rhombus with a given side length and a given interior angle. For example, here's a rhombus with side length `50` and an interior angle of `60` degrees."
   ]
  },
  {
   "cell_type": "code",
   "execution_count": null,
   "id": "3b1a172b",
   "metadata": {},
   "outputs": [
    {
     "data": {
      "text/html": [
       "<svg width=\"300\" height=\"150\" style=\"fill:none; stroke-linecap:round;\">\n",
       "    <rect width=\"100%\" height=\"100%\" fill=\"#F3F3F7\" />\n",
       "\n",
       "\n",
       "<path stroke=\"#663399\" stroke-width=\"2\" d=\"M 150,75 200,75 225,31.7 175,31.7 150,75\" />'\n",
       "\n",
       "<g transform=\"rotate(-90.0,150.0,75.0) translate(150.0, 75.0)\">\n",
       "    <circle stroke=\"#63A375\" stroke-width=\"2\" fill=\"transparent\" r=\"5.5\" cx=\"0\" cy=\"0\"/>\n",
       "    <polygon points=\"0,12 2,9 -2,9\" style=\"fill:#63A375;stroke:#63A375;stroke-width:2\"/>\n",
       "</g>\n",
       "\n",
       "</svg>"
      ],
      "text/plain": [
       "<IPython.core.display.HTML object>"
      ]
     },
     "metadata": {},
     "output_type": "display_data"
    }
   ],
   "source": [
    "make_turtle()\n",
    "\n",
    "forward(50)\n",
    "left(60)\n",
    "\n",
    "forward(50)\n",
    "left(120)\n",
    "\n",
    "forward(50)\n",
    "left(60)\n",
    "\n",
    "forward(50)\n",
    "left(120)\n",
    "\n",
    "   \n",
    "\n",
    "    \n",
    "\n"
   ]
  },
  {
   "cell_type": "markdown",
   "id": "b8244e27",
   "metadata": {},
   "source": []
  },
  {
   "cell_type": "markdown",
   "id": "b389a740",
   "metadata": {},
   "source": [
    "You can use the following code to test your function."
   ]
  },
  {
   "cell_type": "code",
   "execution_count": null,
   "id": "298f597c",
   "metadata": {},
   "outputs": [
    {
     "data": {
      "text/html": [
       "<svg width=\"300\" height=\"150\" style=\"fill:none; stroke-linecap:round;\">\n",
       "    <rect width=\"100%\" height=\"100%\" fill=\"#F3F3F7\" />\n",
       "\n",
       "\n",
       "<path stroke=\"#663399\" stroke-width=\"2\" d=\"M 150,75 200,75 225,31.7 175,31.7 150,75\" />'\n",
       "\n",
       "<g transform=\"rotate(-90.0,150.0,75.0) translate(150.0, 75.0)\">\n",
       "    <circle stroke=\"#63A375\" stroke-width=\"2\" fill=\"transparent\" r=\"5.5\" cx=\"0\" cy=\"0\"/>\n",
       "    <polygon points=\"0,12 2,9 -2,9\" style=\"fill:#63A375;stroke:#63A375;stroke-width:2\"/>\n",
       "</g>\n",
       "\n",
       "</svg>"
      ],
      "text/plain": [
       "<IPython.core.display.HTML object>"
      ]
     },
     "metadata": {},
     "output_type": "display_data"
    }
   ],
   "source": [
    "make_turtle()\n",
    "\n",
    "for i in range(2):\n",
    "    forward(50)\n",
    "    left(60)\n",
    "    forward(50)\n",
    "    left(120)"
   ]
  },
  {
   "cell_type": "markdown",
   "id": "76a65b37",
   "metadata": {},
   "source": [
    "### Exercise\n",
    "\n",
    "Now write a more general function called `parallelogram` that draws a quadrilateral with parallel sides. Then rewrite `rectangle` and `rhombus` to use `parallelogram`."
   ]
  },
  {
   "cell_type": "code",
   "execution_count": null,
   "id": "404fc8d4",
   "metadata": {},
   "outputs": [],
   "source": [
    "import math \n",
    "\n",
    "def parallelogram(n,length1,length2,angle1,angle2):\n",
    "    angle = 360\n",
    "    angle = angle1 +angle2 + angle1 + angle2\n",
    "    angle1 = 180-angle2\n",
    "    for i in range(2):\n",
    "        forward(length1)\n",
    "        right(angle1)\n",
    "        forward(length2)\n",
    "        right(angle2)"
   ]
  },
  {
   "cell_type": "code",
   "execution_count": null,
   "id": "2b79561d",
   "metadata": {},
   "outputs": [
    {
     "data": {
      "text/html": [
       "<svg width=\"300\" height=\"150\" style=\"fill:none; stroke-linecap:round;\">\n",
       "    <rect width=\"100%\" height=\"100%\" fill=\"#F3F3F7\" />\n",
       "\n",
       "\n",
       "<path stroke=\"#663399\" stroke-width=\"2\" d=\"M 150,75 210,75 210,135 150,135 150,75\" />'\n",
       "\n",
       "<g transform=\"rotate(-90.0,150.0,75.0) translate(150.0, 75.0)\">\n",
       "    <circle stroke=\"#63A375\" stroke-width=\"2\" fill=\"transparent\" r=\"5.5\" cx=\"0\" cy=\"0\"/>\n",
       "    <polygon points=\"0,12 2,9 -2,9\" style=\"fill:#63A375;stroke:#63A375;stroke-width:2\"/>\n",
       "</g>\n",
       "\n",
       "</svg>"
      ],
      "text/plain": [
       "<IPython.core.display.HTML object>"
      ]
     },
     "metadata": {},
     "output_type": "display_data"
    }
   ],
   "source": [
    "#making a square\n",
    "make_turtle()\n",
    "parallelogram(4,60,60,90,90)"
   ]
  },
  {
   "cell_type": "code",
   "execution_count": null,
   "id": "f057749b",
   "metadata": {},
   "outputs": [
    {
     "data": {
      "text/html": [
       "<svg width=\"300\" height=\"150\" style=\"fill:none; stroke-linecap:round;\">\n",
       "    <rect width=\"100%\" height=\"100%\" fill=\"#F3F3F7\" />\n",
       "\n",
       "\n",
       "<path stroke=\"#663399\" stroke-width=\"2\" d=\"M 150,75 250,75 250,135 150,135 150,75\" />'\n",
       "\n",
       "<g transform=\"rotate(-90.0,150.0,75.0) translate(150.0, 75.0)\">\n",
       "    <circle stroke=\"#63A375\" stroke-width=\"2\" fill=\"transparent\" r=\"5.5\" cx=\"0\" cy=\"0\"/>\n",
       "    <polygon points=\"0,12 2,9 -2,9\" style=\"fill:#63A375;stroke:#63A375;stroke-width:2\"/>\n",
       "</g>\n",
       "\n",
       "</svg>"
      ],
      "text/plain": [
       "<IPython.core.display.HTML object>"
      ]
     },
     "metadata": {},
     "output_type": "display_data"
    }
   ],
   "source": [
    "#making a rectangle\n",
    "make_turtle()\n",
    "parallelogram(4,100,60,90,90)"
   ]
  },
  {
   "cell_type": "markdown",
   "id": "215369f9",
   "metadata": {},
   "source": [
    "You can use the following code to test your functions."
   ]
  },
  {
   "cell_type": "code",
   "execution_count": null,
   "id": "9475e04a",
   "metadata": {},
   "outputs": [
    {
     "data": {
      "text/html": [
       "<svg width=\"300\" height=\"150\" style=\"fill:none; stroke-linecap:round;\">\n",
       "    <rect width=\"100%\" height=\"100%\" fill=\"#F3F3F7\" />\n",
       "\n",
       "\n",
       "<path stroke=\"#663399\" stroke-width=\"2\" d=\"M 150,75 230,75 200,127 120,127 150,75\" />'\n",
       "\n",
       "<g transform=\"rotate(-90.0,150.0,75.0) translate(150.0, 75.0)\">\n",
       "    <circle stroke=\"#63A375\" stroke-width=\"2\" fill=\"transparent\" r=\"5.5\" cx=\"0\" cy=\"0\"/>\n",
       "    <polygon points=\"0,12 2,9 -2,9\" style=\"fill:#63A375;stroke:#63A375;stroke-width:2\"/>\n",
       "</g>\n",
       "\n",
       "</svg>"
      ],
      "text/plain": [
       "<IPython.core.display.HTML object>"
      ]
     },
     "metadata": {},
     "output_type": "display_data"
    }
   ],
   "source": [
    "#making a rhombus\n",
    "make_turtle()\n",
    "parallelogram(4,80,60,120,60)"
   ]
  },
  {
   "cell_type": "markdown",
   "id": "5ef74329",
   "metadata": {},
   "source": [
    "### Exercise\n",
    "\n",
    "Write an appropriately general set of functions that can draw shapes like this.\n",
    "\n",
    "![](https://github.com/AllenDowney/ThinkPython/raw/v3/jupyturtle_pie.png)\n",
    "\n",
    "Hint: Write a function called `triangle` that draws one triangular segment, and then a function called `draw_pie` that uses `triangle`."
   ]
  },
  {
   "cell_type": "markdown",
   "id": "a6d74f6c",
   "metadata": {},
   "source": [
    "You can use the following code to test your functions."
   ]
  },
  {
   "cell_type": "code",
   "execution_count": null,
   "id": "99cc061d",
   "metadata": {},
   "outputs": [],
   "source": [
    "def triangle(length, top_angle):\n",
    "    base_angle = (180-top_angle)/2\n",
    "    bottom_side = 2 * length * math.sin(math.radians(top_angle/2))\n",
    "    forward(length)\n",
    "    left(180-base_angle)\n",
    "    forward(bottom_side)\n",
    "    left(180-base_angle)\n",
    "    forward(length)\n",
    "    left(180-top_angle)\n",
    "\n",
    "    "
   ]
  },
  {
   "cell_type": "code",
   "execution_count": null,
   "id": "6df75826",
   "metadata": {},
   "outputs": [],
   "source": [
    "def draw_pie (n,length):\n",
    "    top_angle = 360/n\n",
    "    for i in range(n):\n",
    "        triangle(length, top_angle)\n",
    "        left(360/n)"
   ]
  },
  {
   "cell_type": "code",
   "execution_count": null,
   "id": "aa69a054",
   "metadata": {},
   "outputs": [
    {
     "data": {
      "text/html": [
       "<svg width=\"300\" height=\"150\" style=\"fill:none; stroke-linecap:round;\">\n",
       "    <rect width=\"100%\" height=\"100%\" fill=\"#F3F3F7\" />\n",
       "\n",
       "\n",
       "<path stroke=\"#663399\" stroke-width=\"2\" d=\"M 150,75 180,75 168.7,51.5 150,75 168.7,51.5 143.3,45.8 150,75 143.3,45.8 123,62 150,75 123,62 123,88 150,75 123,88 143.3,104.2 150,75 143.3,104.2 168.7,98.5 150,75 168.7,98.5 180,75 150,75\" />'\n",
       "\n",
       "<g transform=\"rotate(270.0,150.0,75.0) translate(150.0, 75.0)\">\n",
       "    <circle stroke=\"#63A375\" stroke-width=\"2\" fill=\"transparent\" r=\"5.5\" cx=\"0\" cy=\"0\"/>\n",
       "    <polygon points=\"0,12 2,9 -2,9\" style=\"fill:#63A375;stroke:#63A375;stroke-width:2\"/>\n",
       "</g>\n",
       "\n",
       "</svg>"
      ],
      "text/plain": [
       "<IPython.core.display.HTML object>"
      ]
     },
     "metadata": {},
     "output_type": "display_data"
    }
   ],
   "source": [
    "make_turtle()\n",
    "\n",
    "draw_pie(7,30)"
   ]
  },
  {
   "cell_type": "code",
   "execution_count": null,
   "id": "67deeaa1",
   "metadata": {},
   "outputs": [
    {
     "data": {
      "text/html": [
       "<svg width=\"300\" height=\"150\" style=\"fill:none; stroke-linecap:round;\">\n",
       "    <rect width=\"100%\" height=\"100%\" fill=\"#F3F3F7\" />\n",
       "\n",
       "\n",
       "<path stroke=\"#663399\" stroke-width=\"2\" d=\"M 150,75 219.1,75 175.6,21.3 149.8,75.4 180,137.6 209.3,75 149.3,75.4 106.6,129.8 175.8,128.8 149.1,75 81.5,60.4 112.7,122.1 149.4,74.6 133,7.5 91.1,62.5 149.9,74.7 203.1,30.6 135.3,17 150,75.2 212.9,103.8 195.5,36.9 149.6,75.5\" />'\n",
       "\n",
       "<g transform=\"rotate(-1.5,149.6,75.5) translate(149.6, 75.5)\">\n",
       "    <circle stroke=\"#63A375\" stroke-width=\"2\" fill=\"transparent\" r=\"5.5\" cx=\"0\" cy=\"0\"/>\n",
       "    <polygon points=\"0,12 2,9 -2,9\" style=\"fill:#63A375;stroke:#63A375;stroke-width:2\"/>\n",
       "</g>\n",
       "\n",
       "</svg>"
      ],
      "text/plain": [
       "<IPython.core.display.HTML object>"
      ]
     },
     "metadata": {},
     "output_type": "display_data"
    }
   ],
   "source": [
    "make_turtle()\n",
    "for i in range(7):\n",
    "    triangle(60)\n",
    "    left(51.428571)"
   ]
  },
  {
   "cell_type": "code",
   "execution_count": null,
   "id": "b7f5b744",
   "metadata": {},
   "outputs": [],
   "source": [
    "def triangle(length):\n",
    "    polygon(3,length)\n",
    "\n"
   ]
  },
  {
   "cell_type": "code",
   "execution_count": null,
   "id": "7b56360e",
   "metadata": {},
   "outputs": [
    {
     "data": {
      "text/html": [
       "<svg width=\"300\" height=\"150\" style=\"fill:none; stroke-linecap:round;\">\n",
       "    <rect width=\"100%\" height=\"100%\" fill=\"#F3F3F7\" />\n",
       "\n",
       "\n",
       "<path stroke=\"#663399\" stroke-width=\"2\" d=\"M 150,75 200,75 175,31.7 150,75 175,31.7 125,31.7 150,75 125,31.7 100,75 150,75 100,75 125,118.3 150,75 125,118.3 175,118.3 150,75 175,118.3 200,75 150,75\" />'\n",
       "\n",
       "<g transform=\"rotate(-90.0,150.0,75.0) translate(150.0, 75.0)\">\n",
       "    <circle stroke=\"#63A375\" stroke-width=\"2\" fill=\"transparent\" r=\"5.5\" cx=\"0\" cy=\"0\"/>\n",
       "    <polygon points=\"0,12 2,9 -2,9\" style=\"fill:#63A375;stroke:#63A375;stroke-width:2\"/>\n",
       "</g>\n",
       "\n",
       "</svg>"
      ],
      "text/plain": [
       "<IPython.core.display.HTML object>"
      ]
     },
     "metadata": {},
     "output_type": "display_data"
    }
   ],
   "source": [
    "make_turtle()\n",
    "for i in range(6):\n",
    "    triangle(50)\n",
    "    left(60)"
   ]
  },
  {
   "cell_type": "code",
   "execution_count": null,
   "id": "ba3c6f32",
   "metadata": {},
   "outputs": [],
   "source": [
    "def triangle(length):\n",
    "    polygon(3,length)"
   ]
  },
  {
   "cell_type": "code",
   "execution_count": null,
   "id": "f15a57d3",
   "metadata": {},
   "outputs": [
    {
     "data": {
      "text/html": [
       "<svg width=\"300\" height=\"150\" style=\"fill:none; stroke-linecap:round;\">\n",
       "    <rect width=\"100%\" height=\"100%\" fill=\"#F3F3F7\" />\n",
       "\n",
       "\n",
       "<path stroke=\"#663399\" stroke-width=\"2\" d=\"M 150,75 190,75 170,40.4 150,75 174.9,43.7 135.4,37.8 150,75 141.1,36 111.8,63.2 150,75 114,57.6 117,97.5 150,75 114,92.4 147,114.9 150,75 141.1,114 179.3,102.2 150,75 174.9,106.3 189.6,69 150,75\" />'\n",
       "\n",
       "<g transform=\"rotate(270.0,150.0,75.0) translate(150.0, 75.0)\">\n",
       "    <circle stroke=\"#63A375\" stroke-width=\"2\" fill=\"transparent\" r=\"5.5\" cx=\"0\" cy=\"0\"/>\n",
       "    <polygon points=\"0,12 2,9 -2,9\" style=\"fill:#63A375;stroke:#63A375;stroke-width:2\"/>\n",
       "</g>\n",
       "\n",
       "</svg>"
      ],
      "text/plain": [
       "<IPython.core.display.HTML object>"
      ]
     },
     "metadata": {},
     "output_type": "display_data"
    }
   ],
   "source": [
    "make_turtle()\n",
    "for i in range(7):\n",
    "    triangle(40)\n",
    "    left(51.42857143)"
   ]
  },
  {
   "cell_type": "markdown",
   "id": "1994d06b",
   "metadata": {},
   "source": [
    "### Exercise\n",
    "\n",
    "Write an appropriately general set of functions that can draw flowers like this.\n",
    "\n",
    "![](https://github.com/AllenDowney/ThinkPython/raw/v3/jupyturtle_flower.png)\n",
    "\n",
    "Hint: Use `arc` to write a function called `petal` that draws one flower petal."
   ]
  },
  {
   "cell_type": "code",
   "execution_count": null,
   "id": "85dce873",
   "metadata": {},
   "outputs": [],
   "source": [
    "#IDK HOW TO DO THIS \n"
   ]
  },
  {
   "cell_type": "code",
   "execution_count": null,
   "id": "1188846c",
   "metadata": {},
   "outputs": [
    {
     "ename": "TypeError",
     "evalue": "ladder() takes 0 positional arguments but 1 was given",
     "output_type": "error",
     "traceback": [
      "\u001b[0;31m---------------------------------------------------------------------------\u001b[0m\n",
      "\u001b[0;31mTypeError\u001b[0m                                 Traceback (most recent call last)\n",
      "Cell \u001b[0;32mIn[52], line 2\u001b[0m\n",
      "\u001b[1;32m      1\u001b[0m \u001b[38;5;28;01mfor\u001b[39;00m n \u001b[38;5;129;01min\u001b[39;00m \u001b[38;5;28mrange\u001b[39m(\u001b[38;5;241m99\u001b[39m,\u001b[38;5;241m0\u001b[39m,\u001b[38;5;241m-\u001b[39m\u001b[38;5;241m1\u001b[39m):\n",
      "\u001b[0;32m----> 2\u001b[0m         ladder(n)\n",
      "        n \u001b[0;34m= 99\u001b[0m\n",
      "\u001b[1;32m      3\u001b[0m         \u001b[38;5;28mprint\u001b[39m()\n",
      "\n",
      "\u001b[0;31mTypeError\u001b[0m: ladder() takes 0 positional arguments but 1 was given"
     ]
    }
   ],
   "source": []
  },
  {
   "cell_type": "code",
   "execution_count": null,
   "id": "504b995a",
   "metadata": {},
   "outputs": [],
   "source": []
  },
  {
   "cell_type": "markdown",
   "id": "b13dba31",
   "metadata": {},
   "source": [
    "You can use the following code to test your functions.\n",
    "\n",
    "Because the solution draws a lot of small line segments, it tends to slow down as it runs.\n",
    "To avoid that, you can add the keyword argument `auto_render=False` to avoid drawing after every step, and then call the `render` function at the end to show the result.\n",
    "\n",
    "While you are debugging, you might want to remove `auto_render=False`."
   ]
  },
  {
   "cell_type": "code",
   "execution_count": null,
   "id": "4f797853",
   "metadata": {},
   "outputs": [],
   "source": []
  },
  {
   "cell_type": "code",
   "execution_count": null,
   "id": "7ca85b78",
   "metadata": {},
   "outputs": [],
   "source": []
  },
  {
   "cell_type": "markdown",
   "id": "59fa2820",
   "metadata": {},
   "source": [
    "### Ask a virtual assistant\n",
    "\n",
    "There are several modules like `jupyturtle` in Python, and the one we used in this chapter has been customized for this book.\n",
    "So if you ask a virtual assistant for help, it won't know which module to use.\n",
    "But if you give it a few examples to work with, it can probably figure it out.\n",
    "For example, try this prompt and see if it can write a function that draws a spiral:\n",
    "\n",
    "```\n",
    "The following program uses a turtle graphics module to draw a circle:\n",
    "\n",
    "from jupyturtle import make_turtle, forward, left\n",
    "import math\n",
    "\n",
    "def polygon(n, length):\n",
    "    angle = 360 / n\n",
    "    for i in range(n):\n",
    "        forward(length)\n",
    "        left(angle)\n",
    "        \n",
    "def circle(radius):\n",
    "    circumference = 2 * math.pi * radius\n",
    "    n = 30\n",
    "    length = circumference / n\n",
    "    polygon(n, length)\n",
    "    \n",
    "make_turtle(delay=0)\n",
    "circle(30)\n",
    "\n",
    "Write a function that draws a spiral.\n",
    "```"
   ]
  },
  {
   "cell_type": "markdown",
   "id": "55f62001",
   "metadata": {},
   "source": [
    "Keep in mind that the result might use features we have not seen yet, and it might have errors.\n",
    "Copy the code from the VA and see if you can get it working.\n",
    "If you didn't get what you wanted, try modifying the prompt.\n"
   ]
  },
  {
   "cell_type": "code",
   "execution_count": null,
   "id": "39f56344",
   "metadata": {},
   "outputs": [
    {
     "ename": "SyntaxError",
     "evalue": "invalid syntax (1915597621.py, line 2)",
     "output_type": "error",
     "traceback": [
      "\u001b[0;36m  Cell \u001b[0;32mIn[46], line 2\u001b[0;36m\u001b[0m\n",
      "\u001b[0;31m    moon_weight = 0.165 earth_weight\u001b[0m\n",
      "\u001b[0m                        ^\u001b[0m\n",
      "\u001b[0;31mSyntaxError\u001b[0m\u001b[0;31m:\u001b[0m invalid syntax\n"
     ]
    }
   ],
   "source": []
  },
  {
   "cell_type": "code",
   "execution_count": null,
   "id": "f62244a4",
   "metadata": {},
   "outputs": [],
   "source": []
  },
  {
   "cell_type": "code",
   "execution_count": null,
   "id": "0daed26e",
   "metadata": {},
   "outputs": [
    {
     "name": "stdout",
     "output_type": "stream",
     "text": [
      "Weight on the Moon: 16.50lbs\n"
     ]
    }
   ],
   "source": [
    "def moon_weight(weight_earth):\n",
    "    \"\"\"Calculate the weight on Moon given weight on the Earth.\n",
    "    \n",
    "    weight_earth: float\n",
    "    \"\"\"\n",
    "\n",
    "    result = weight_earth * 0.165\n",
    "    print(f'Weight on the Moon: {result:0.2f}lbs')\n",
    "\n",
    "\n",
    "moon_weight(100)\n"
   ]
  },
  {
   "cell_type": "code",
   "execution_count": null,
   "id": "9fd4ed0e",
   "metadata": {},
   "outputs": [
    {
     "name": "stdout",
     "output_type": "stream",
     "text": [
      "#####\n",
      "####\n",
      "###\n",
      "##\n",
      "#\n"
     ]
    }
   ],
   "source": [
    "def print_pattern(n):\n",
    "    for i in range(n):\n",
    "        print(\"#\" * (n-i))\n",
    "\n",
    "print_pattern(5)"
   ]
  },
  {
   "cell_type": "code",
   "execution_count": null,
   "id": "9d341a06",
   "metadata": {},
   "outputs": [],
   "source": []
  },
  {
   "cell_type": "code",
   "execution_count": null,
   "id": "8c1f435b",
   "metadata": {},
   "outputs": [
    {
     "name": "stdout",
     "output_type": "stream",
     "text": [
      "hi\n",
      "None\n"
     ]
    }
   ],
   "source": [
    "def f():\n",
    "    print('hi')\n",
    "\n",
    "print(f())"
   ]
  },
  {
   "cell_type": "code",
   "execution_count": null,
   "id": "d75aef0b",
   "metadata": {},
   "outputs": [
    {
     "name": "stdout",
     "output_type": "stream",
     "text": [
      "hi\n",
      "<class 'function'>\n",
      "<class 'NoneType'>\n"
     ]
    }
   ],
   "source": [
    "result = f()\n",
    "print(type(f))\n",
    "print(type(result))"
   ]
  },
  {
   "cell_type": "markdown",
   "id": "7007f7de",
   "metadata": {},
   "source": [
    "[Think Python: 3rd Edition](https://allendowney.github.io/ThinkPython/index.html)\n",
    "\n",
    "Copyright 2024 [Allen B. Downey](https://allendowney.com)\n",
    "\n",
    "Code license: [MIT License](https://mit-license.org/)\n",
    "\n",
    "Text license: [Creative Commons Attribution-NonCommercial-ShareAlike 4.0 International](https://creativecommons.org/licenses/by-nc-sa/4.0/)"
   ]
  },
  {
   "cell_type": "code",
   "execution_count": null,
   "id": "5284609a",
   "metadata": {},
   "outputs": [
    {
     "name": "stdout",
     "output_type": "stream",
     "text": [
      "Login successful\n"
     ]
    }
   ],
   "source": [
    "username = input('Username: ')\n",
    "password = input('Password: ')\n",
    "if username == 'admin' and password  == \"1234\" or \"123456\":\n",
    "    print(\"Login successful\")"
   ]
  },
  {
   "cell_type": "code",
   "execution_count": null,
   "id": "45f80a52",
   "metadata": {},
   "outputs": [
    {
     "name": "stdout",
     "output_type": "stream",
     "text": [
      "Get out! Hacker\n"
     ]
    }
   ],
   "source": [
    "username = input('Username: ')\n",
    "password = input('Password: ')\n",
    "if username == 'admin' and (password  == \"1234\" or password == \"123456\"):\n",
    "    print(\"Login successful\")\n",
    "else:\n",
    "    print(\"Get out! Hacker\")"
   ]
  },
  {
   "cell_type": "code",
   "execution_count": null,
   "id": "ab2097df",
   "metadata": {},
   "outputs": [
    {
     "name": "stdout",
     "output_type": "stream",
     "text": [
      "True\n"
     ]
    }
   ],
   "source": [
    "year = 2024\n",
    "condition= year % 4 == 0 and year % 100 != 0 or year % 400 == 0\n",
    "\n",
    "print(condition)"
   ]
  },
  {
   "cell_type": "markdown",
   "id": "21550b5f",
   "metadata": {},
   "source": [
    "A palindrome is a word that is spelled the same backward and forward, like \"noon\" and \"rotator\".\n",
    "Write a function called `is_palindrome` that takes a string argument and returns `True` if it is a palindrome and `False` otherwise."
   ]
  },
  {
   "cell_type": "markdown",
   "id": "3748b4e0",
   "metadata": {
    "tags": []
   },
   "source": [
    "Here's an outline of the function with doctests you can use to check your function."
   ]
  },
  {
   "cell_type": "code",
   "execution_count": 95,
   "id": "9179d51c",
   "metadata": {
    "tags": []
   },
   "outputs": [],
   "source": [
    "def is_palindrome(s: str) -> bool:\n",
    "\n",
    "    t = [ch.lower() for ch in s if ch.isalnum()]\n",
    "    return t == t[::-1]"
   ]
  },
  {
   "cell_type": "code",
   "execution_count": 98,
   "id": "16d493ad",
   "metadata": {},
   "outputs": [
    {
     "name": "stdout",
     "output_type": "stream",
     "text": [
      "5 items had no tests:\n",
      "    __main__\n",
      "    __main__.is_anagram\n",
      "    __main__.is_palindrome\n",
      "    __main__.pop_first\n",
      "    __main__.reverse_word\n",
      "0 tests in 5 items.\n",
      "\u001b[32m0 passed\u001b[0m.\n",
      "\u001b[1;32mTest passed.\u001b[0m\n"
     ]
    },
    {
     "data": {
      "text/plain": [
       "TestResults(failed=0, attempted=0)"
      ]
     },
     "execution_count": 98,
     "metadata": {},
     "output_type": "execute_result"
    }
   ],
   "source": [
    "import doctest\n",
    "\n",
    "doctest.testmod(verbose = True)"
   ]
  },
  {
   "cell_type": "code",
   "execution_count": 100,
   "id": "33c9b4ec",
   "metadata": {
    "tags": []
   },
   "outputs": [
    {
     "data": {
      "text/plain": [
       "(True, False)"
      ]
     },
     "execution_count": 100,
     "metadata": {},
     "output_type": "execute_result"
    }
   ],
   "source": [
    "is_palindrome(\"rotator\"), is_palindrome(\"python\")"
   ]
  },
  {
   "cell_type": "markdown",
   "id": "ad857abf",
   "metadata": {},
   "source": [
    "You can use the following loop to find all of the palindromes in the word list with at least 7 letters."
   ]
  },
  {
   "cell_type": "code",
   "execution_count": 105,
   "id": "fea01394",
   "metadata": {
    "tags": []
   },
   "outputs": [
    {
     "data": {
      "text/plain": [
       "(0, [])"
      ]
     },
     "execution_count": 105,
     "metadata": {},
     "output_type": "execute_result"
    }
   ],
   "source": [
    "pal7 = [w for w in word_list if len(w) >= 7 and is_palindrome(w)]\n",
    "\n",
    "len(pal7), pal7[:3]\n",
    "                "
   ]
  },
  {
   "cell_type": "markdown",
   "id": "11386f70",
   "metadata": {},
   "source": [
    "### Exercise\n",
    "\n",
    "Write a function called `reverse_sentence` that takes as an argument a string that contains any number of words separated by spaces.\n",
    "It should return a new string that contains the same words in reverse order.\n",
    "For example, if the argument is \"Reverse this sentence\", the result should be \"Sentence this reverse\".\n",
    "\n",
    "Hint: You can use the `capitalize` methods to capitalize the first word and convert the other words to lowercase. "
   ]
  },
  {
   "cell_type": "markdown",
   "id": "13882893",
   "metadata": {
    "tags": []
   },
   "source": [
    "To get you started, here's an outline of the function with doctests."
   ]
  },
  {
   "cell_type": "code",
   "execution_count": 115,
   "id": "d9b5b362",
   "metadata": {
    "tags": []
   },
   "outputs": [],
   "source": [
    "def reverse_sentence(s: str) -> str:\n",
    "\n",
    "    words = s.split() \n",
    "    if not words:\n",
    "        return \"\"\n",
    "    \n",
    "    words = [w.lower() for w in reversed(words)]\n",
    "    words[0] = words[0].capitalize()\n",
    "    return \" \".join(words)"
   ]
  },
  {
   "cell_type": "code",
   "execution_count": 116,
   "id": "a2cb1451",
   "metadata": {},
   "outputs": [
    {
     "name": "stdout",
     "output_type": "stream",
     "text": [
      "6 items had no tests:\n",
      "    __main__\n",
      "    __main__.is_anagram\n",
      "    __main__.is_palindrome\n",
      "    __main__.pop_first\n",
      "    __main__.reverse_sentence\n",
      "    __main__.reverse_word\n",
      "0 tests in 6 items.\n",
      "\u001b[32m0 passed\u001b[0m.\n",
      "\u001b[1;32mTest passed.\u001b[0m\n"
     ]
    },
    {
     "data": {
      "text/plain": [
       "TestResults(failed=0, attempted=0)"
      ]
     },
     "execution_count": 116,
     "metadata": {},
     "output_type": "execute_result"
    }
   ],
   "source": [
    "import doctest\n",
    "\n",
    "doctest.testmod(verbose=True)"
   ]
  },
  {
   "cell_type": "code",
   "execution_count": 117,
   "id": "769d1c7a",
   "metadata": {
    "tags": []
   },
   "outputs": [
    {
     "data": {
      "text/plain": [
       "'Kidding just happy me makes python'"
      ]
     },
     "execution_count": 117,
     "metadata": {},
     "output_type": "execute_result"
    }
   ],
   "source": [
    "reverse_sentence(\"Python makes me HAPPY JUST KIDDING\") "
   ]
  },
  {
   "cell_type": "markdown",
   "id": "fb5f24b1",
   "metadata": {},
   "source": [
    "### Exercise\n",
    "\n",
    "Write a function called `total_length` that takes a list of strings and returns the total length of the strings.\n",
    "The total length of the words in `word_list` should be $902{,}728$."
   ]
  },
  {
   "cell_type": "code",
   "execution_count": 120,
   "id": "1fba5377",
   "metadata": {},
   "outputs": [],
   "source": [
    "def total_length(strings):\n",
    "    \n",
    "    return sum(len(s) for s in strings)"
   ]
  },
  {
   "cell_type": "code",
   "execution_count": 123,
   "id": "21f4cf1c",
   "metadata": {},
   "outputs": [
    {
     "data": {
      "text/plain": [
       "44"
      ]
     },
     "execution_count": 123,
     "metadata": {},
     "output_type": "execute_result"
    }
   ],
   "source": [
    "total_length(word_list)"
   ]
  },
  {
   "cell_type": "code",
   "execution_count": 126,
   "id": "cd6111a1",
   "metadata": {},
   "outputs": [],
   "source": [
    "#COMPLETED"
   ]
  },
  {
   "cell_type": "code",
   "execution_count": 125,
   "id": "c3efb216",
   "metadata": {},
   "outputs": [
    {
     "data": {
      "text/plain": [
       "9"
      ]
     },
     "execution_count": 125,
     "metadata": {},
     "output_type": "execute_result"
    }
   ],
   "source": [
    "word_list = [\"a\", \"bee\", \"chess\"]\n",
    "\n",
    "total_length(word_list)"
   ]
  },
  {
   "cell_type": "markdown",
   "id": "a7f4edf8",
   "metadata": {
    "tags": []
   },
   "source": [
    "[Think Python: 3rd Edition](https://allendowney.github.io/ThinkPython/index.html)\n",
    "\n",
    "Copyright 2024 [Allen B. Downey](https://allendowney.com)\n",
    "\n",
    "Code license: [MIT License](https://mit-license.org/)\n",
    "\n",
    "Text license: [Creative Commons Attribution-NonCommercial-ShareAlike 4.0 International](https://creativecommons.org/licenses/by-nc-sa/4.0/)"
   ]
  }
 ],
 "metadata": {
  "celltoolbar": "Tags",
  "kernelspec": {
   "display_name": "base",
   "language": "python",
   "name": "python3"
  },
  "language_info": {
   "codemirror_mode": {
    "name": "ipython",
    "version": 3
   },
   "file_extension": ".py",
   "mimetype": "text/x-python",
   "name": "python",
   "nbconvert_exporter": "python",
   "pygments_lexer": "ipython3",
   "version": "3.13.5"
  }
 },
 "nbformat": 4,
 "nbformat_minor": 5
}

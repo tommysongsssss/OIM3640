{
 "cells": [
  {
   "cell_type": "markdown",
   "id": "1331faa1",
   "metadata": {},
   "source": [
    "You can order print and ebook versions of *Think Python 3e* from\n",
    "[Bookshop.org](https://bookshop.org/a/98697/9781098155438) and\n",
    "[Amazon](https://www.amazon.com/_/dp/1098155432?smid=ATVPDKIKX0DER&_encoding=UTF8&tag=oreilly20-20&_encoding=UTF8&tag=greenteapre01-20&linkCode=ur2&linkId=e2a529f94920295d27ec8a06e757dc7c&camp=1789&creative=9325)."
   ]
  },
  {
   "cell_type": "code",
   "execution_count": 35,
   "id": "e55de5cd",
   "metadata": {
    "tags": []
   },
   "outputs": [],
   "source": []
  },
  {
   "cell_type": "markdown",
   "id": "737e79eb",
   "metadata": {},
   "source": [
    "# Dictionaries\n",
    "\n",
    "This chapter presents a built-in type called a dictionary.\n",
    "It is one of Python's best features -- and the building block of many efficient and elegant algorithms.\n",
    "\n",
    "We'll use dictionaries to compute the number of unique words in a book and the number of times each one appears.\n",
    "And in the exercises, we'll use dictionaries to solve word puzzles."
   ]
  },
  {
   "cell_type": "markdown",
   "id": "be7467bb",
   "metadata": {},
   "source": [
    "## A dictionary is a mapping\n",
    "\n",
    "A **dictionary** is like a list, but more general.\n",
    "In a list, the indices have to be integers; in a dictionary they can be (almost) any type.\n",
    "For example, suppose we make a list of number words, like this."
   ]
  },
  {
   "cell_type": "code",
   "execution_count": 2,
   "id": "20dd9f32",
   "metadata": {},
   "outputs": [],
   "source": [
    "lst = ['zero', 'one', 'two']"
   ]
  },
  {
   "cell_type": "markdown",
   "id": "aa626f88",
   "metadata": {},
   "source": [
    "We can use an integer as an index to get the corresponding word."
   ]
  },
  {
   "cell_type": "code",
   "execution_count": 3,
   "id": "9b6625c0",
   "metadata": {},
   "outputs": [
    {
     "data": {
      "text/plain": [
       "'one'"
      ]
     },
     "execution_count": 3,
     "metadata": {},
     "output_type": "execute_result"
    }
   ],
   "source": [
    "lst[1]"
   ]
  },
  {
   "cell_type": "markdown",
   "id": "c38e143b",
   "metadata": {},
   "source": [
    "But suppose we want to go in the other direction, and look up a word to get the corresponding integer.\n",
    "We can't do that with a list, but we can with a dictionary.\n",
    "We'll start by creating an empty dictionary and assigning it to `numbers`."
   ]
  },
  {
   "cell_type": "code",
   "execution_count": 4,
   "id": "138952d9",
   "metadata": {},
   "outputs": [
    {
     "data": {
      "text/plain": [
       "{}"
      ]
     },
     "execution_count": 4,
     "metadata": {},
     "output_type": "execute_result"
    }
   ],
   "source": [
    "numbers = {}\n",
    "numbers"
   ]
  },
  {
   "cell_type": "markdown",
   "id": "3acce992",
   "metadata": {},
   "source": [
    "The curly braces, `{}`, represent an empty dictionary.\n",
    "To add items to the dictionary, we'll use square brackets."
   ]
  },
  {
   "cell_type": "code",
   "execution_count": 5,
   "id": "007ef505",
   "metadata": {},
   "outputs": [],
   "source": [
    "numbers['zero'] = 0"
   ]
  },
  {
   "cell_type": "markdown",
   "id": "1dbe12c3",
   "metadata": {},
   "source": [
    "This assignment adds to the dictionary an **item**, which represents the association of a **key** and a **value**.\n",
    "In this example, the key is the string `'zero'` and the value is the integer `0`.\n",
    "If we display the dictionary, we see that it contains one item, which contains a key and a value separated by a colon, `:`."
   ]
  },
  {
   "cell_type": "code",
   "execution_count": 6,
   "id": "753a8fbc",
   "metadata": {},
   "outputs": [
    {
     "data": {
      "text/plain": [
       "{'zero': 0}"
      ]
     },
     "execution_count": 6,
     "metadata": {},
     "output_type": "execute_result"
    }
   ],
   "source": [
    "numbers"
   ]
  },
  {
   "cell_type": "markdown",
   "id": "ad32c23d",
   "metadata": {},
   "source": [
    "We can add more items like this."
   ]
  },
  {
   "cell_type": "code",
   "execution_count": 7,
   "id": "835aac1e",
   "metadata": {},
   "outputs": [
    {
     "data": {
      "text/plain": [
       "{'zero': 0, 'one': 1, 'two': 2}"
      ]
     },
     "execution_count": 7,
     "metadata": {},
     "output_type": "execute_result"
    }
   ],
   "source": [
    "numbers['one'] = 1\n",
    "numbers['two'] = 2\n",
    "numbers"
   ]
  },
  {
   "cell_type": "markdown",
   "id": "278901e5",
   "metadata": {},
   "source": [
    "Now the dictionary contains three items.\n",
    "\n",
    "To look up a key and get the corresponding value, we use the bracket operator."
   ]
  },
  {
   "cell_type": "code",
   "execution_count": 8,
   "id": "c0475cee",
   "metadata": {},
   "outputs": [
    {
     "data": {
      "text/plain": [
       "2"
      ]
     },
     "execution_count": 8,
     "metadata": {},
     "output_type": "execute_result"
    }
   ],
   "source": [
    "numbers['two']"
   ]
  },
  {
   "cell_type": "markdown",
   "id": "df5724e6",
   "metadata": {},
   "source": [
    "If the key isn't in the dictionary, we get a `KeyError`."
   ]
  },
  {
   "cell_type": "code",
   "execution_count": 10,
   "id": "30c37eef",
   "metadata": {
    "tags": []
   },
   "outputs": [
    {
     "ename": "KeyError",
     "evalue": "'three'",
     "output_type": "error",
     "traceback": [
      "\u001b[0;31m---------------------------------------------------------------------------\u001b[0m",
      "\u001b[0;31mKeyError\u001b[0m                                  Traceback (most recent call last)",
      "Cell \u001b[0;32mIn[10], line 1\u001b[0m\n\u001b[0;32m----> 1\u001b[0m numbers[\u001b[38;5;124m'\u001b[39m\u001b[38;5;124mthree\u001b[39m\u001b[38;5;124m'\u001b[39m]\n",
      "\u001b[0;31mKeyError\u001b[0m: 'three'"
     ]
    }
   ],
   "source": [
    "numbers['three']"
   ]
  },
  {
   "cell_type": "markdown",
   "id": "2a027a6b",
   "metadata": {},
   "source": [
    "The `len` function works on dictionaries; it returns the number of items."
   ]
  },
  {
   "cell_type": "code",
   "execution_count": 11,
   "id": "1b4ea0c2",
   "metadata": {},
   "outputs": [
    {
     "data": {
      "text/plain": [
       "3"
      ]
     },
     "execution_count": 11,
     "metadata": {},
     "output_type": "execute_result"
    }
   ],
   "source": [
    "len(numbers)"
   ]
  },
  {
   "cell_type": "markdown",
   "id": "58221e96",
   "metadata": {},
   "source": [
    "In mathematical language, a dictionary represents a **mapping** from keys to values, so you can also say that each key \"maps to\" a value.\n",
    "In this example, each number word maps to the corresponding integer.\n",
    "\n",
    "The following figure shows the state diagram for `numbers`."
   ]
  },
  {
   "cell_type": "code",
   "execution_count": 12,
   "id": "eba36a24",
   "metadata": {
    "tags": []
   },
   "outputs": [],
   "source": [
    "# An image is displayed here"
   ]
  },
  {
   "cell_type": "code",
   "execution_count": 13,
   "id": "9016bf4b",
   "metadata": {
    "tags": []
   },
   "outputs": [],
   "source": [
    "# An image is displayed here"
   ]
  },
  {
   "cell_type": "markdown",
   "id": "b092aa61",
   "metadata": {},
   "source": [
    "A dictionary is represented by a box with the word \"dict\" outside and the items inside.\n",
    "Each item is represented by a key and an arrow pointing to a value.\n",
    "The quotation marks indicate that the keys here are strings, not variable names."
   ]
  },
  {
   "cell_type": "markdown",
   "id": "2a0a128a",
   "metadata": {},
   "source": [
    "## Creating dictionaries\n",
    "\n",
    "In the previous section we created an empty dictionary and added items one at a time using the bracket operator.\n",
    "Instead, we could have created the dictionary all at once like this."
   ]
  },
  {
   "cell_type": "code",
   "execution_count": 14,
   "id": "19dfeecb",
   "metadata": {},
   "outputs": [],
   "source": [
    "numbers = {'zero': 0, 'one': 1, 'two': 2}"
   ]
  },
  {
   "cell_type": "markdown",
   "id": "31ded5b2",
   "metadata": {},
   "source": [
    "Each item consists of a key and a value separated by a colon.\n",
    "The items are separated by commas and enclosed in curly braces.\n",
    "\n",
    "Another way to create a dictionary is to use the `dict` function.\n",
    "We can make an empty dictionary like this."
   ]
  },
  {
   "cell_type": "code",
   "execution_count": 15,
   "id": "39b81034",
   "metadata": {},
   "outputs": [
    {
     "data": {
      "text/plain": [
       "{}"
      ]
     },
     "execution_count": 15,
     "metadata": {},
     "output_type": "execute_result"
    }
   ],
   "source": [
    "empty = dict()\n",
    "empty"
   ]
  },
  {
   "cell_type": "markdown",
   "id": "bfb215c9",
   "metadata": {},
   "source": [
    "And we can make a copy of a dictionary like this."
   ]
  },
  {
   "cell_type": "code",
   "execution_count": 16,
   "id": "88fa12c5",
   "metadata": {},
   "outputs": [
    {
     "data": {
      "text/plain": [
       "{'zero': 0, 'one': 1, 'two': 2}"
      ]
     },
     "execution_count": 16,
     "metadata": {},
     "output_type": "execute_result"
    }
   ],
   "source": [
    "numbers_copy = dict(numbers)\n",
    "numbers_copy"
   ]
  },
  {
   "cell_type": "markdown",
   "id": "966c5539",
   "metadata": {},
   "source": [
    "It is often useful to make a copy before performing operations that modify dictionaries."
   ]
  },
  {
   "cell_type": "markdown",
   "id": "2a948f62",
   "metadata": {
    "tags": []
   },
   "source": [
    "## The in operator\n",
    "\n",
    "The `in` operator works on dictionaries, too; it tells you whether something appears as a *key* in the dictionary."
   ]
  },
  {
   "cell_type": "code",
   "execution_count": 17,
   "id": "025cad92",
   "metadata": {},
   "outputs": [
    {
     "data": {
      "text/plain": [
       "True"
      ]
     },
     "execution_count": 17,
     "metadata": {},
     "output_type": "execute_result"
    }
   ],
   "source": [
    "'one' in numbers"
   ]
  },
  {
   "cell_type": "markdown",
   "id": "80f6b264",
   "metadata": {},
   "source": [
    "The `in` operator does *not* check whether something appears as a value."
   ]
  },
  {
   "cell_type": "code",
   "execution_count": 18,
   "id": "65de12ab",
   "metadata": {},
   "outputs": [
    {
     "data": {
      "text/plain": [
       "False"
      ]
     },
     "execution_count": 18,
     "metadata": {},
     "output_type": "execute_result"
    }
   ],
   "source": [
    "1 in numbers"
   ]
  },
  {
   "cell_type": "markdown",
   "id": "84856c8b",
   "metadata": {},
   "source": [
    "To see whether something appears as a value in a dictionary, you can use the method `values`, which returns a sequence of values, and then use the `in` operator."
   ]
  },
  {
   "cell_type": "code",
   "execution_count": 19,
   "id": "87ddc1b2",
   "metadata": {},
   "outputs": [
    {
     "data": {
      "text/plain": [
       "True"
      ]
     },
     "execution_count": 19,
     "metadata": {},
     "output_type": "execute_result"
    }
   ],
   "source": [
    "1 in numbers.values()"
   ]
  },
  {
   "cell_type": "markdown",
   "id": "45dc3d16",
   "metadata": {},
   "source": [
    "The items in a Python dictionary are stored in a **hash table**, which is a way of organizing data that has a remarkable property: the `in` operator takes about the same amount of time no matter how many items are in the dictionary.\n",
    "That makes it possible to write some remarkably efficient algorithms."
   ]
  },
  {
   "cell_type": "code",
   "execution_count": 24,
   "id": "4849b563",
   "metadata": {
    "tags": []
   },
   "outputs": [
    {
     "data": {
      "text/plain": [
       "113783"
      ]
     },
     "execution_count": 24,
     "metadata": {},
     "output_type": "execute_result"
    }
   ],
   "source": [
    "word_list = open('/Users/thomassong0604/Documents/GitHub/OIM3640/Data/words.txt').read().split()\n",
    "len(word_list)"
   ]
  },
  {
   "cell_type": "markdown",
   "id": "bba0522c",
   "metadata": {},
   "source": [
    "To demonstrate, we'll compare two algorithms for finding pairs of words where one is the reverse of another -- like `stressed` and `desserts`.\n",
    "We'll start by reading the word list."
   ]
  },
  {
   "cell_type": "code",
   "execution_count": 25,
   "id": "830b1208",
   "metadata": {},
   "outputs": [
    {
     "data": {
      "text/plain": [
       "113783"
      ]
     },
     "execution_count": 25,
     "metadata": {},
     "output_type": "execute_result"
    }
   ],
   "source": [
    "word_list = open('/Users/thomassong0604/Documents/GitHub/OIM3640/Data/words.txt').read().split()\n",
    "len(word_list)"
   ]
  },
  {
   "cell_type": "markdown",
   "id": "ab29fb8a",
   "metadata": {},
   "source": [
    "And here's `reverse_word` from the previous chapter."
   ]
  },
  {
   "cell_type": "code",
   "execution_count": 26,
   "id": "49231201",
   "metadata": {},
   "outputs": [],
   "source": [
    "def reverse_word(word):\n",
    "    return ''.join(reversed(word))"
   ]
  },
  {
   "cell_type": "markdown",
   "id": "93f7ac1b",
   "metadata": {},
   "source": [
    "The following function loops through the words in the list.\n",
    "For each one, it reverses the letters and then checks whether the reversed word in the word list."
   ]
  },
  {
   "cell_type": "code",
   "execution_count": 27,
   "id": "a41759fb",
   "metadata": {},
   "outputs": [],
   "source": [
    "def too_slow():\n",
    "    count = 0\n",
    "    for word in word_list:\n",
    "        if reverse_word(word) in word_list:\n",
    "            count += 1\n",
    "    return count"
   ]
  },
  {
   "cell_type": "markdown",
   "id": "d4ebb84d",
   "metadata": {},
   "source": [
    "This function takes more than a minute to run.\n",
    "The problem is that the `in` operator checks the words in the list one at a time, starting at the beginning.\n",
    "If it doesn't find what it's looking for -- which happens most of the time -- it has to search all the way to the end."
   ]
  },
  {
   "cell_type": "code",
   "execution_count": 28,
   "id": "33bcddf8",
   "metadata": {
    "tags": []
   },
   "outputs": [
    {
     "data": {
      "text/plain": [
       "12946571089"
      ]
     },
     "execution_count": 28,
     "metadata": {},
     "output_type": "execute_result"
    }
   ],
   "source": [
    "len(word_list)**2"
   ]
  },
  {
   "cell_type": "markdown",
   "id": "2acb6c50",
   "metadata": {},
   "source": [
    "And the `in` operator is inside the loop, so it runs once for each word.\n",
    "Since there are more than 100,000 words in the list, and for each one we check more than 100,000 words, the total number of comparisons is the number of words squared -- roughly -- which is almost 13 billion. "
   ]
  },
  {
   "cell_type": "code",
   "execution_count": 30,
   "id": "f2869dd0",
   "metadata": {},
   "outputs": [
    {
     "data": {
      "text/plain": [
       "12946571089"
      ]
     },
     "execution_count": 30,
     "metadata": {},
     "output_type": "execute_result"
    }
   ],
   "source": [
    "len(word_list)**2"
   ]
  },
  {
   "cell_type": "markdown",
   "id": "5dbf01b7",
   "metadata": {},
   "source": [
    "We can make this function much faster with a dictionary.\n",
    "The following loop creates a dictionary that contains the words as keys."
   ]
  },
  {
   "cell_type": "code",
   "execution_count": 31,
   "id": "300416d9",
   "metadata": {},
   "outputs": [],
   "source": [
    "word_dict = {}\n",
    "for word in word_list:\n",
    "    word_dict[word] = 1"
   ]
  },
  {
   "cell_type": "markdown",
   "id": "b7f6a1b7",
   "metadata": {},
   "source": [
    "The values in `word_dict` are all `1`, but they could be anything, because we won't ever look them up -- we will only use this dictionary to check whether a key exists.\n",
    "\n",
    "Now here's a version of the previous function that replaces `word_list` with `word_dict`."
   ]
  },
  {
   "cell_type": "code",
   "execution_count": 32,
   "id": "9d3dfd8d",
   "metadata": {},
   "outputs": [],
   "source": [
    "def much_faster():\n",
    "    count = 0\n",
    "    for word in word_dict:\n",
    "        if reverse_word(word) in word_dict:\n",
    "            count += 1\n",
    "    return count"
   ]
  },
  {
   "cell_type": "markdown",
   "id": "5f41e54c",
   "metadata": {},
   "source": [
    "This function takes less than one hundredth of a second, so it's about 10,000 times faster than the previous version."
   ]
  },
  {
   "cell_type": "markdown",
   "id": "4cd91c99",
   "metadata": {},
   "source": [
    "In general, the time it takes to find an element in a list is proportional to the length of the list.\n",
    "The time it takes to find a key in a dictionary is almost constant -- regardless of the number of items."
   ]
  },
  {
   "cell_type": "markdown",
   "id": "b3bfa8a5",
   "metadata": {},
   "source": [
    "## A collection of counters\n",
    "\n",
    "Suppose you are given a string and you want to count how many times each letter appears.\n",
    "A dictionary is a good tool for this job.\n",
    "We'll start with an empty dictionary."
   ]
  },
  {
   "cell_type": "code",
   "execution_count": 33,
   "id": "7c21ff00",
   "metadata": {},
   "outputs": [],
   "source": [
    "counter = {}"
   ]
  },
  {
   "cell_type": "markdown",
   "id": "34a9498a",
   "metadata": {},
   "source": [
    "As we loop through the letters in the string, suppose we see the letter `'a'` for the first time.\n",
    "We can add it to the dictionary like this."
   ]
  },
  {
   "cell_type": "code",
   "execution_count": 34,
   "id": "7d0afb00",
   "metadata": {},
   "outputs": [],
   "source": [
    "counter['a'] = 1"
   ]
  },
  {
   "cell_type": "markdown",
   "id": "bca9fa11",
   "metadata": {},
   "source": [
    "The value `1` indicates that we have seen the letter once.\n",
    "Later, if we see the same letter again, we can increment the counter like this."
   ]
  },
  {
   "cell_type": "code",
   "execution_count": 35,
   "id": "ba97b5ea",
   "metadata": {},
   "outputs": [],
   "source": [
    "counter['a'] += 1"
   ]
  },
  {
   "cell_type": "markdown",
   "id": "274ea014",
   "metadata": {},
   "source": [
    "Now the value associated with `'a'` is `2`, because we've seen the letter twice."
   ]
  },
  {
   "cell_type": "code",
   "execution_count": 36,
   "id": "30ffe9b4",
   "metadata": {},
   "outputs": [
    {
     "data": {
      "text/plain": [
       "{'a': 2}"
      ]
     },
     "execution_count": 36,
     "metadata": {},
     "output_type": "execute_result"
    }
   ],
   "source": [
    "counter"
   ]
  },
  {
   "cell_type": "markdown",
   "id": "2ca8f99d",
   "metadata": {},
   "source": [
    "The following function uses these features to count the number of times each letter appears in a string."
   ]
  },
  {
   "cell_type": "code",
   "execution_count": 37,
   "id": "36f95332",
   "metadata": {},
   "outputs": [],
   "source": [
    "def value_counts(string):\n",
    "    counter = {}\n",
    "    for letter in string:\n",
    "        if letter not in counter:\n",
    "            counter[letter] = 1\n",
    "        else:\n",
    "            counter[letter] += 1\n",
    "    return counter"
   ]
  },
  {
   "cell_type": "markdown",
   "id": "735c758b",
   "metadata": {},
   "source": [
    "Each time through the loop, if `letter` is not in the dictionary, we create a new item with key `letter` and value `1`.\n",
    "If `letter` is already in the dictionary we increment the value associated with `letter`.\n",
    "\n",
    "Here's an example."
   ]
  },
  {
   "cell_type": "code",
   "execution_count": 38,
   "id": "d6f1048e",
   "metadata": {},
   "outputs": [
    {
     "data": {
      "text/plain": [
       "{'b': 1, 'r': 2, 'o': 2, 'n': 1, 't': 1, 's': 2, 'a': 1, 'u': 2}"
      ]
     },
     "execution_count": 38,
     "metadata": {},
     "output_type": "execute_result"
    }
   ],
   "source": [
    "counter = value_counts('brontosaurus')\n",
    "counter\n"
   ]
  },
  {
   "cell_type": "markdown",
   "id": "8ac1fea4",
   "metadata": {},
   "source": [
    "The items in `counter` show that the letter `'b'` appears once, `'r'` appears twice, and so on."
   ]
  },
  {
   "cell_type": "markdown",
   "id": "912bdf5d",
   "metadata": {},
   "source": [
    "## Looping and dictionaries\n",
    "\n",
    "If you use a dictionary in a `for` statement, it traverses the keys of the dictionary.\n",
    "To demonstrate, let's make a dictionary that counts the letters in `'banana'`."
   ]
  },
  {
   "cell_type": "code",
   "execution_count": 39,
   "id": "310e1489",
   "metadata": {},
   "outputs": [
    {
     "data": {
      "text/plain": [
       "{'b': 1, 'a': 3, 'n': 2}"
      ]
     },
     "execution_count": 39,
     "metadata": {},
     "output_type": "execute_result"
    }
   ],
   "source": [
    "counter = value_counts('banana')\n",
    "counter"
   ]
  },
  {
   "cell_type": "markdown",
   "id": "fe263f3d",
   "metadata": {},
   "source": [
    "The following loop prints the keys, which are the letters."
   ]
  },
  {
   "cell_type": "code",
   "execution_count": 40,
   "id": "da4ec7fd",
   "metadata": {},
   "outputs": [
    {
     "name": "stdout",
     "output_type": "stream",
     "text": [
      "b\n",
      "a\n",
      "n\n"
     ]
    }
   ],
   "source": [
    "for key in counter:\n",
    "    print(key)"
   ]
  },
  {
   "cell_type": "markdown",
   "id": "bf1b7824",
   "metadata": {},
   "source": [
    "To print the values, we can use the `values` method."
   ]
  },
  {
   "cell_type": "code",
   "execution_count": 41,
   "id": "859fe1ad",
   "metadata": {},
   "outputs": [
    {
     "name": "stdout",
     "output_type": "stream",
     "text": [
      "1\n",
      "3\n",
      "2\n"
     ]
    }
   ],
   "source": [
    "for value in counter.values():\n",
    "    print(value)"
   ]
  },
  {
   "cell_type": "markdown",
   "id": "721135be",
   "metadata": {},
   "source": [
    "To print the keys and values, we can loop through the keys and look up the corresponding values."
   ]
  },
  {
   "cell_type": "code",
   "execution_count": 42,
   "id": "7242ab5b",
   "metadata": {},
   "outputs": [
    {
     "name": "stdout",
     "output_type": "stream",
     "text": [
      "b 1\n",
      "a 3\n",
      "n 2\n"
     ]
    }
   ],
   "source": [
    "for key in counter:\n",
    "    value = counter[key]\n",
    "    print(key, value)"
   ]
  },
  {
   "cell_type": "markdown",
   "id": "efa1bce5",
   "metadata": {},
   "source": [
    "In the next chapter, we'll see a more concise way to do the same thing."
   ]
  },
  {
   "cell_type": "markdown",
   "id": "a160c0ef",
   "metadata": {},
   "source": [
    "## Lists and dictionaries\n",
    "\n",
    "You can put a list in a dictionary as a value.\n",
    "For example, here's a dictionary that maps from the number `4` to a list of four letters."
   ]
  },
  {
   "cell_type": "code",
   "execution_count": 43,
   "id": "29cd8207",
   "metadata": {},
   "outputs": [
    {
     "data": {
      "text/plain": [
       "{4: ['r', 'o', 'u', 's']}"
      ]
     },
     "execution_count": 43,
     "metadata": {},
     "output_type": "execute_result"
    }
   ],
   "source": [
    "d = {4: ['r', 'o', 'u', 's']}\n",
    "d"
   ]
  },
  {
   "cell_type": "markdown",
   "id": "815a829f",
   "metadata": {},
   "source": [
    "But you can't put a list in a dictionary as a key.\n",
    "Here's what happens if we try."
   ]
  },
  {
   "cell_type": "code",
   "execution_count": 44,
   "id": "ca9ff511",
   "metadata": {
    "tags": []
   },
   "outputs": [
    {
     "ename": "TypeError",
     "evalue": "unhashable type: 'list'",
     "output_type": "error",
     "traceback": [
      "\u001b[0;31m---------------------------------------------------------------------------\u001b[0m",
      "\u001b[0;31mTypeError\u001b[0m                                 Traceback (most recent call last)",
      "Cell \u001b[0;32mIn[44], line 2\u001b[0m\n\u001b[1;32m      1\u001b[0m letters \u001b[38;5;241m=\u001b[39m \u001b[38;5;28mlist\u001b[39m(\u001b[38;5;124m'\u001b[39m\u001b[38;5;124mabcd\u001b[39m\u001b[38;5;124m'\u001b[39m)\n\u001b[0;32m----> 2\u001b[0m d[letters] \u001b[38;5;241m=\u001b[39m \u001b[38;5;241m4\u001b[39m\n",
      "\u001b[0;31mTypeError\u001b[0m: unhashable type: 'list'"
     ]
    }
   ],
   "source": [
    "letters = list('abcd')\n",
    "d[letters] = 4"
   ]
  },
  {
   "cell_type": "markdown",
   "id": "2469b08a",
   "metadata": {},
   "source": [
    "I mentioned earlier that dictionaries use hash tables, and that means that the keys have to be **hashable**.\n",
    "\n",
    "A **hash** is a function that takes a value (of any kind) and returns an integer.\n",
    "Dictionaries use these integers, called hash values, to store and look up keys.\n",
    "\n",
    "This system only works if a key is immutable, so its hash value is always the same.\n",
    "But if a key is mutable, its hash value could change, and the dictionary would not work.\n",
    "That's why keys have to be hashable, and why mutable types like lists aren't.\n",
    "\n",
    "Since dictionaries are mutable, they can't be used as keys, either.\n",
    "But they *can* be used as values."
   ]
  },
  {
   "cell_type": "markdown",
   "id": "acfd2720",
   "metadata": {
    "tags": []
   },
   "source": [
    "## Accumulating a list\n",
    "\n",
    "For many programming tasks, it is useful to loop through one list or dictionary while building another.\n",
    "As an example, we'll loop through the words in `word_dict` and make a list of palindromes -- that is, words that are spelled the same backward and forward, like \"noon\" and \"rotator\".\n",
    "\n",
    "In the previous chapter, one of the exercises asked you to write a function that checks whether a word is a palindrome.\n",
    "Here's a solution that uses `reverse_word`."
   ]
  },
  {
   "cell_type": "code",
   "execution_count": 45,
   "id": "0647278e",
   "metadata": {},
   "outputs": [],
   "source": [
    "def is_palindrome(word):\n",
    "    \"\"\"Check if a word is a palindrome.\"\"\"\n",
    "    return reverse_word(word) == word"
   ]
  },
  {
   "cell_type": "markdown",
   "id": "af545fcd",
   "metadata": {},
   "source": [
    "If we loop through the words in `word_dict`, we can count the number of palindromes like this."
   ]
  },
  {
   "cell_type": "code",
   "execution_count": 46,
   "id": "9eff9f2c",
   "metadata": {},
   "outputs": [
    {
     "data": {
      "text/plain": [
       "91"
      ]
     },
     "execution_count": 46,
     "metadata": {},
     "output_type": "execute_result"
    }
   ],
   "source": [
    "count = 0\n",
    "\n",
    "for word in word_dict:\n",
    "    if is_palindrome(word):\n",
    "        count +=1\n",
    "        \n",
    "count"
   ]
  },
  {
   "cell_type": "markdown",
   "id": "73c1ce1e",
   "metadata": {},
   "source": [
    "By now, this pattern is familiar.\n",
    "\n",
    "* Before the loop, `count` is initialized to `0`.\n",
    "\n",
    "* Inside the loop, if `word` is a palindrome, we increment `count`.\n",
    "\n",
    "* When the loop ends, `count` contains the total number of palindromes.\n",
    "\n",
    "We can use a similar pattern to make a list of palindromes."
   ]
  },
  {
   "cell_type": "code",
   "execution_count": 47,
   "id": "609bdd9a",
   "metadata": {},
   "outputs": [
    {
     "data": {
      "text/plain": [
       "['aa', 'aba', 'aga', 'aha', 'ala', 'alula', 'ama', 'ana', 'anna', 'ava']"
      ]
     },
     "execution_count": 47,
     "metadata": {},
     "output_type": "execute_result"
    }
   ],
   "source": [
    "palindromes = []\n",
    "\n",
    "for word in word_dict:\n",
    "    if is_palindrome(word):\n",
    "        palindromes.append(word)\n",
    "\n",
    "palindromes[:10]"
   ]
  },
  {
   "cell_type": "markdown",
   "id": "be909f3b",
   "metadata": {},
   "source": [
    "Here's how it works:\n",
    "\n",
    "* Before the loop, `palindromes` is initialized with an empty list.\n",
    "\n",
    "* Inside the loop, if `word` is a palindrome, we append it to the end of `palindromes`.\n",
    "\n",
    "* When the loop ends, `palindromes` is a list of palindromes.\n",
    "\n",
    "In this loop, `palindromes` is used as an **accumulator**, which is a variable that collects or accumulates data during a computation.\n",
    "\n",
    "Now suppose we want to select only palindromes with seven or more letters.\n",
    "We can loop through `palindromes` and make a new list that contains only long palindromes."
   ]
  },
  {
   "cell_type": "code",
   "execution_count": 48,
   "id": "c2db1187",
   "metadata": {},
   "outputs": [
    {
     "data": {
      "text/plain": [
       "['deified', 'halalah', 'reifier', 'repaper', 'reviver', 'rotator', 'sememes']"
      ]
     },
     "execution_count": 48,
     "metadata": {},
     "output_type": "execute_result"
    }
   ],
   "source": [
    "long_palindromes = []\n",
    "\n",
    "for word in palindromes:\n",
    "    if len(word) >= 7:\n",
    "        long_palindromes.append(word)\n",
    "        \n",
    "long_palindromes"
   ]
  },
  {
   "cell_type": "markdown",
   "id": "fa8ed275",
   "metadata": {},
   "source": [
    "Looping through a list like this, selecting some elements and omitting others, is called **filtering**."
   ]
  },
  {
   "cell_type": "markdown",
   "id": "8ed50837",
   "metadata": {
    "tags": []
   },
   "source": [
    "## Memos\n",
    "\n",
    "If you ran the `fibonacci` function from [Chapter 6](section_fibonacci), maybe you noticed that the bigger the argument you provide, the longer the function takes to run."
   ]
  },
  {
   "cell_type": "code",
   "execution_count": 49,
   "id": "13a7ed35",
   "metadata": {},
   "outputs": [],
   "source": [
    "def fibonacci(n):\n",
    "    if n == 0:\n",
    "        return 0\n",
    "    \n",
    "    if n == 1:\n",
    "        return 1\n",
    "\n",
    "    return fibonacci(n-1) + fibonacci(n-2)"
   ]
  },
  {
   "cell_type": "markdown",
   "id": "1b5203c2",
   "metadata": {},
   "source": [
    "Furthermore, the run time increases quickly.\n",
    "To understand why, consider the following figure, which shows the **call graph** for\n",
    "`fibonacci` with `n=4`:"
   ]
  },
  {
   "cell_type": "code",
   "execution_count": 50,
   "id": "7ed6137a",
   "metadata": {
    "tags": []
   },
   "outputs": [],
   "source": [
    "#Image displayed here"
   ]
  },
  {
   "cell_type": "code",
   "execution_count": 51,
   "id": "a9374c39",
   "metadata": {
    "tags": []
   },
   "outputs": [],
   "source": [
    "#Image displayed here"
   ]
  },
  {
   "cell_type": "code",
   "execution_count": 52,
   "id": "12098be7",
   "metadata": {
    "tags": []
   },
   "outputs": [],
   "source": [
    "#Image displayed here"
   ]
  },
  {
   "cell_type": "markdown",
   "id": "4ee2a87c",
   "metadata": {},
   "source": [
    "A call graph shows a set of function frames, with lines connecting each frame to the frames of the functions it calls.\n",
    "At the top of the graph, `fibonacci` with `n=4` calls `fibonacci` with ` n=3` and `n=2`.\n",
    "In turn, `fibonacci` with `n=3` calls `fibonacci` with `n=2` and `n=1`. And so on.\n",
    "\n",
    "Count how many times `fibonacci(0)` and `fibonacci(1)` are called. \n",
    "This is an inefficient solution to the problem, and it gets worse as the argument gets bigger.\n",
    "\n",
    "One solution is to keep track of values that have already been computed by storing them in a dictionary.\n",
    "A previously computed value that is stored for later use is called a **memo**.\n",
    "Here is a \"memoized\" version of `fibonacci`:"
   ]
  },
  {
   "cell_type": "code",
   "execution_count": 53,
   "id": "28e443f5",
   "metadata": {},
   "outputs": [],
   "source": [
    "#Image displayed here"
   ]
  },
  {
   "cell_type": "markdown",
   "id": "d2ac4dd7",
   "metadata": {},
   "source": [
    "`known` is a dictionary that keeps track of the Fibonacci numbers we already know\n",
    "It starts with two items: `0` maps to `0` and `1` maps to `1`.\n",
    "\n",
    "Whenever `fibonacci_memo` is called, it checks `known`.\n",
    "If the result is already there, it can return immediately.\n",
    "Otherwise it has to compute the new value, add it to the dictionary, and return it.\n",
    "\n",
    "Comparing the two functions, `fibonacci(40)` takes about 30 seconds to run.\n",
    "`fibonacci_memo(40)` takes about 30 microseconds, so it's a million times faster.\n",
    "In the notebook for this chapter, you'll see where these measurements come from."
   ]
  },
  {
   "cell_type": "markdown",
   "id": "c6f39f84",
   "metadata": {
    "tags": []
   },
   "source": [
    "To measure how long a function takes, we can use `%time` which is one of Jupyter's \"built-in magic commands\".\n",
    "These commands are not part of the Python language, so they might not work in other development environments."
   ]
  },
  {
   "cell_type": "code",
   "execution_count": 56,
   "id": "af818c11",
   "metadata": {
    "tags": []
   },
   "outputs": [],
   "source": [
    "known = {0:0, 1:1}\n",
    "\n",
    "def fibonacci_memo(n):\n",
    "    if n in known:\n",
    "        return known[n]\n",
    "\n",
    "    res = fibonacci_memo(n-1) + fibonacci_memo(n-2)\n",
    "    known[n] = res\n",
    "    return res\n",
    "#Image displayed here"
   ]
  },
  {
   "cell_type": "code",
   "execution_count": 57,
   "id": "7316d721",
   "metadata": {
    "tags": []
   },
   "outputs": [],
   "source": [
    "#Image displayed hereknown = {0:0, 1:1}\n",
    "\n",
    "def fibonacci_memo(n):\n",
    "    if n in known:\n",
    "        return known[n]\n",
    "\n",
    "    res = fibonacci_memo(n-1) + fibonacci_memo(n-2)\n",
    "    known[n] = res\n",
    "    return res"
   ]
  },
  {
   "cell_type": "markdown",
   "id": "ec969e51",
   "metadata": {},
   "source": [
    "## Debugging\n",
    "\n",
    "As you work with bigger datasets it can become unwieldy to debug by printing and checking the output by hand. Here are some suggestions for debugging large datasets:\n",
    "\n",
    "1.  Scale down the input: If possible, reduce the size of the dataset. For example if the\n",
    "    program reads a text file, start with just the first 10 lines, or\n",
    "    with the smallest example you can find. You can either edit the\n",
    "    files themselves, or (better) modify the program so it reads only\n",
    "    the first `n` lines.\n",
    "\n",
    "    If there is an error, you can reduce `n` to the smallest value where the error occurs.\n",
    "    As you find and correct errors, you can increase `n` gradually."
   ]
  },
  {
   "cell_type": "markdown",
   "id": "1a62288b",
   "metadata": {},
   "source": [
    "2. Check summaries and types: Instead of printing and checking the entire dataset, consider\n",
    "    printing summaries of the data -- for example, the number of items in\n",
    "    a dictionary or the total of a list of numbers.\n",
    "\n",
    "    A common cause of runtime errors is a value that is not the right type. For debugging this kind of error, it is often enough to print the type of a value."
   ]
  },
  {
   "cell_type": "markdown",
   "id": "c749ea3c",
   "metadata": {},
   "source": [
    "3. Write self-checks: Sometimes you can write code to check for errors automatically. For\n",
    "    example, if you are computing the average of a list of numbers, you\n",
    "    could check that the result is not greater than the largest element\n",
    "    in the list or less than the smallest. This is called a \"sanity\n",
    "    check\" because it detects results that are \"insane\".\n",
    "\n",
    "    Another kind of check compares the results of two different computations to see if they are consistent. This is called a \"consistency check\"."
   ]
  },
  {
   "cell_type": "markdown",
   "id": "749b91e9",
   "metadata": {},
   "source": [
    "4. Format the output: Formatting debugging output can make it easier to spot an error. We saw an example in [Chapter 6](section_debugging_factorial). Another tool you might find useful is the `pprint` module, which provides a `pprint` function that displays built-in types in a more human-readable format (`pprint` stands for \"pretty print\").\n",
    "\n",
    "    Again, time you spend building scaffolding can reduce the time you spend debugging."
   ]
  },
  {
   "cell_type": "markdown",
   "id": "9820175f",
   "metadata": {},
   "source": [
    "## Glossary\n",
    "\n",
    "**dictionary:**\n",
    " An object that contains key-value pairs, also called items.\n",
    "\n",
    "**item:**\n",
    " In a dictionary, another name for a key-value pair.\n",
    "\n",
    "**key:**\n",
    " An object that appears in a dictionary as the first part of a key-value pair.\n",
    "\n",
    "**value:**\n",
    " An object that appears in a dictionary as the second part of a key-value pair. This is more specific than our previous use of the word \"value\".\n",
    "\n",
    "**mapping:**\n",
    "  A relationship in which each element of one set corresponds to an element of another set.\n",
    "\n",
    "**hash table:**\n",
    "A collection of key-value pairs organized so that we can look up a key and find its value efficiently.\n",
    "\n",
    "**hashable:**\n",
    " Immutable types like integers, floats and strings are hashable.\n",
    " Mutable types like lists and dictionaries are not.\n",
    "\n",
    "**hash function:**\n",
    "A function that takes an object and computes an integer that is used to locate a key in a hash table.\n",
    "\n",
    "**accumulator:**\n",
    " A variable used in a loop to add up or accumulate a result.\n",
    "\n",
    "**filtering:**\n",
    "Looping through a sequence and selecting or omitting elements.\n",
    "\n",
    "**call graph:**\n",
    "A diagram that shows every frame created during the execution of a program, with an arrow from each caller to each callee.\n",
    "\n",
    "**memo:**\n",
    " A computed value stored to avoid unnecessary future computation."
   ]
  },
  {
   "cell_type": "markdown",
   "id": "906c1236",
   "metadata": {},
   "source": [
    "## Exercises"
   ]
  },
  {
   "cell_type": "code",
   "execution_count": 58,
   "id": "1e3c12ec",
   "metadata": {
    "tags": []
   },
   "outputs": [
    {
     "name": "stdout",
     "output_type": "stream",
     "text": [
      "Exception reporting mode: Verbose\n"
     ]
    }
   ],
   "source": [
    "%xmode Verbose"
   ]
  },
  {
   "cell_type": "markdown",
   "id": "170f1deb",
   "metadata": {},
   "source": [
    "### Ask an assistant\n",
    "\n",
    "In this chapter, I said the keys in a dictionary have to be hashable and I gave a short explanation. If you would like more details, ask a virtual assistant, \"Why do keys in Python dictionaries have to be hashable?\"\n",
    "\n",
    "In [a previous section](section_dictionary_in_operator), we stored a list of words as keys in a dictionary so that we could use an efficient version of the `in` operator.\n",
    "We could have done the same thing using a `set`, which is another built-in data type.\n",
    "Ask a virtual assistant, \"How do I make a Python set from a list of strings and check whether a string is an element of the set?\""
   ]
  },
  {
   "cell_type": "markdown",
   "id": "badf7d65",
   "metadata": {},
   "source": [
    "### Exercise\n",
    "\n",
    "Dictionaries have a method called `get` that takes a key and a default value. \n",
    "If the key appears in the dictionary, `get` returns the corresponding value; otherwise it returns the default value.\n",
    "For example, here's a dictionary that maps from the letters in a string to the number of times they appear."
   ]
  },
  {
   "cell_type": "code",
   "execution_count": 59,
   "id": "06e437d9",
   "metadata": {},
   "outputs": [],
   "source": [
    "counter = value_counts('brontosaurus')"
   ]
  },
  {
   "cell_type": "markdown",
   "id": "c3f6458d",
   "metadata": {},
   "source": [
    "If we look up a letter that appears in the word, `get` returns the number of times it appears."
   ]
  },
  {
   "cell_type": "code",
   "execution_count": 60,
   "id": "fc328161",
   "metadata": {},
   "outputs": [
    {
     "data": {
      "text/plain": [
       "1"
      ]
     },
     "execution_count": 60,
     "metadata": {},
     "output_type": "execute_result"
    }
   ],
   "source": [
    "counter.get('b', 0)"
   ]
  },
  {
   "cell_type": "markdown",
   "id": "49bbff3e",
   "metadata": {},
   "source": [
    "If we look up a letter that doesn't appear, we get the default value, `0`."
   ]
  },
  {
   "cell_type": "code",
   "execution_count": 61,
   "id": "674b6663",
   "metadata": {},
   "outputs": [
    {
     "data": {
      "text/plain": [
       "0"
      ]
     },
     "execution_count": 61,
     "metadata": {},
     "output_type": "execute_result"
    }
   ],
   "source": [
    "counter.get('c', 0)"
   ]
  },
  {
   "cell_type": "markdown",
   "id": "4ac3210f",
   "metadata": {},
   "source": [
    "Use `get` to write a more concise version of `value_counts`.\n",
    "You should be able to eliminate the `if` statement."
   ]
  },
  {
   "cell_type": "markdown",
   "id": "5413af6e",
   "metadata": {},
   "source": [
    "### Exercise\n",
    "\n",
    "What is the longest word you can think of where each letter appears only once?\n",
    "Let's see if we can find one longer than `unpredictably`.\n",
    "\n",
    "Write a function named `has_duplicates` that takes a sequence -- like a list or string -- as a parameter and returns `True` if there is any element that appears in the sequence more than once."
   ]
  },
  {
   "cell_type": "markdown",
   "id": "9879d9e7",
   "metadata": {
    "tags": []
   },
   "source": [
    "To get you started, here's an outline of the function with doctests."
   ]
  },
  {
   "cell_type": "code",
   "execution_count": 63,
   "id": "1744d3e9",
   "metadata": {
    "tags": []
   },
   "outputs": [],
   "source": [
    "def has_duplicates(seq):\n",
    "    return len(seq) != len(set(seq))"
   ]
  },
  {
   "cell_type": "code",
   "execution_count": 67,
   "id": "061e2903",
   "metadata": {},
   "outputs": [],
   "source": [
    "def value_counts(seq):\n",
    "    counts = {}\n",
    "    for x in seq:\n",
    "        counts[x] = counts.get(x, 0) + 1\n",
    "    return counts"
   ]
  },
  {
   "cell_type": "markdown",
   "id": "d8c85906",
   "metadata": {
    "tags": []
   },
   "source": [
    "You can use `doctest` to test your function."
   ]
  },
  {
   "cell_type": "code",
   "execution_count": 69,
   "id": "62dcdf4d",
   "metadata": {
    "tags": []
   },
   "outputs": [
    {
     "data": {
      "text/plain": [
       "TestResults(failed=0, attempted=0)"
      ]
     },
     "execution_count": 69,
     "metadata": {},
     "output_type": "execute_result"
    }
   ],
   "source": [
    "import doctest\n",
    "doctest.testmod()"
   ]
  },
  {
   "cell_type": "markdown",
   "id": "ce4df190",
   "metadata": {
    "tags": []
   },
   "source": [
    "You can use this loop to find the longest words with no repeated letters."
   ]
  },
  {
   "cell_type": "code",
   "execution_count": 77,
   "id": "a1143193",
   "metadata": {
    "tags": []
   },
   "outputs": [
    {
     "name": "stdout",
     "output_type": "stream",
     "text": [
      "ambidextrously\n"
     ]
    }
   ],
   "source": [
    "longest = ''\n",
    "for word in open('/Users/thomassong0604/Documents/GitHub/OIM3640/Data/words.txt'):\n",
    "    word = word.strip()\n",
    "    if not has_duplicates(word) and len(word) > len(longest):\n",
    "        longest = word\n",
    "\n",
    "\n",
    "print(longest)"
   ]
  },
  {
   "cell_type": "markdown",
   "id": "afd5f3b6",
   "metadata": {},
   "source": [
    "### Exercise\n",
    "\n",
    "Write function called `find_repeats` that takes a dictionary that maps from each key to a counter, like the result from `value_counts`.\n",
    "It should loop through the dictionary and return a list of keys that have counts greater than `1`.\n",
    "You can use the following outline to get started."
   ]
  },
  {
   "cell_type": "code",
   "execution_count": 87,
   "id": "9ea333ff",
   "metadata": {},
   "outputs": [],
   "source": [
    "def find_repeats(counts):\n",
    "    repeats = []\n",
    "    for key, value in counts.items():\n",
    "        if value > 1:\n",
    "            repeats.append(key)\n",
    "\n",
    "    return repeats"
   ]
  },
  {
   "cell_type": "code",
   "execution_count": 84,
   "id": "bbd6d241",
   "metadata": {},
   "outputs": [
    {
     "data": {
      "text/plain": [
       "TestResults(failed=0, attempted=0)"
      ]
     },
     "execution_count": 84,
     "metadata": {},
     "output_type": "execute_result"
    }
   ],
   "source": [
    "import doctest\n",
    "doctest.testmod()"
   ]
  },
  {
   "cell_type": "markdown",
   "id": "b9b0cbec",
   "metadata": {
    "tags": []
   },
   "source": [
    "You can use the following examples to test your code.\n",
    "First, we'll make a dictionary that maps from letters to counts."
   ]
  },
  {
   "cell_type": "code",
   "execution_count": 99,
   "id": "ac983c6f",
   "metadata": {
    "tags": []
   },
   "outputs": [
    {
     "data": {
      "text/plain": [
       "TestResults(failed=0, attempted=0)"
      ]
     },
     "execution_count": 99,
     "metadata": {},
     "output_type": "execute_result"
    }
   ],
   "source": [
    "import doctest\n",
    "doctest.testmod()"
   ]
  },
  {
   "cell_type": "markdown",
   "id": "3aa62942",
   "metadata": {
    "tags": []
   },
   "source": [
    "The result from `find_repeats` should be `['a', 'n']`."
   ]
  },
  {
   "cell_type": "code",
   "execution_count": 98,
   "id": "214345d8",
   "metadata": {
    "tags": []
   },
   "outputs": [
    {
     "name": "stdout",
     "output_type": "stream",
     "text": [
      "['a', 'n']\n"
     ]
    }
   ],
   "source": [
    "letter_counts = {'a': 3, 'b': 1, 'n': 2}\n",
    "print(find_repeats(letter_counts))"
   ]
  },
  {
   "cell_type": "markdown",
   "id": "3eaf77f8",
   "metadata": {
    "tags": []
   },
   "source": [
    "Here's another example that starts with a list of numbers.\n",
    "The result should be `[1, 2]`."
   ]
  },
  {
   "cell_type": "code",
   "execution_count": 97,
   "id": "10e9d54a",
   "metadata": {
    "tags": []
   },
   "outputs": [
    {
     "name": "stdout",
     "output_type": "stream",
     "text": [
      "[1, 2]\n"
     ]
    }
   ],
   "source": [
    "num_counts = {1: 2, 2: 3, 3: 1}\n",
    "print(find_repeats(num_counts))"
   ]
  },
  {
   "cell_type": "markdown",
   "id": "1c700d84",
   "metadata": {},
   "source": [
    "### Exercise\n",
    "\n",
    "Suppose you run `value_counts` with two different words and save the results in two dictionaries."
   ]
  },
  {
   "cell_type": "code",
   "execution_count": 103,
   "id": "c97e2419",
   "metadata": {},
   "outputs": [],
   "source": [
    "counts1 = {'a': 2, 'b': 1, 'c': 3}\n",
    "counts2 = {'b': 4, 'c': 1, 'd': 2}"
   ]
  },
  {
   "cell_type": "markdown",
   "id": "deb14c7a",
   "metadata": {},
   "source": [
    "Each dictionary maps from a set of letters to the number of times they appear.\n",
    "Write a function called `add_counters` that takes two dictionaries like this and returns a new dictionary that contains all of the letters and the total number of times they appear in either word.\n",
    "\n",
    "There are many ways to solve this problem.\n",
    "Once you have a working solution, consider asking a virtual assistant for different solutions."
   ]
  },
  {
   "cell_type": "code",
   "execution_count": 112,
   "id": "6cf70355",
   "metadata": {},
   "outputs": [],
   "source": [
    "def add_counters(d1, d2):\n",
    "    \n",
    "    total = d1.copy()\n",
    "    for key, value in d2.items():\n",
    "        total[key] = total.get(key, 0) + value\n",
    "    return total"
   ]
  },
  {
   "cell_type": "code",
   "execution_count": 114,
   "id": "6a729a14",
   "metadata": {},
   "outputs": [
    {
     "name": "stdout",
     "output_type": "stream",
     "text": [
      "{'a': 2, 'b': 5, 'c': 4, 'd': 2}\n"
     ]
    }
   ],
   "source": [
    "print(add_counters(counts1, counts2))"
   ]
  },
  {
   "cell_type": "markdown",
   "id": "f88110a9",
   "metadata": {},
   "source": [
    "### Exercise\n",
    "\n",
    "A word is \"interlocking\" if we can split it into two words by taking alternating letters.\n",
    "For example, \"schooled\" is an interlocking word because it can be split into \"shoe\" and \"cold\".\n",
    "\n",
    "To select alternating letters from a string, you can use a slice operator with three components that indicate where to start, where to stop, and the \"step size\" between the letters.\n",
    "\n",
    "In the following slice, the first component is `0`, so we start with the first letter.\n",
    "The second component is `None`, which means we should go all the way to the end of the string.\n",
    "And the third component is `2`, so there are two steps between the letters we select."
   ]
  },
  {
   "cell_type": "code",
   "execution_count": 118,
   "id": "56783358",
   "metadata": {},
   "outputs": [
    {
     "name": "stdout",
     "output_type": "stream",
     "text": [
      "shoe\n"
     ]
    }
   ],
   "source": [
    "word = 'schooled'\n",
    "print(word[0::2])"
   ]
  },
  {
   "cell_type": "markdown",
   "id": "d432332d",
   "metadata": {},
   "source": [
    "Instead of providing `None` as the second component, we can get the same effect by leaving it out altogether.\n",
    "For example, the following slice selects alternating letters, starting with the second letter."
   ]
  },
  {
   "cell_type": "code",
   "execution_count": 120,
   "id": "77fa8483",
   "metadata": {},
   "outputs": [
    {
     "name": "stdout",
     "output_type": "stream",
     "text": [
      "c\n"
     ]
    }
   ],
   "source": [
    "print(word[1:2])"
   ]
  },
  {
   "cell_type": "markdown",
   "id": "c8c4e3ba",
   "metadata": {},
   "source": [
    "Write a function called `is_interlocking` that takes a word as an argument and returns `True` if it can be split into two interlocking words."
   ]
  },
  {
   "cell_type": "code",
   "execution_count": 124,
   "id": "e5e1030c",
   "metadata": {},
   "outputs": [],
   "source": [
    "def is_interlocking(word, word_list):\n",
    "    first = word[0::2]\n",
    "    second = word[1::2]\n",
    "    return first in word_list and second in word_list"
   ]
  },
  {
   "cell_type": "markdown",
   "id": "2787f786",
   "metadata": {
    "tags": []
   },
   "source": [
    "You can use the following loop to find the interlocking words in the word list."
   ]
  },
  {
   "cell_type": "code",
   "execution_count": 127,
   "id": "e04a5c73",
   "metadata": {},
   "outputs": [
    {
     "name": "stdout",
     "output_type": "stream",
     "text": [
      "aahs\n",
      "abbey\n",
      "abied\n",
      "abies\n",
      "abri\n",
      "abris\n",
      "abye\n",
      "abyes\n",
      "across\n",
      "added\n",
      "adios\n",
      "adnouns\n",
      "adrift\n",
      "adroitly\n",
      "afield\n",
      "afreet\n",
      "afreets\n",
      "agio\n",
      "agios\n",
      "agleam\n",
      "agnail\n",
      "agnails\n",
      "agnate\n",
      "agnates\n",
      "agrafe\n",
      "agrarians\n",
      "agreed\n",
      "aids\n",
      "aims\n",
      "ains\n",
      "airn\n",
      "airns\n",
      "airs\n",
      "airt\n",
      "airts\n",
      "aits\n",
      "algae\n",
      "alias\n",
      "alienee\n",
      "alienees\n",
      "allele\n",
      "alleles\n",
      "allied\n",
      "allies\n",
      "allot\n",
      "alma\n",
      "alsike\n",
      "alsikes\n",
      "also\n",
      "alto\n",
      "amia\n",
      "amias\n",
      "amie\n",
      "amies\n",
      "amnia\n",
      "amreeta\n",
      "anion\n",
      "anions\n",
      "anna\n",
      "annates\n",
      "annoy\n",
      "annoys\n",
      "ansa\n",
      "anta\n",
      "antae\n",
      "apian\n",
      "apiary\n",
      "aplite\n",
      "aplites\n",
      "apnea\n",
      "apneas\n",
      "apse\n",
      "apses\n",
      "apsis\n",
      "ariel\n",
      "ariels\n",
      "ariose\n",
      "arrest\n",
      "arrestee\n",
      "arrestees\n",
      "arse\n",
      "arses\n",
      "ascot\n",
      "ascots\n",
      "assist\n",
      "atma\n",
      "atween\n",
      "aunt\n",
      "aunty\n",
      "aurist\n",
      "avails\n",
      "avians\n",
      "awee\n",
      "awmous\n",
      "awned\n",
      "baaed\n",
      "baas\n",
      "bairn\n",
      "bairns\n",
      "bait\n",
      "baits\n",
      "baldest\n",
      "ballooned\n",
      "barmaid\n",
      "barmaids\n",
      "baudrons\n",
      "bauds\n",
      "bays\n",
      "beakless\n",
      "beam\n",
      "beamless\n",
      "beams\n",
      "beamy\n",
      "bean\n",
      "beans\n",
      "bear\n",
      "beard\n",
      "beards\n",
      "bears\n",
      "beast\n",
      "beasts\n",
      "beat\n",
      "beats\n",
      "beef\n",
      "beefy\n",
      "been\n",
      "beer\n",
      "beery\n",
      "bees\n",
      "beet\n",
      "being\n",
      "beings\n",
      "beys\n",
      "bhoot\n",
      "bias\n",
      "biont\n",
      "bionts\n",
      "bios\n",
      "biota\n",
      "biotas\n",
      "blain\n",
      "blains\n",
      "bleat\n",
      "bleats\n",
      "bloat\n",
      "bloats\n",
      "blood\n",
      "bloodred\n",
      "bloop\n",
      "blueness\n",
      "bluest\n",
      "bluesy\n",
      "boar\n",
      "board\n",
      "boards\n",
      "boars\n",
      "boart\n",
      "boarts\n",
      "boas\n",
      "boast\n",
      "boldest\n",
      "boodled\n",
      "booed\n",
      "boohoo\n",
      "boohoos\n",
      "booklet\n",
      "booklets\n",
      "boom\n",
      "booms\n",
      "boomy\n",
      "boon\n",
      "boons\n",
      "boor\n",
      "boors\n",
      "boos\n",
      "boost\n",
      "bound\n",
      "bounds\n",
      "bourg\n",
      "bourgs\n",
      "bourn\n",
      "bourne\n",
      "bournes\n",
      "bourns\n",
      "bourse\n",
      "bourses\n",
      "bousy\n",
      "boys\n",
      "brae\n",
      "braes\n",
      "breads\n",
      "breath\n",
      "breaths\n",
      "bree\n",
      "breed\n",
      "breeds\n",
      "brie\n",
      "bries\n",
      "broads\n",
      "burring\n",
      "bursa\n",
      "bursae\n",
      "burseed\n",
      "burseeds\n",
      "buys\n",
      "byroad\n",
      "byroads\n",
      "calliope\n",
      "calliopes\n",
      "carnies\n",
      "carny\n",
      "carries\n",
      "carry\n",
      "cause\n",
      "causes\n",
      "cellule\n",
      "cellules\n",
      "ceorl\n",
      "ceorls\n",
      "chain\n",
      "chaine\n",
      "chaines\n",
      "chains\n",
      "chair\n",
      "chaired\n",
      "chairs\n",
      "chaunt\n",
      "chaunts\n",
      "cheerier\n",
      "choired\n",
      "choose\n",
      "chooses\n",
      "choosey\n",
      "choosy\n",
      "chough\n",
      "choughs\n",
      "chouse\n",
      "chouses\n",
      "choush\n",
      "cions\n",
      "claim\n",
      "claims\n",
      "cloot\n",
      "coapt\n",
      "coapts\n",
      "coast\n",
      "collude\n",
      "colludes\n",
      "cooed\n",
      "cooey\n",
      "cooeys\n",
      "coofs\n",
      "cookless\n",
      "coolness\n",
      "coomb\n",
      "coombs\n",
      "coons\n",
      "coops\n",
      "coopt\n",
      "coopts\n",
      "corbies\n",
      "cordy\n",
      "corny\n",
      "corries\n",
      "coude\n",
      "coulee\n",
      "coulees\n",
      "count\n",
      "countess\n",
      "counts\n",
      "coupe\n",
      "coupes\n",
      "couplet\n",
      "couplets\n",
      "courses\n",
      "court\n",
      "courts\n",
      "creeses\n",
      "croupe\n",
      "croupes\n",
      "crouse\n",
      "cruet\n",
      "cruets\n",
      "dainties\n",
      "dainty\n",
      "daises\n",
      "dautie\n",
      "deaf\n",
      "deal\n",
      "dean\n",
      "dear\n",
      "dearies\n",
      "deary\n",
      "deash\n",
      "death\n",
      "deem\n",
      "deems\n",
      "deer\n",
      "deers\n",
      "dees\n",
      "deism\n",
      "deisms\n",
      "deist\n",
      "deists\n",
      "derry\n",
      "dhooly\n",
      "diaries\n",
      "died\n",
      "diene\n",
      "dienes\n",
      "dies\n",
      "diet\n",
      "diets\n",
      "diode\n",
      "diodes\n",
      "dirty\n",
      "doer\n",
      "doers\n",
      "does\n",
      "doiled\n",
      "doing\n",
      "doings\n",
      "doodle\n",
      "doodles\n",
      "doolee\n",
      "doolees\n",
      "doom\n",
      "dooms\n",
      "door\n",
      "doorless\n",
      "doors\n",
      "dormy\n",
      "dourest\n",
      "dourness\n",
      "douse\n",
      "drayman\n",
      "draymen\n",
      "dree\n",
      "drees\n",
      "dried\n",
      "dueness\n",
      "dues\n",
      "duet\n",
      "duets\n",
      "duos\n",
      "earlap\n",
      "earlaps\n",
      "earn\n",
      "earned\n",
      "earns\n",
      "ears\n",
      "ease\n",
      "eases\n",
      "east\n",
      "easts\n",
      "easy\n",
      "eath\n",
      "eats\n",
      "eels\n",
      "effete\n",
      "elhi\n",
      "eloin\n",
      "eloins\n",
      "engage\n",
      "engages\n",
      "enlist\n",
      "enrage\n",
      "enrages\n",
      "enroots\n",
      "eons\n",
      "epha\n",
      "erne\n",
      "ernes\n",
      "errand\n",
      "errands\n",
      "errant\n",
      "errants\n",
      "erring\n",
      "erses\n",
      "etna\n",
      "etnas\n",
      "eyne\n",
      "eyra\n",
      "eyras\n",
      "eyre\n",
      "eyres\n",
      "faery\n",
      "faille\n",
      "failles\n",
      "faint\n",
      "fairness\n",
      "feal\n",
      "fear\n",
      "fears\n",
      "feast\n",
      "feasts\n",
      "feat\n",
      "feats\n",
      "feeless\n",
      "feint\n",
      "feints\n",
      "feist\n",
      "feists\n",
      "felly\n",
      "ferly\n",
      "ferny\n",
      "ferry\n",
      "fiacre\n",
      "fiat\n",
      "fiats\n",
      "fiend\n",
      "fiends\n",
      "flair\n",
      "flairs\n",
      "fleetest\n",
      "fleetness\n",
      "floor\n",
      "fluent\n",
      "fluid\n",
      "fluids\n",
      "fluor\n",
      "foam\n",
      "foams\n",
      "foamy\n",
      "foehn\n",
      "foehns\n",
      "foible\n",
      "foibles\n",
      "foiled\n",
      "foist\n",
      "fooled\n",
      "forbye\n",
      "fordo\n",
      "forwent\n",
      "foulness\n",
      "found\n",
      "founds\n",
      "frae\n",
      "freed\n",
      "freeness\n",
      "freer\n",
      "freers\n",
      "freeze\n",
      "friars\n",
      "friary\n",
      "fried\n",
      "friend\n",
      "friended\n",
      "friends\n",
      "frier\n",
      "friers\n",
      "frieze\n",
      "furring\n",
      "furrings\n",
      "gained\n",
      "gangue\n",
      "gangues\n",
      "gaudy\n",
      "gaunt\n",
      "gears\n",
      "geese\n",
      "geest\n",
      "geests\n",
      "giant\n",
      "giants\n",
      "girning\n",
      "glair\n",
      "glaire\n",
      "glaires\n",
      "glairs\n",
      "gleam\n",
      "gleams\n",
      "gleamy\n",
      "gleety\n",
      "gloat\n",
      "gloats\n",
      "goaded\n",
      "goads\n",
      "goaled\n",
      "goalless\n",
      "going\n",
      "goings\n",
      "good\n",
      "goody\n",
      "gooey\n",
      "goof\n",
      "goofy\n",
      "goon\n",
      "goony\n",
      "goop\n",
      "goos\n",
      "goosy\n",
      "graals\n",
      "greats\n",
      "greed\n",
      "greeds\n",
      "greeniest\n",
      "greet\n",
      "greets\n",
      "greyness\n",
      "groats\n",
      "grounded\n",
      "gruel\n",
      "gruels\n",
      "guans\n",
      "guest\n",
      "guise\n",
      "haar\n",
      "haars\n",
      "haed\n",
      "haem\n",
      "haems\n",
      "haen\n",
      "haes\n",
      "haet\n",
      "haets\n",
      "hair\n",
      "hairs\n",
      "haunt\n",
      "heal\n",
      "healed\n",
      "heals\n",
      "hear\n",
      "heard\n",
      "hearer\n",
      "hearers\n",
      "hears\n",
      "hearse\n",
      "heart\n",
      "hearts\n",
      "heat\n",
      "heath\n",
      "heats\n",
      "heavier\n",
      "heel\n",
      "heels\n",
      "heil\n",
      "heiled\n",
      "heils\n",
      "heir\n",
      "heiress\n",
      "heirs\n",
      "heist\n",
      "heists\n",
      "hied\n",
      "hies\n",
      "hoar\n",
      "hoard\n",
      "hoards\n",
      "hoarier\n",
      "hoars\n",
      "hoarse\n",
      "hoary\n",
      "hoax\n",
      "hoed\n",
      "hoer\n",
      "hoers\n",
      "hoes\n",
      "hoise\n",
      "hoist\n",
      "hood\n",
      "hooded\n",
      "hooey\n",
      "hooeys\n",
      "hoof\n",
      "hooklet\n",
      "hooklets\n",
      "hoop\n",
      "house\n",
      "hues\n",
      "ignitron\n",
      "infest\n",
      "info\n",
      "infos\n",
      "into\n",
      "ions\n",
      "isleless\n",
      "jaunt\n",
      "jaunty\n",
      "jeerer\n",
      "jeerers\n",
      "joust\n",
      "kaas\n",
      "kaons\n",
      "keas\n",
      "keenest\n",
      "kerrias\n",
      "kerries\n",
      "kleig\n",
      "koan\n",
      "koans\n",
      "koas\n",
      "laid\n",
      "lain\n",
      "lair\n",
      "laird\n",
      "lairds\n",
      "lairs\n",
      "leaf\n",
      "leafs\n",
      "leafy\n",
      "leakier\n",
      "leal\n",
      "lean\n",
      "leans\n",
      "leant\n",
      "lear\n",
      "learier\n",
      "learned\n",
      "lears\n",
      "leary\n",
      "leas\n",
      "least\n",
      "leasts\n",
      "leavier\n",
      "leery\n",
      "leis\n",
      "liang\n",
      "liangs\n",
      "liefest\n",
      "liernes\n",
      "lion\n",
      "load\n",
      "loads\n",
      "loaf\n",
      "loafs\n",
      "loam\n",
      "loams\n",
      "loamy\n",
      "loan\n",
      "loans\n",
      "loesses\n",
      "loin\n",
      "loins\n",
      "loof\n",
      "loom\n",
      "loon\n",
      "loop\n",
      "loos\n",
      "lounge\n",
      "lounges\n",
      "maar\n",
      "maars\n",
      "maes\n",
      "maid\n",
      "maids\n",
      "maigre\n",
      "mailless\n",
      "maim\n",
      "maims\n",
      "main\n",
      "mainly\n",
      "mains\n",
      "mair\n",
      "mairs\n",
      "maun\n",
      "maund\n",
      "maundy\n",
      "maut\n",
      "mauts\n",
      "maya\n",
      "mays\n",
      "meal\n",
      "meals\n",
      "mealy\n",
      "mean\n",
      "means\n",
      "meant\n",
      "meany\n",
      "meat\n",
      "meats\n",
      "meaty\n",
      "meet\n",
      "meikle\n",
      "mien\n",
      "moan\n",
      "moans\n",
      "moas\n",
      "mooed\n",
      "moonless\n",
      "moonlet\n",
      "moonlets\n",
      "moonset\n",
      "moonsets\n",
      "moue\n",
      "moues\n",
      "mouille\n",
      "mound\n",
      "mounds\n",
      "mount\n",
      "mounts\n",
      "mourn\n",
      "mourns\n",
      "mousse\n",
      "mousses\n",
      "naoi\n",
      "naos\n",
      "near\n",
      "nearer\n",
      "neat\n",
      "neist\n",
      "neon\n",
      "neons\n",
      "neum\n",
      "neums\n",
      "neutral\n",
      "neutrals\n",
      "noon\n",
      "noons\n",
      "noun\n",
      "nouns\n",
      "nous\n",
      "oafs\n",
      "oars\n",
      "oast\n",
      "obey\n",
      "obeys\n",
      "ocreae\n",
      "odea\n",
      "oeuvre\n",
      "oeuvres\n",
      "oghamist\n",
      "oghams\n",
      "okra\n",
      "okras\n",
      "oldest\n",
      "oldie\n",
      "oldies\n",
      "olea\n",
      "oleo\n",
      "oleos\n",
      "oohs\n",
      "oops\n",
      "oriel\n",
      "oriels\n",
      "oriole\n",
      "orioles\n",
      "ouds\n",
      "ours\n",
      "oust\n",
      "owse\n",
      "paean\n",
      "paeans\n",
      "paid\n",
      "pain\n",
      "pained\n",
      "pains\n",
      "paint\n",
      "painty\n",
      "pair\n",
      "pairs\n",
      "paisa\n",
      "paisas\n",
      "paise\n",
      "palmy\n",
      "palsy\n",
      "pardy\n",
      "parietes\n",
      "parrot\n",
      "parrots\n",
      "parry\n",
      "party\n",
      "pasties\n",
      "payee\n",
      "peakier\n",
      "peakless\n",
      "peal\n",
      "peals\n",
      "pean\n",
      "peans\n",
      "pear\n",
      "pearl\n",
      "pearls\n",
      "pears\n",
      "peart\n",
      "peas\n",
      "peat\n",
      "peats\n",
      "peaty\n",
      "peel\n",
      "peeled\n",
      "peels\n",
      "peen\n",
      "peened\n",
      "peens\n",
      "peer\n",
      "peeress\n",
      "peers\n",
      "pees\n",
      "peewee\n",
      "peewees\n",
      "pein\n",
      "peined\n",
      "peins\n",
      "peise\n",
      "peises\n",
      "perron\n",
      "perrons\n",
      "perry\n",
      "pian\n",
      "pians\n",
      "pias\n",
      "pied\n",
      "pies\n",
      "pieta\n",
      "pietas\n",
      "piing\n",
      "plaice\n",
      "plaices\n",
      "plaid\n",
      "plaids\n",
      "plain\n",
      "plainness\n",
      "plains\n",
      "plaint\n",
      "plaints\n",
      "plait\n",
      "plaits\n",
      "playless\n",
      "plea\n",
      "plead\n",
      "pleads\n",
      "pleas\n",
      "pleat\n",
      "pleats\n",
      "pleiad\n",
      "pleiads\n",
      "pleonasm\n",
      "pliancy\n",
      "pliant\n",
      "poem\n",
      "poems\n",
      "point\n",
      "pointe\n",
      "pointes\n",
      "points\n",
      "pois\n",
      "poise\n",
      "poodle\n",
      "poodles\n",
      "poorest\n",
      "poori\n",
      "pooris\n",
      "poorness\n",
      "porno\n",
      "pornos\n",
      "poufs\n",
      "pound\n",
      "pounds\n",
      "pours\n",
      "praams\n",
      "prearm\n",
      "pree\n",
      "preed\n",
      "preen\n",
      "preened\n",
      "preens\n",
      "prees\n",
      "pries\n",
      "priest\n",
      "priests\n",
      "psalmist\n",
      "puisne\n",
      "puisnes\n",
      "pulpy\n",
      "purring\n",
      "pursy\n",
      "pussies\n",
      "rainouts\n",
      "realm\n",
      "realms\n",
      "reals\n",
      "reams\n",
      "rearm\n",
      "rearms\n",
      "rears\n",
      "reef\n",
      "reefs\n",
      "reel\n",
      "reeled\n",
      "reels\n",
      "rees\n",
      "reest\n",
      "reests\n",
      "reuse\n",
      "reuses\n",
      "rhea\n",
      "rheas\n",
      "riant\n",
      "roads\n",
      "roams\n",
      "roans\n",
      "roars\n",
      "roast\n",
      "roes\n",
      "roose\n",
      "roost\n",
      "rouen\n",
      "rouens\n",
      "rounded\n",
      "roupet\n",
      "rouse\n",
      "roust\n",
      "rues\n",
      "ruinable\n",
      "ruing\n",
      "said\n",
      "saids\n",
      "sain\n",
      "sains\n",
      "saint\n",
      "sallied\n",
      "salty\n",
      "saphead\n",
      "sapiences\n",
      "satiety\n",
      "saute\n",
      "sauteed\n",
      "scarey\n",
      "schooled\n",
      "scions\n",
      "scoops\n",
      "scoots\n",
      "scoured\n",
      "scouse\n",
      "scurries\n",
      "sealed\n",
      "seamless\n",
      "seamy\n",
      "searer\n",
      "seeled\n",
      "seeress\n",
      "seigneurs\n",
      "seis\n",
      "seism\n",
      "seisms\n",
      "septa\n",
      "serries\n",
      "shaugh\n",
      "shaughs\n",
      "sheal\n",
      "sheals\n",
      "shear\n",
      "shears\n",
      "sheath\n",
      "sheaths\n",
      "sheen\n",
      "sheens\n",
      "sheeny\n",
      "sheer\n",
      "sheers\n",
      "sheet\n",
      "sheets\n",
      "sheol\n",
      "sheuch\n",
      "sheuchs\n",
      "shier\n",
      "shiers\n",
      "shies\n",
      "shiest\n",
      "shoal\n",
      "shoaled\n",
      "shoalest\n",
      "shoalier\n",
      "shoals\n",
      "shoaly\n",
      "shoat\n",
      "shoats\n",
      "shoe\n",
      "shoed\n",
      "shoes\n",
      "shoo\n",
      "shool\n",
      "shooled\n",
      "shoon\n",
      "shoos\n",
      "shoot\n",
      "silty\n",
      "skean\n",
      "skeane\n",
      "skeans\n",
      "skerries\n",
      "skoal\n",
      "skoaled\n",
      "skoals\n",
      "sleety\n",
      "sliest\n",
      "sloid\n",
      "sloids\n",
      "sloop\n",
      "smear\n",
      "smearier\n",
      "smears\n",
      "smeary\n",
      "snatch\n",
      "snitch\n",
      "snood\n",
      "snoods\n",
      "snool\n",
      "snools\n",
      "snoop\n",
      "snoops\n",
      "snoot\n",
      "snoots\n",
      "snout\n",
      "snouts\n",
      "soapless\n",
      "soapy\n",
      "sooey\n",
      "soon\n",
      "sophist\n",
      "sophy\n",
      "soppy\n",
      "sordid\n",
      "souled\n",
      "sounded\n",
      "sourest\n",
      "sourness\n",
      "souse\n",
      "spaed\n",
      "spail\n",
      "spails\n",
      "spait\n",
      "spaits\n",
      "spean\n",
      "speans\n",
      "spear\n",
      "spears\n",
      "speel\n",
      "speels\n",
      "speer\n",
      "speers\n",
      "speil\n",
      "speils\n",
      "speir\n",
      "speirs\n",
      "spieled\n",
      "spier\n",
      "spiers\n",
      "spies\n",
      "splay\n",
      "splays\n",
      "spoil\n",
      "spoiled\n",
      "spoils\n",
      "spoilt\n",
      "spoonies\n",
      "sporty\n",
      "spouts\n",
      "sprain\n",
      "sprains\n",
      "spuing\n",
      "spurning\n",
      "spying\n",
      "staid\n",
      "staig\n",
      "staigs\n",
      "stained\n",
      "stainless\n",
      "steal\n",
      "steals\n",
      "stein\n",
      "steins\n",
      "stoa\n",
      "stoas\n",
      "stoat\n",
      "stoats\n",
      "stood\n",
      "stool\n",
      "stooled\n",
      "stoop\n",
      "stourie\n",
      "strain\n",
      "strains\n",
      "strait\n",
      "straits\n",
      "suint\n",
      "suints\n",
      "suit\n",
      "suits\n",
      "swails\n",
      "swarty\n",
      "swears\n",
      "sweats\n",
      "sweaty\n",
      "sweer\n",
      "sweet\n",
      "sweetest\n",
      "swoon\n",
      "swoons\n",
      "swoop\n",
      "swoops\n",
      "swound\n",
      "swounds\n",
      "taille\n",
      "tailles\n",
      "tailless\n",
      "tain\n",
      "tains\n",
      "taint\n",
      "taos\n",
      "tardy\n",
      "tarry\n",
      "taunt\n",
      "tautness\n",
      "teal\n",
      "teals\n",
      "team\n",
      "teams\n",
      "tear\n",
      "tearer\n",
      "teargas\n",
      "tears\n",
      "teas\n",
      "tease\n",
      "teases\n",
      "teat\n",
      "teats\n",
      "terrene\n",
      "terrenes\n",
      "terry\n",
      "tersest\n",
      "thae\n",
      "thairm\n",
      "thairms\n",
      "thein\n",
      "theine\n",
      "theines\n",
      "theins\n",
      "theorem\n",
      "theorems\n",
      "thio\n",
      "thiol\n",
      "though\n",
      "throaty\n",
      "toad\n",
      "toads\n",
      "toast\n",
      "toiled\n",
      "tooled\n",
      "toom\n",
      "toon\n",
      "treads\n",
      "treed\n",
      "trials\n",
      "triene\n",
      "trienes\n",
      "triens\n",
      "trientes\n",
      "tries\n",
      "triolet\n",
      "triolets\n",
      "triose\n",
      "triune\n",
      "triunes\n",
      "troupe\n",
      "troupes\n",
      "truant\n",
      "truants\n",
      "trueness\n",
      "truing\n",
      "tuis\n",
      "twae\n",
      "twaes\n",
      "twains\n",
      "tweed\n",
      "tween\n",
      "twirly\n",
      "ubiety\n",
      "ulna\n",
      "ulnas\n",
      "unrent\n",
      "unto\n",
      "upkeep\n",
      "upkeeps\n",
      "uptear\n",
      "uptears\n",
      "vainness\n",
      "vairs\n",
      "veals\n",
      "veiled\n",
      "veils\n",
      "veined\n",
      "veins\n",
      "voided\n",
      "voidness\n",
      "voids\n",
      "waes\n",
      "wains\n",
      "wairs\n",
      "waist\n",
      "waists\n",
      "waits\n",
      "warty\n",
      "weakness\n",
      "weald\n",
      "wealds\n",
      "weals\n",
      "weaned\n",
      "weans\n",
      "wearer\n",
      "wearers\n",
      "wearier\n",
      "wears\n",
      "weary\n",
      "weel\n",
      "ween\n",
      "weened\n",
      "weer\n",
      "wees\n",
      "weest\n",
      "weet\n",
      "weewee\n",
      "weeweed\n",
      "weewees\n",
      "weirdness\n",
      "weirdoes\n",
      "weirs\n",
      "wheat\n",
      "wheats\n",
      "whee\n",
      "wheen\n",
      "wheens\n",
      "whoa\n",
      "whoas\n",
      "whoop\n",
      "woaded\n",
      "woads\n",
      "woeness\n",
      "woes\n",
      "wood\n",
      "wooded\n",
      "woods\n",
      "woof\n",
      "woofs\n",
      "wooled\n",
      "woops\n",
      "woos\n",
      "wordy\n",
      "wormy\n",
      "worry\n",
      "wound\n",
      "wounds\n",
      "wreath\n",
      "wreaths\n",
      "wries\n",
      "wriest\n",
      "yaird\n",
      "yairds\n",
      "yeah\n",
      "yean\n",
      "year\n",
      "yeas\n",
      "yuan\n"
     ]
    }
   ],
   "source": [
    "for word in open('/Users/thomassong0604/Documents/GitHub/OIM3640/Data/words.txt'):\n",
    "    word = word.strip()\n",
    "    if is_interlocking(word, open('/Users/thomassong0604/Documents/GitHub/OIM3640/Data/words.txt').read().split()):\n",
    "        print(word)"
   ]
  },
  {
   "cell_type": "markdown",
   "id": "a7f4edf8",
   "metadata": {
    "tags": []
   },
   "source": [
    "[Think Python: 3rd Edition](https://allendowney.github.io/ThinkPython/index.html)\n",
    "\n",
    "Copyright 2024 [Allen B. Downey](https://allendowney.com)\n",
    "\n",
    "Code license: [MIT License](https://mit-license.org/)\n",
    "\n",
    "Text license: [Creative Commons Attribution-NonCommercial-ShareAlike 4.0 International](https://creativecommons.org/licenses/by-nc-sa/4.0/)"
   ]
  }
 ],
 "metadata": {
  "celltoolbar": "Tags",
  "kernelspec": {
   "display_name": "base",
   "language": "python",
   "name": "python3"
  },
  "language_info": {
   "codemirror_mode": {
    "name": "ipython",
    "version": 3
   },
   "file_extension": ".py",
   "mimetype": "text/x-python",
   "name": "python",
   "nbconvert_exporter": "python",
   "pygments_lexer": "ipython3",
   "version": "3.13.5"
  }
 },
 "nbformat": 4,
 "nbformat_minor": 5
}

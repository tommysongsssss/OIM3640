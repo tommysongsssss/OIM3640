{
 "cells": [
  {
   "cell_type": "code",
   "execution_count": null,
   "id": "ce952747-e368-440a-94f9-76e30fac6e37",
   "metadata": {},
   "outputs": [
    {
     "data": {
      "text/plain": [
       "42"
      ]
     },
     "execution_count": 1,
     "metadata": {},
     "output_type": "execute_result"
    }
   ],
   "source": [
    "30 + 12 "
   ]
  },
  {
   "cell_type": "code",
   "execution_count": null,
   "id": "765587a6",
   "metadata": {},
   "outputs": [],
   "source": []
  },
  {
   "cell_type": "code",
   "execution_count": null,
   "id": "b660588c-f622-450f-89e8-9ee6d63e97f6",
   "metadata": {},
   "outputs": [
    {
     "data": {
      "text/plain": [
       "42"
      ]
     },
     "execution_count": 2,
     "metadata": {},
     "output_type": "execute_result"
    }
   ],
   "source": [
    "43 - 1"
   ]
  },
  {
   "cell_type": "code",
   "execution_count": null,
   "id": "109fcef3-3343-43c8-bc98-33e222eea1ef",
   "metadata": {},
   "outputs": [
    {
     "data": {
      "text/plain": [
       "42.0"
      ]
     },
     "execution_count": 4,
     "metadata": {},
     "output_type": "execute_result"
    }
   ],
   "source": [
    "84/2"
   ]
  },
  {
   "cell_type": "code",
   "execution_count": null,
   "id": "5dc8a4c7-a319-4807-8f8c-080122f5159b",
   "metadata": {},
   "outputs": [
    {
     "data": {
      "text/plain": [
       "42"
      ]
     },
     "execution_count": 5,
     "metadata": {},
     "output_type": "execute_result"
    }
   ],
   "source": [
    "84//2\n"
   ]
  },
  {
   "cell_type": "code",
   "execution_count": null,
   "id": "af8607ca-6bb8-4a2b-ab46-19792ac5e32e",
   "metadata": {},
   "outputs": [
    {
     "data": {
      "text/plain": [
       "279936"
      ]
     },
     "execution_count": 7,
     "metadata": {},
     "output_type": "execute_result"
    }
   ],
   "source": [
    "6**7"
   ]
  },
  {
   "cell_type": "code",
   "execution_count": null,
   "id": "8c0c69d3-6564-4fbf-8e6e-7140d119c3c3",
   "metadata": {},
   "outputs": [
    {
     "data": {
      "text/plain": [
       "42"
      ]
     },
     "execution_count": 6,
     "metadata": {},
     "output_type": "execute_result"
    }
   ],
   "source": [
    "85//2\n"
   ]
  },
  {
   "cell_type": "code",
   "execution_count": null,
   "id": "47225168-61b9-4884-9668-e333a25c3ed6",
   "metadata": {},
   "outputs": [
    {
     "data": {
      "text/plain": [
       "42"
      ]
     },
     "execution_count": 8,
     "metadata": {},
     "output_type": "execute_result"
    }
   ],
   "source": [
    "6 + 6 ** 2 "
   ]
  },
  {
   "cell_type": "code",
   "execution_count": null,
   "id": "c25e2635-7e34-45f5-ad36-e2f580cbaabe",
   "metadata": {},
   "outputs": [
    {
     "data": {
      "text/plain": [
       "42"
      ]
     },
     "execution_count": 9,
     "metadata": {},
     "output_type": "execute_result"
    }
   ],
   "source": [
    "12 + 5 * 6"
   ]
  },
  {
   "cell_type": "code",
   "execution_count": null,
   "id": "ee454815-dfd6-4513-bd83-dba44bba9b4a",
   "metadata": {},
   "outputs": [
    {
     "data": {
      "text/plain": [
       "102"
      ]
     },
     "execution_count": 10,
     "metadata": {},
     "output_type": "execute_result"
    }
   ],
   "source": [
    "(12 + 5) * 6"
   ]
  },
  {
   "cell_type": "code",
   "execution_count": null,
   "id": "24eaa2d5-1c96-438a-99ad-7546d2b3df54",
   "metadata": {},
   "outputs": [
    {
     "data": {
      "text/plain": [
       "42"
      ]
     },
     "execution_count": 11,
     "metadata": {},
     "output_type": "execute_result"
    }
   ],
   "source": [
    "round(42.4)"
   ]
  },
  {
   "cell_type": "code",
   "execution_count": null,
   "id": "1b1a1d35-cc32-41dd-9000-2fd90534f0ed",
   "metadata": {},
   "outputs": [
    {
     "data": {
      "text/plain": [
       "42"
      ]
     },
     "execution_count": 12,
     "metadata": {},
     "output_type": "execute_result"
    }
   ],
   "source": [
    "abs(-42)"
   ]
  },
  {
   "cell_type": "code",
   "execution_count": null,
   "id": "91bd63b9-686a-4c7d-982f-c6e195000273",
   "metadata": {},
   "outputs": [
    {
     "data": {
      "text/plain": [
       "\"Well, it's a small world.\""
      ]
     },
     "execution_count": 18,
     "metadata": {},
     "output_type": "execute_result"
    }
   ],
   "source": [
    "'Well, ' + \"it's a small \" + 'world.'"
   ]
  },
  {
   "cell_type": "code",
   "execution_count": null,
   "id": "7302e873-d98f-419f-bf90-1cec4d1c96a2",
   "metadata": {},
   "outputs": [
    {
     "data": {
      "text/plain": [
       "'SpamSpamSpamSpam'"
      ]
     },
     "execution_count": 19,
     "metadata": {},
     "output_type": "execute_result"
    }
   ],
   "source": [
    "'Spam' * 4"
   ]
  },
  {
   "cell_type": "code",
   "execution_count": null,
   "id": "4109adb6-2159-45f0-8b03-a46d756aca11",
   "metadata": {},
   "outputs": [
    {
     "data": {
      "text/plain": [
       "'Spam, Spam, Spam, Spam, '"
      ]
     },
     "execution_count": 20,
     "metadata": {},
     "output_type": "execute_result"
    }
   ],
   "source": [
    "'Spam, ' * 4"
   ]
  },
  {
   "cell_type": "code",
   "execution_count": null,
   "id": "f2715f5a-38e2-4c06-917f-19036e038faa",
   "metadata": {},
   "outputs": [
    {
     "data": {
      "text/plain": [
       "6"
      ]
     },
     "execution_count": 21,
     "metadata": {},
     "output_type": "execute_result"
    }
   ],
   "source": [
    "len('Thomas')"
   ]
  },
  {
   "cell_type": "code",
   "execution_count": null,
   "id": "36e28df0-8362-4443-b3ca-83a12b1e27f5",
   "metadata": {},
   "outputs": [
    {
     "data": {
      "text/plain": [
       "int"
      ]
     },
     "execution_count": 22,
     "metadata": {},
     "output_type": "execute_result"
    }
   ],
   "source": [
    "type(2)"
   ]
  },
  {
   "cell_type": "code",
   "execution_count": null,
   "id": "be80c284-5c27-4384-bad9-84eba5f922a5",
   "metadata": {},
   "outputs": [
    {
     "data": {
      "text/plain": [
       "int"
      ]
     },
     "execution_count": 24,
     "metadata": {},
     "output_type": "execute_result"
    }
   ],
   "source": [
    "type(2)"
   ]
  },
  {
   "cell_type": "code",
   "execution_count": null,
   "id": "6328a5ba-928e-4839-ac2c-0c20d4037062",
   "metadata": {},
   "outputs": [
    {
     "data": {
      "text/plain": [
       "float"
      ]
     },
     "execution_count": 25,
     "metadata": {},
     "output_type": "execute_result"
    }
   ],
   "source": [
    "type(42.0)"
   ]
  },
  {
   "cell_type": "code",
   "execution_count": null,
   "id": "1559ad5c-509b-4980-8b57-b3caa3c89919",
   "metadata": {},
   "outputs": [
    {
     "data": {
      "text/plain": [
       "str"
      ]
     },
     "execution_count": 26,
     "metadata": {},
     "output_type": "execute_result"
    }
   ],
   "source": [
    "type('thomas')"
   ]
  },
  {
   "cell_type": "code",
   "execution_count": null,
   "id": "1fdddf52-ed1b-4f2c-a86e-9fadcaafc32a",
   "metadata": {},
   "outputs": [
    {
     "data": {
      "text/plain": [
       "42"
      ]
     },
     "execution_count": 27,
     "metadata": {},
     "output_type": "execute_result"
    }
   ],
   "source": [
    "int(42.9)"
   ]
  },
  {
   "cell_type": "code",
   "execution_count": null,
   "id": "b7ebca8f-ba55-46a5-99f0-d38419dad735",
   "metadata": {},
   "outputs": [
    {
     "data": {
      "text/plain": [
       "42.0"
      ]
     },
     "execution_count": 28,
     "metadata": {},
     "output_type": "execute_result"
    }
   ],
   "source": [
    "float(42)"
   ]
  },
  {
   "cell_type": "code",
   "execution_count": null,
   "id": "b6844a35-efcd-40b5-a107-6d168837318f",
   "metadata": {},
   "outputs": [
    {
     "data": {
      "text/plain": [
       "'126'"
      ]
     },
     "execution_count": 29,
     "metadata": {},
     "output_type": "execute_result"
    }
   ],
   "source": [
    "'126'"
   ]
  },
  {
   "cell_type": "code",
   "execution_count": null,
   "id": "c9f9161f-485b-49fa-bae9-64dd6198c8a0",
   "metadata": {},
   "outputs": [
    {
     "data": {
      "text/plain": [
       "42.0"
      ]
     },
     "execution_count": 30,
     "metadata": {},
     "output_type": "execute_result"
    }
   ],
   "source": [
    "int('126')/3"
   ]
  },
  {
   "cell_type": "code",
   "execution_count": null,
   "id": "b1394c6c-a4cb-4c2f-9e0d-e5ab5465896f",
   "metadata": {},
   "outputs": [
    {
     "data": {
      "text/plain": [
       "12.6"
      ]
     },
     "execution_count": 31,
     "metadata": {},
     "output_type": "execute_result"
    }
   ],
   "source": [
    "float('12.6')"
   ]
  },
  {
   "cell_type": "code",
   "execution_count": null,
   "id": "ce24428b-282b-49f1-b0dd-dbeda59cdcd2",
   "metadata": {},
   "outputs": [
    {
     "data": {
      "text/plain": [
       "(1, 0, 0)"
      ]
     },
     "execution_count": 32,
     "metadata": {},
     "output_type": "execute_result"
    }
   ],
   "source": [
    "1,000,000"
   ]
  },
  {
   "cell_type": "code",
   "execution_count": null,
   "id": "d963bc9c-b58b-4153-a204-c850774f3c53",
   "metadata": {},
   "outputs": [
    {
     "data": {
      "text/plain": [
       "1000000"
      ]
     },
     "execution_count": 33,
     "metadata": {},
     "output_type": "execute_result"
    }
   ],
   "source": [
    "1_000_000"
   ]
  },
  {
   "cell_type": "code",
   "execution_count": null,
   "id": "5e021c13-c7e6-43d8-86d0-981f6360fd7a",
   "metadata": {},
   "outputs": [
    {
     "data": {
      "text/plain": [
       "42"
      ]
     },
     "execution_count": 34,
     "metadata": {},
     "output_type": "execute_result"
    }
   ],
   "source": [
    "round(42.5)"
   ]
  },
  {
   "cell_type": "code",
   "execution_count": null,
   "id": "840ae63e-abee-4aab-86b9-33f66512041d",
   "metadata": {},
   "outputs": [
    {
     "data": {
      "text/plain": [
       "4"
      ]
     },
     "execution_count": 35,
     "metadata": {},
     "output_type": "execute_result"
    }
   ],
   "source": [
    "#1.9.3 Exercise 1\n",
    "+2+2"
   ]
  },
  {
   "cell_type": "code",
   "execution_count": null,
   "id": "b6852ce5-0d4e-460b-a384-68b3165bc28f",
   "metadata": {},
   "outputs": [
    {
     "data": {
      "text/plain": [
       "4"
      ]
     },
     "execution_count": 36,
     "metadata": {},
     "output_type": "execute_result"
    }
   ],
   "source": [
    "2++2"
   ]
  },
  {
   "cell_type": "code",
   "execution_count": null,
   "id": "acc739b4-7874-4798-a04e-9dd5a6f5f479",
   "metadata": {},
   "outputs": [
    {
     "ename": "SyntaxError",
     "evalue": "invalid syntax (2842612692.py, line 2)",
     "output_type": "error",
     "traceback": [
      "\u001b[0;36m  Cell \u001b[0;32mIn[37], line 2\u001b[0;36m\u001b[0m\n\u001b[0;31m    4 2\u001b[0m\n\u001b[0m      ^\u001b[0m\n\u001b[0;31mSyntaxError\u001b[0m\u001b[0;31m:\u001b[0m invalid syntax\n"
     ]
    }
   ],
   "source": [
    "#1.9.3 Exercise 2\n",
    "4 2"
   ]
  },
  {
   "cell_type": "code",
   "execution_count": null,
   "id": "d32bf6e0-f6d9-44b3-9fcd-8aea0629fc80",
   "metadata": {},
   "outputs": [
    {
     "ename": "_IncompleteInputError",
     "evalue": "incomplete input (1197073439.py, line 2)",
     "output_type": "error",
     "traceback": [
      "\u001b[0;36m  Cell \u001b[0;32mIn[38], line 2\u001b[0;36m\u001b[0m\n\u001b[0;31m    round(42.5\u001b[0m\n\u001b[0m              ^\u001b[0m\n\u001b[0;31m_IncompleteInputError\u001b[0m\u001b[0;31m:\u001b[0m incomplete input\n"
     ]
    }
   ],
   "source": [
    "#1.9.3 Exercise 3\n",
    "round(42.5"
   ]
  },
  {
   "cell_type": "code",
   "execution_count": null,
   "id": "216efae6-2461-4374-b759-a1614fc73f9b",
   "metadata": {},
   "outputs": [
    {
     "data": {
      "text/plain": [
       "int"
      ]
     },
     "execution_count": 39,
     "metadata": {},
     "output_type": "execute_result"
    }
   ],
   "source": [
    "type(765)"
   ]
  },
  {
   "cell_type": "code",
   "execution_count": null,
   "id": "0f4aad42-e5a2-48aa-b76b-65c91cb0dda4",
   "metadata": {},
   "outputs": [
    {
     "data": {
      "text/plain": [
       "str"
      ]
     },
     "execution_count": 40,
     "metadata": {},
     "output_type": "execute_result"
    }
   ],
   "source": [
    "type('2 pi')"
   ]
  },
  {
   "cell_type": "code",
   "execution_count": null,
   "id": "664f0d6d-17ea-4ca6-b67c-68c8be5a6e07",
   "metadata": {},
   "outputs": [
    {
     "data": {
      "text/plain": [
       "2532"
      ]
     },
     "execution_count": 41,
     "metadata": {},
     "output_type": "execute_result"
    }
   ],
   "source": [
    "#1.9.5 Exercise 1 How many seconds are there in 42 minutes 42 seconds?\n",
    "(42 * 60) + 12\n"
   ]
  },
  {
   "cell_type": "code",
   "execution_count": null,
   "id": "031add0c-4c9a-46fe-8b04-8c67c0263d7a",
   "metadata": {},
   "outputs": [
    {
     "data": {
      "text/plain": [
       "6.211180124223602"
      ]
     },
     "execution_count": 42,
     "metadata": {},
     "output_type": "execute_result"
    }
   ],
   "source": [
    "#1.9.5 Exercise 2 How many miles are there in 10 kilometers? Hint: there are 1.61 kilometers in a mile\n",
    "10 / 1.61"
   ]
  },
  {
   "cell_type": "code",
   "execution_count": null,
   "id": "38395cc5-2203-4482-8ded-86aa3fd6f1ba",
   "metadata": {},
   "outputs": [
    {
     "data": {
      "text/plain": [
       "407.65200000000004"
      ]
     },
     "execution_count": 52,
     "metadata": {},
     "output_type": "execute_result"
    }
   ],
   "source": [
    "#1.9.5 Exercise 3 If you run a 10 kilometer race in 42 minutes 42 seconds, what is your average pace in seconds per mile\n",
    "((42 * 60) + 12) / (10 / 1.61)"
   ]
  },
  {
   "cell_type": "code",
   "execution_count": null,
   "id": "6e55ca5a-096b-49cc-8bbe-9486e5289fa2",
   "metadata": {},
   "outputs": [
    {
     "data": {
      "text/plain": [
       "6.874700000000002"
      ]
     },
     "execution_count": 53,
     "metadata": {},
     "output_type": "execute_result"
    }
   ],
   "source": [
    "#1.9.5 Exercise 4 What is your average pace in minutes and seconds per mile?\n",
    "(42 + (42/60)) / (10 / 1.61)"
   ]
  },
  {
   "cell_type": "code",
   "execution_count": null,
   "id": "12c4ceaa-1729-45b0-8e41-77fda90968de",
   "metadata": {},
   "outputs": [
    {
     "data": {
      "text/plain": [
       "0.13148333333333334"
      ]
     },
     "execution_count": 54,
     "metadata": {},
     "output_type": "execute_result"
    }
   ],
   "source": [
    "#1.9.5 Exercise 4 What is your average speed in miles per hour?\n",
    "((42/60) + (42/360))/ (10 / 1.61)"
   ]
  },
  {
   "cell_type": "code",
   "execution_count": null,
   "id": "9229fc3c-53e5-48ea-8268-131b1b8e81fc",
   "metadata": {},
   "outputs": [],
   "source": []
  }
 ],
 "metadata": {
  "kernelspec": {
   "display_name": "Python [conda env:base] *",
   "language": "python",
   "name": "conda-base-py"
  },
  "language_info": {
   "codemirror_mode": {
    "name": "ipython",
    "version": 3
   },
   "file_extension": ".py",
   "mimetype": "text/x-python",
   "name": "python",
   "nbconvert_exporter": "python",
   "pygments_lexer": "ipython3",
   "version": "3.13.5"
  }
 },
 "nbformat": 4,
 "nbformat_minor": 5
}
